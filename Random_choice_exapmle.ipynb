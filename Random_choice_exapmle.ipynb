{
  "nbformat": 4,
  "nbformat_minor": 0,
  "metadata": {
    "colab": {
      "name": "Random_choice_exapmle.ipynb",
      "provenance": [],
      "collapsed_sections": [],
      "authorship_tag": "ABX9TyMS2Vb3CS2J81Z2cCso7gUx"
    },
    "kernelspec": {
      "name": "python3",
      "display_name": "Python 3"
    },
    "language_info": {
      "name": "python"
    }
  },
  "cells": [
    {
      "cell_type": "code",
      "metadata": {
        "colab": {
          "base_uri": "https://localhost:8080/"
        },
        "id": "3DdfpYts_gTr",
        "outputId": "72de8d22-3c57-4436-925e-4a2a055e474f"
      },
      "source": [
        "try:\n",
        "    import google.colab\n",
        "    IN_COLAB = True\n",
        "except:\n",
        "    IN_COLAB = False\n",
        "\n",
        "if IN_COLAB:\n",
        "    !wget -q -O requirements.txt https://raw.githubusercontent.com/andriygav/MachineLearningSeminars/master/sem1/requirements.txt\n",
        "    !pip install -q -r requirements.txt"
      ],
      "execution_count": null,
      "outputs": [
        {
          "output_type": "stream",
          "name": "stdout",
          "text": [
            "\u001b[K     |████████████████████████████████| 22.3 MB 1.7 MB/s \n",
            "\u001b[?25h"
          ]
        }
      ]
    },
    {
      "cell_type": "code",
      "metadata": {
        "colab": {
          "base_uri": "https://localhost:8080/"
        },
        "id": "5HI1ABoW_pi5",
        "outputId": "518701fe-d145-4f6a-a39e-2e31eaaf3ecc"
      },
      "source": [
        "from zlib import crc32\n",
        "import numpy as np\n",
        "\n",
        "types = ['regression', 'classification']\n",
        "datasets = {'regression': [{'name': 'Servo Data Set',\n",
        "                            'url': 'https://archive.ics.uci.edu/ml/datasets/Servo'}, \n",
        "                           {'name': 'Forest Fires Data Set',\n",
        "                            'url': 'https://archive.ics.uci.edu/ml/datasets/Forest+Fires'},\n",
        "                           {'name': 'Boston Housing Data Set',\n",
        "                            'url': 'https://scikit-learn.org/stable/modules/generated/sklearn.datasets.load_boston.html#sklearn.datasets.load_boston'}, \n",
        "                           {'name': 'Diabetes Data Set',\n",
        "                            'url': 'https://scikit-learn.org/stable/modules/generated/sklearn.datasets.load_diabetes.html#sklearn.datasets.load_diabetes'}],\n",
        "            'classification': [{'name': 'Spambase Data Set',\n",
        "                                'url': 'https://archive.ics.uci.edu/ml/datasets/Spambase'}, \n",
        "                               {'name': 'Wine Data Set',\n",
        "                                'url': 'https://scikit-learn.org/stable/modules/generated/sklearn.datasets.load_wine.html#sklearn.datasets.load_wine'}, \n",
        "                               {'name': 'Breast Cancer Data Set',\n",
        "                                'url': 'https://scikit-learn.org/stable/modules/generated/sklearn.datasets.load_breast_cancer.html#sklearn.datasets.load_breast_cancer'}, \n",
        "                               {'name': 'MNIST',\n",
        "                                'url': 'http://yann.lecun.com/exdb/mnist/'}]}\n",
        "methods = {'regression': ['Линейная регрессия', \n",
        "                          'Перцептрон', \n",
        "                          'Надарая-Ватсона',\n",
        "                          'SVR'],\n",
        "           'classification': ['Логистическая регрессия', \n",
        "                              'Перцептрон', \n",
        "                              'k-ближайших соседей',\n",
        "                              'Метод потенциальных функций',\n",
        "                              'Метод Парзеновского окна', \n",
        "                              'SVM']}\n",
        "task = dict()\n",
        "task['mail'] = input(prompt='Enter your mail: ')\n",
        "task['id'] = crc32(task['mail'].encode('utf-8'))\n",
        "np.random.seed(task['id'])\n",
        "task['type'] = np.random.choice(types)\n",
        "task['dataset'] = np.random.choice(datasets[task['type']])\n",
        "task['method'] = np.random.choice(\n",
        "    methods[task['type']], size=2, replace=False).tolist()\n",
        "\n",
        "\n",
        "task"
      ],
      "execution_count": null,
      "outputs": [
        {
          "name": "stdout",
          "output_type": "stream",
          "text": [
            "Enter your mail: antipov.ae@phystech.edu\n"
          ]
        },
        {
          "output_type": "execute_result",
          "data": {
            "text/plain": [
              "{'dataset': {'name': 'MNIST', 'url': 'http://yann.lecun.com/exdb/mnist/'},\n",
              " 'id': 2918466081,\n",
              " 'mail': 'antipov.ae@phystech.edu',\n",
              " 'method': ['Перцептрон', 'Метод Парзеновского окна'],\n",
              " 'type': 'classification'}"
            ]
          },
          "metadata": {},
          "execution_count": 3
        }
      ]
    }
  ]
}