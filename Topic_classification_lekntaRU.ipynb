{
  "cells": [
    {
      "cell_type": "markdown",
      "metadata": {
        "id": "obkNvBMKDiho"
      },
      "source": [
        "# Домашнее задание 2-2. "
      ]
    },
    {
      "cell_type": "markdown",
      "metadata": {
        "id": "j3p1ObWB8Ke9"
      },
      "source": [
        "\n",
        "# Задача 2. Классификация даты документа.\n",
        "\n",
        "Выполнил: Антипов Александр Евгеньевич, группа Б01-818\n",
        "\n",
        "Преподаватели: Грабовой Андрей Валериевич, Воронцов Константин Вячеславович \\\n",
        "Благодарность за консультации: Чемров Кирилл, Троегубов Александр"
      ]
    },
    {
      "cell_type": "markdown",
      "metadata": {
        "id": "APUKs1Ns4Kue"
      },
      "source": [
        "# Библиотеки"
      ]
    },
    {
      "cell_type": "code",
      "execution_count": null,
      "metadata": {
        "colab": {
          "base_uri": "https://localhost:8080/"
        },
        "id": "w7-P6Y1yDY-p",
        "outputId": "cc56e0d8-df82-479f-b09b-98e422c09edd"
      },
      "outputs": [
        {
          "output_type": "stream",
          "name": "stdout",
          "text": [
            "\u001b[K     |████████████████████████████████| 1.9 MB 5.4 MB/s \n",
            "\u001b[K     |████████████████████████████████| 55 kB 3.0 MB/s \n",
            "\u001b[K     |████████████████████████████████| 1.7 MB 38.0 MB/s \n",
            "\u001b[?25h  Installing build dependencies ... \u001b[?25l\u001b[?25hdone\n",
            "  Getting requirements to build wheel ... \u001b[?25l\u001b[?25hdone\n",
            "  Installing backend dependencies ... \u001b[?25l\u001b[?25hdone\n",
            "    Preparing wheel metadata ... \u001b[?25l\u001b[?25hdone\n",
            "\u001b[K     |████████████████████████████████| 8.2 MB 29.1 MB/s \n",
            "\u001b[K     |████████████████████████████████| 371 kB 36.1 MB/s \n",
            "\u001b[?25h  Building wheel for pyLDAvis (PEP 517) ... \u001b[?25l\u001b[?25hdone\n",
            "  Building wheel for DAWG (setup.py) ... \u001b[?25l\u001b[?25hdone\n"
          ]
        }
      ],
      "source": [
        "!pip install --quiet -U bigartm pymorphy2[fast] pyLDAvis"
      ]
    },
    {
      "cell_type": "code",
      "execution_count": null,
      "metadata": {
        "id": "EwR2QoZqEEQ5"
      },
      "outputs": [],
      "source": [
        "import matplotlib.pyplot as plt\n",
        "from mpl_toolkits import mplot3d\n",
        "from matplotlib import gridspec\n",
        "\n",
        "from tqdm.notebook import tqdm\n",
        "import numpy as np\n",
        "import  pandas as pd\n",
        "import seaborn as sns\n",
        "import pymorphy2\n",
        "import torch\n",
        "import scipy\n",
        "from sklearn.utils import shuffle\n",
        "import re\n",
        "\n",
        "import artm\n",
        "\n",
        "from sklearn.feature_extraction.text import CountVectorizer\n",
        "from sklearn.decomposition import LatentDirichletAllocation\n",
        "from sklearn.ensemble import RandomForestClassifier\n",
        "from sklearn.linear_model import LogisticRegression\n",
        "from sklearn.metrics import classification_report\n",
        "import xgboost as xgb\n",
        "#from torch.utils.tensorboard import SummaryWriter"
      ]
    },
    {
      "cell_type": "code",
      "execution_count": null,
      "metadata": {
        "id": "pnhPn26MEEzB"
      },
      "outputs": [],
      "source": [
        "import warnings\n",
        "warnings.filterwarnings(\"ignore\")"
      ]
    },
    {
      "cell_type": "code",
      "execution_count": null,
      "metadata": {
        "colab": {
          "base_uri": "https://localhost:8080/"
        },
        "id": "NDRMLiXmEHX4",
        "outputId": "1859814d-c5b7-4ff2-9cf1-cb6845db5d26"
      },
      "outputs": [
        {
          "output_type": "execute_result",
          "data": {
            "text/plain": [
              "device(type='cuda')"
            ]
          },
          "metadata": {},
          "execution_count": 4
        }
      ],
      "source": [
        "device = torch.device(\"cuda\" if torch.cuda.is_available() else \"cpu\")\n",
        "device"
      ]
    },
    {
      "cell_type": "code",
      "execution_count": null,
      "metadata": {
        "colab": {
          "base_uri": "https://localhost:8080/"
        },
        "id": "0g7cXokFHZtp",
        "outputId": "6b1e14ec-53e7-4448-b81c-b661b61da79e"
      },
      "outputs": [
        {
          "output_type": "stream",
          "name": "stdout",
          "text": [
            "Mounted at /content/drive\n"
          ]
        }
      ],
      "source": [
        "from google.colab import drive\n",
        "drive.mount('/content/drive')"
      ]
    },
    {
      "cell_type": "markdown",
      "metadata": {
        "id": "pasNfkPiHuxk"
      },
      "source": [
        "#Загружаем данные"
      ]
    },
    {
      "cell_type": "markdown",
      "metadata": {
        "id": "dClvQ2i6a7q5"
      },
      "source": [
        "Выборка представляет собой набор новостных статей с сайта lenta.ru за 22 года:(1999--2020 гг.) \\ \n",
        "Предлагается реализовать классификатор статей по году их публикации."
      ]
    },
    {
      "cell_type": "code",
      "execution_count": null,
      "metadata": {
        "id": "qBL2s51wtg5w"
      },
      "outputs": [],
      "source": [
        "# Директория с датасетом\n",
        "DIR='/content/drive/MyDrive/Colab Notebooks/Topic_classification'"
      ]
    },
    {
      "cell_type": "markdown",
      "metadata": {
        "id": "7rLCd6_U8uOg"
      },
      "source": [
        "Визуализация необработанных данных"
      ]
    },
    {
      "cell_type": "code",
      "execution_count": null,
      "metadata": {
        "colab": {
          "base_uri": "https://localhost:8080/",
          "height": 424
        },
        "id": "YkdqmrsQHwAQ",
        "outputId": "c7af0de1-8fe3-4d93-8c47-373ce5c7da97"
      },
      "outputs": [
        {
          "output_type": "execute_result",
          "data": {
            "text/plain": [
              "                                                     text      tags   len  \\\n",
              "0       С 1 сентября на всей территории России вводитс...       Все  1654   \n",
              "1       По сведениям миссии ООН, передаваемым РИА \"Нов...       Все  1086   \n",
              "2       15 представителей национал-большевистской парт...       Все  1219   \n",
              "3       Намеченная на сегодняшний день церемония вступ...       Все  3094   \n",
              "4       На юге Киргизии, а именно в Баткенском и Чон-А...       Все  1354   \n",
              "...                                                   ...       ...   ...   \n",
              "863280  Популярное место среди туристов в Мурманской о...    Россия  1231   \n",
              "863281  Рейтинги от международного рейтингового агентс...       NaN  1425   \n",
              "863282  Российские ученые нашли в Якутии новый подвид ...   События  1299   \n",
              "863283  Для указания коронавируса как причины смерти ч...  Общество  2061   \n",
              "863284  Президент США Дональд Трамп стал посредником в...  Политика  1020   \n",
              "\n",
              "              date  \n",
              "0       31-08-1999  \n",
              "1       31-08-1999  \n",
              "2       31-08-1999  \n",
              "3       31-08-1999  \n",
              "4       31-08-1999  \n",
              "...            ...  \n",
              "863280  11-09-2020  \n",
              "863281  11-09-2020  \n",
              "863282  11-09-2020  \n",
              "863283  11-09-2020  \n",
              "863284  11-09-2020  \n",
              "\n",
              "[863285 rows x 4 columns]"
            ],
            "text/html": [
              "\n",
              "  <div id=\"df-45c1843e-cdf3-42e7-94b5-dae0aaa2e44f\">\n",
              "    <div class=\"colab-df-container\">\n",
              "      <div>\n",
              "<style scoped>\n",
              "    .dataframe tbody tr th:only-of-type {\n",
              "        vertical-align: middle;\n",
              "    }\n",
              "\n",
              "    .dataframe tbody tr th {\n",
              "        vertical-align: top;\n",
              "    }\n",
              "\n",
              "    .dataframe thead th {\n",
              "        text-align: right;\n",
              "    }\n",
              "</style>\n",
              "<table border=\"1\" class=\"dataframe\">\n",
              "  <thead>\n",
              "    <tr style=\"text-align: right;\">\n",
              "      <th></th>\n",
              "      <th>text</th>\n",
              "      <th>tags</th>\n",
              "      <th>len</th>\n",
              "      <th>date</th>\n",
              "    </tr>\n",
              "  </thead>\n",
              "  <tbody>\n",
              "    <tr>\n",
              "      <th>0</th>\n",
              "      <td>С 1 сентября на всей территории России вводитс...</td>\n",
              "      <td>Все</td>\n",
              "      <td>1654</td>\n",
              "      <td>31-08-1999</td>\n",
              "    </tr>\n",
              "    <tr>\n",
              "      <th>1</th>\n",
              "      <td>По сведениям миссии ООН, передаваемым РИА \"Нов...</td>\n",
              "      <td>Все</td>\n",
              "      <td>1086</td>\n",
              "      <td>31-08-1999</td>\n",
              "    </tr>\n",
              "    <tr>\n",
              "      <th>2</th>\n",
              "      <td>15 представителей национал-большевистской парт...</td>\n",
              "      <td>Все</td>\n",
              "      <td>1219</td>\n",
              "      <td>31-08-1999</td>\n",
              "    </tr>\n",
              "    <tr>\n",
              "      <th>3</th>\n",
              "      <td>Намеченная на сегодняшний день церемония вступ...</td>\n",
              "      <td>Все</td>\n",
              "      <td>3094</td>\n",
              "      <td>31-08-1999</td>\n",
              "    </tr>\n",
              "    <tr>\n",
              "      <th>4</th>\n",
              "      <td>На юге Киргизии, а именно в Баткенском и Чон-А...</td>\n",
              "      <td>Все</td>\n",
              "      <td>1354</td>\n",
              "      <td>31-08-1999</td>\n",
              "    </tr>\n",
              "    <tr>\n",
              "      <th>...</th>\n",
              "      <td>...</td>\n",
              "      <td>...</td>\n",
              "      <td>...</td>\n",
              "      <td>...</td>\n",
              "    </tr>\n",
              "    <tr>\n",
              "      <th>863280</th>\n",
              "      <td>Популярное место среди туристов в Мурманской о...</td>\n",
              "      <td>Россия</td>\n",
              "      <td>1231</td>\n",
              "      <td>11-09-2020</td>\n",
              "    </tr>\n",
              "    <tr>\n",
              "      <th>863281</th>\n",
              "      <td>Рейтинги от международного рейтингового агентс...</td>\n",
              "      <td>NaN</td>\n",
              "      <td>1425</td>\n",
              "      <td>11-09-2020</td>\n",
              "    </tr>\n",
              "    <tr>\n",
              "      <th>863282</th>\n",
              "      <td>Российские ученые нашли в Якутии новый подвид ...</td>\n",
              "      <td>События</td>\n",
              "      <td>1299</td>\n",
              "      <td>11-09-2020</td>\n",
              "    </tr>\n",
              "    <tr>\n",
              "      <th>863283</th>\n",
              "      <td>Для указания коронавируса как причины смерти ч...</td>\n",
              "      <td>Общество</td>\n",
              "      <td>2061</td>\n",
              "      <td>11-09-2020</td>\n",
              "    </tr>\n",
              "    <tr>\n",
              "      <th>863284</th>\n",
              "      <td>Президент США Дональд Трамп стал посредником в...</td>\n",
              "      <td>Политика</td>\n",
              "      <td>1020</td>\n",
              "      <td>11-09-2020</td>\n",
              "    </tr>\n",
              "  </tbody>\n",
              "</table>\n",
              "<p>863285 rows × 4 columns</p>\n",
              "</div>\n",
              "      <button class=\"colab-df-convert\" onclick=\"convertToInteractive('df-45c1843e-cdf3-42e7-94b5-dae0aaa2e44f')\"\n",
              "              title=\"Convert this dataframe to an interactive table.\"\n",
              "              style=\"display:none;\">\n",
              "        \n",
              "  <svg xmlns=\"http://www.w3.org/2000/svg\" height=\"24px\"viewBox=\"0 0 24 24\"\n",
              "       width=\"24px\">\n",
              "    <path d=\"M0 0h24v24H0V0z\" fill=\"none\"/>\n",
              "    <path d=\"M18.56 5.44l.94 2.06.94-2.06 2.06-.94-2.06-.94-.94-2.06-.94 2.06-2.06.94zm-11 1L8.5 8.5l.94-2.06 2.06-.94-2.06-.94L8.5 2.5l-.94 2.06-2.06.94zm10 10l.94 2.06.94-2.06 2.06-.94-2.06-.94-.94-2.06-.94 2.06-2.06.94z\"/><path d=\"M17.41 7.96l-1.37-1.37c-.4-.4-.92-.59-1.43-.59-.52 0-1.04.2-1.43.59L10.3 9.45l-7.72 7.72c-.78.78-.78 2.05 0 2.83L4 21.41c.39.39.9.59 1.41.59.51 0 1.02-.2 1.41-.59l7.78-7.78 2.81-2.81c.8-.78.8-2.07 0-2.86zM5.41 20L4 18.59l7.72-7.72 1.47 1.35L5.41 20z\"/>\n",
              "  </svg>\n",
              "      </button>\n",
              "      \n",
              "  <style>\n",
              "    .colab-df-container {\n",
              "      display:flex;\n",
              "      flex-wrap:wrap;\n",
              "      gap: 12px;\n",
              "    }\n",
              "\n",
              "    .colab-df-convert {\n",
              "      background-color: #E8F0FE;\n",
              "      border: none;\n",
              "      border-radius: 50%;\n",
              "      cursor: pointer;\n",
              "      display: none;\n",
              "      fill: #1967D2;\n",
              "      height: 32px;\n",
              "      padding: 0 0 0 0;\n",
              "      width: 32px;\n",
              "    }\n",
              "\n",
              "    .colab-df-convert:hover {\n",
              "      background-color: #E2EBFA;\n",
              "      box-shadow: 0px 1px 2px rgba(60, 64, 67, 0.3), 0px 1px 3px 1px rgba(60, 64, 67, 0.15);\n",
              "      fill: #174EA6;\n",
              "    }\n",
              "\n",
              "    [theme=dark] .colab-df-convert {\n",
              "      background-color: #3B4455;\n",
              "      fill: #D2E3FC;\n",
              "    }\n",
              "\n",
              "    [theme=dark] .colab-df-convert:hover {\n",
              "      background-color: #434B5C;\n",
              "      box-shadow: 0px 1px 3px 1px rgba(0, 0, 0, 0.15);\n",
              "      filter: drop-shadow(0px 1px 2px rgba(0, 0, 0, 0.3));\n",
              "      fill: #FFFFFF;\n",
              "    }\n",
              "  </style>\n",
              "\n",
              "      <script>\n",
              "        const buttonEl =\n",
              "          document.querySelector('#df-45c1843e-cdf3-42e7-94b5-dae0aaa2e44f button.colab-df-convert');\n",
              "        buttonEl.style.display =\n",
              "          google.colab.kernel.accessAllowed ? 'block' : 'none';\n",
              "\n",
              "        async function convertToInteractive(key) {\n",
              "          const element = document.querySelector('#df-45c1843e-cdf3-42e7-94b5-dae0aaa2e44f');\n",
              "          const dataTable =\n",
              "            await google.colab.kernel.invokeFunction('convertToInteractive',\n",
              "                                                     [key], {});\n",
              "          if (!dataTable) return;\n",
              "\n",
              "          const docLinkHtml = 'Like what you see? Visit the ' +\n",
              "            '<a target=\"_blank\" href=https://colab.research.google.com/notebooks/data_table.ipynb>data table notebook</a>'\n",
              "            + ' to learn more about interactive tables.';\n",
              "          element.innerHTML = '';\n",
              "          dataTable['output_type'] = 'display_data';\n",
              "          await google.colab.output.renderOutput(dataTable, element);\n",
              "          const docLink = document.createElement('div');\n",
              "          docLink.innerHTML = docLinkHtml;\n",
              "          element.appendChild(docLink);\n",
              "        }\n",
              "      </script>\n",
              "    </div>\n",
              "  </div>\n",
              "  "
            ]
          },
          "metadata": {},
          "execution_count": 7
        }
      ],
      "source": [
        "data = pd.read_csv(f'{DIR}/lenta-ru-filtered.csv')\n",
        "data"
      ]
    },
    {
      "cell_type": "code",
      "execution_count": null,
      "metadata": {
        "colab": {
          "base_uri": "https://localhost:8080/",
          "height": 300
        },
        "id": "M0PrdH-YH-hM",
        "outputId": "7583d50a-bb76-4a01-c079-a5bc142779a7"
      },
      "outputs": [
        {
          "output_type": "execute_result",
          "data": {
            "text/plain": [
              "                 len\n",
              "count  863285.000000\n",
              "mean     1341.245505\n",
              "std       572.066583\n",
              "min         3.000000\n",
              "25%       980.000000\n",
              "50%      1253.000000\n",
              "75%      1596.000000\n",
              "max     55387.000000"
            ],
            "text/html": [
              "\n",
              "  <div id=\"df-453eb9e2-1d5c-4a15-ae1f-5fe2371b57eb\">\n",
              "    <div class=\"colab-df-container\">\n",
              "      <div>\n",
              "<style scoped>\n",
              "    .dataframe tbody tr th:only-of-type {\n",
              "        vertical-align: middle;\n",
              "    }\n",
              "\n",
              "    .dataframe tbody tr th {\n",
              "        vertical-align: top;\n",
              "    }\n",
              "\n",
              "    .dataframe thead th {\n",
              "        text-align: right;\n",
              "    }\n",
              "</style>\n",
              "<table border=\"1\" class=\"dataframe\">\n",
              "  <thead>\n",
              "    <tr style=\"text-align: right;\">\n",
              "      <th></th>\n",
              "      <th>len</th>\n",
              "    </tr>\n",
              "  </thead>\n",
              "  <tbody>\n",
              "    <tr>\n",
              "      <th>count</th>\n",
              "      <td>863285.000000</td>\n",
              "    </tr>\n",
              "    <tr>\n",
              "      <th>mean</th>\n",
              "      <td>1341.245505</td>\n",
              "    </tr>\n",
              "    <tr>\n",
              "      <th>std</th>\n",
              "      <td>572.066583</td>\n",
              "    </tr>\n",
              "    <tr>\n",
              "      <th>min</th>\n",
              "      <td>3.000000</td>\n",
              "    </tr>\n",
              "    <tr>\n",
              "      <th>25%</th>\n",
              "      <td>980.000000</td>\n",
              "    </tr>\n",
              "    <tr>\n",
              "      <th>50%</th>\n",
              "      <td>1253.000000</td>\n",
              "    </tr>\n",
              "    <tr>\n",
              "      <th>75%</th>\n",
              "      <td>1596.000000</td>\n",
              "    </tr>\n",
              "    <tr>\n",
              "      <th>max</th>\n",
              "      <td>55387.000000</td>\n",
              "    </tr>\n",
              "  </tbody>\n",
              "</table>\n",
              "</div>\n",
              "      <button class=\"colab-df-convert\" onclick=\"convertToInteractive('df-453eb9e2-1d5c-4a15-ae1f-5fe2371b57eb')\"\n",
              "              title=\"Convert this dataframe to an interactive table.\"\n",
              "              style=\"display:none;\">\n",
              "        \n",
              "  <svg xmlns=\"http://www.w3.org/2000/svg\" height=\"24px\"viewBox=\"0 0 24 24\"\n",
              "       width=\"24px\">\n",
              "    <path d=\"M0 0h24v24H0V0z\" fill=\"none\"/>\n",
              "    <path d=\"M18.56 5.44l.94 2.06.94-2.06 2.06-.94-2.06-.94-.94-2.06-.94 2.06-2.06.94zm-11 1L8.5 8.5l.94-2.06 2.06-.94-2.06-.94L8.5 2.5l-.94 2.06-2.06.94zm10 10l.94 2.06.94-2.06 2.06-.94-2.06-.94-.94-2.06-.94 2.06-2.06.94z\"/><path d=\"M17.41 7.96l-1.37-1.37c-.4-.4-.92-.59-1.43-.59-.52 0-1.04.2-1.43.59L10.3 9.45l-7.72 7.72c-.78.78-.78 2.05 0 2.83L4 21.41c.39.39.9.59 1.41.59.51 0 1.02-.2 1.41-.59l7.78-7.78 2.81-2.81c.8-.78.8-2.07 0-2.86zM5.41 20L4 18.59l7.72-7.72 1.47 1.35L5.41 20z\"/>\n",
              "  </svg>\n",
              "      </button>\n",
              "      \n",
              "  <style>\n",
              "    .colab-df-container {\n",
              "      display:flex;\n",
              "      flex-wrap:wrap;\n",
              "      gap: 12px;\n",
              "    }\n",
              "\n",
              "    .colab-df-convert {\n",
              "      background-color: #E8F0FE;\n",
              "      border: none;\n",
              "      border-radius: 50%;\n",
              "      cursor: pointer;\n",
              "      display: none;\n",
              "      fill: #1967D2;\n",
              "      height: 32px;\n",
              "      padding: 0 0 0 0;\n",
              "      width: 32px;\n",
              "    }\n",
              "\n",
              "    .colab-df-convert:hover {\n",
              "      background-color: #E2EBFA;\n",
              "      box-shadow: 0px 1px 2px rgba(60, 64, 67, 0.3), 0px 1px 3px 1px rgba(60, 64, 67, 0.15);\n",
              "      fill: #174EA6;\n",
              "    }\n",
              "\n",
              "    [theme=dark] .colab-df-convert {\n",
              "      background-color: #3B4455;\n",
              "      fill: #D2E3FC;\n",
              "    }\n",
              "\n",
              "    [theme=dark] .colab-df-convert:hover {\n",
              "      background-color: #434B5C;\n",
              "      box-shadow: 0px 1px 3px 1px rgba(0, 0, 0, 0.15);\n",
              "      filter: drop-shadow(0px 1px 2px rgba(0, 0, 0, 0.3));\n",
              "      fill: #FFFFFF;\n",
              "    }\n",
              "  </style>\n",
              "\n",
              "      <script>\n",
              "        const buttonEl =\n",
              "          document.querySelector('#df-453eb9e2-1d5c-4a15-ae1f-5fe2371b57eb button.colab-df-convert');\n",
              "        buttonEl.style.display =\n",
              "          google.colab.kernel.accessAllowed ? 'block' : 'none';\n",
              "\n",
              "        async function convertToInteractive(key) {\n",
              "          const element = document.querySelector('#df-453eb9e2-1d5c-4a15-ae1f-5fe2371b57eb');\n",
              "          const dataTable =\n",
              "            await google.colab.kernel.invokeFunction('convertToInteractive',\n",
              "                                                     [key], {});\n",
              "          if (!dataTable) return;\n",
              "\n",
              "          const docLinkHtml = 'Like what you see? Visit the ' +\n",
              "            '<a target=\"_blank\" href=https://colab.research.google.com/notebooks/data_table.ipynb>data table notebook</a>'\n",
              "            + ' to learn more about interactive tables.';\n",
              "          element.innerHTML = '';\n",
              "          dataTable['output_type'] = 'display_data';\n",
              "          await google.colab.output.renderOutput(dataTable, element);\n",
              "          const docLink = document.createElement('div');\n",
              "          docLink.innerHTML = docLinkHtml;\n",
              "          element.appendChild(docLink);\n",
              "        }\n",
              "      </script>\n",
              "    </div>\n",
              "  </div>\n",
              "  "
            ]
          },
          "metadata": {},
          "execution_count": 8
        }
      ],
      "source": [
        "data.describe()"
      ]
    },
    {
      "cell_type": "markdown",
      "metadata": {
        "id": "1rWw_yma80Gp"
      },
      "source": [
        "Средняя длина документа - полтора Кб"
      ]
    },
    {
      "cell_type": "markdown",
      "metadata": {
        "id": "gMiXKskqIPDq"
      },
      "source": [
        "## Предобработка текстов\n",
        "Препроцесинг занимает порядка двух часов (из-за лематизации), поэтому загружается сразу обработанная версия\n",
        "\n",
        "Препроцессинг включает в себя:\n",
        "1. разбиение текста документов на слова, причем знаки препинания и спецсимволы составляют отдельные токены\n",
        "2. Использование лемманизатора, приводящего слова в нормальную форму (без падежей)\n",
        "3. Удаление стоп-слов - слов, смысл которых не важен при определении темы документа."
      ]
    },
    {
      "cell_type": "markdown",
      "metadata": {
        "id": "ulrU35StAU23"
      },
      "source": [
        "Текст уже был обработан в рамках семинара, потому будем использовать уже готовый результат."
      ]
    },
    {
      "cell_type": "markdown",
      "metadata": {
        "id": "uVOa_xJbIRr_"
      },
      "source": [
        "### Токенизаторы"
      ]
    },
    {
      "cell_type": "code",
      "execution_count": null,
      "metadata": {
        "colab": {
          "base_uri": "https://localhost:8080/"
        },
        "id": "Blsi3TRhIQEP",
        "outputId": "92f14d56-b928-4ab8-e964-c6cf10b4bc23"
      },
      "outputs": [
        {
          "name": "stdout",
          "output_type": "stream",
          "text": [
            "[nltk_data] Downloading package punkt to /root/nltk_data...\n",
            "[nltk_data]   Unzipping tokenizers/punkt.zip.\n"
          ]
        },
        {
          "data": {
            "text/plain": [
              "True"
            ]
          },
          "execution_count": 9,
          "metadata": {},
          "output_type": "execute_result"
        }
      ],
      "source": [
        "import nltk\n",
        "from nltk.tokenize import RegexpTokenizer\n",
        "nltk.download('punkt')"
      ]
    },
    {
      "cell_type": "code",
      "execution_count": null,
      "metadata": {
        "id": "DpUFFVNSIUxP"
      },
      "outputs": [],
      "source": [
        "word_tokenizer = RegexpTokenizer(r'[a-zа-яёЁА-ЯA-Z]+|[^\\w\\s]|\\d+')\n",
        "sent_tokenizer = lambda sent: nltk.sent_tokenize(sent, language=\"russian\")"
      ]
    },
    {
      "cell_type": "markdown",
      "metadata": {
        "id": "yEWGmFWIIcCg"
      },
      "source": [
        "###Лематизатор для русского"
      ]
    },
    {
      "cell_type": "code",
      "execution_count": null,
      "metadata": {
        "colab": {
          "base_uri": "https://localhost:8080/"
        },
        "id": "m_FGQhozIdIH",
        "outputId": "9f0ddeed-9dff-4eb6-d5b5-a4c35b4c000b"
      },
      "outputs": [
        {
          "name": "stdout",
          "output_type": "stream",
          "text": [
            "[nltk_data] Downloading package stopwords to /root/nltk_data...\n",
            "[nltk_data]   Unzipping corpora/stopwords.zip.\n"
          ]
        }
      ],
      "source": [
        "nltk.download('stopwords')\n",
        "# pymorphy2 анализатор\n",
        "morph = pymorphy2.MorphAnalyzer()\n",
        "# стоп слова из nltk\n",
        "stops = nltk.corpus.stopwords.words('russian')"
      ]
    },
    {
      "cell_type": "code",
      "execution_count": null,
      "metadata": {
        "id": "mSodCReFIeyp"
      },
      "outputs": [],
      "source": [
        "def proccess_text(text):\n",
        "    text= text.lower()\n",
        "    sents = sent_tokenizer(text)\n",
        "    words = list(\n",
        "        itertools.chain.from_iterable(\n",
        "            word_tokenizer.tokenize_sents(sents)))\n",
        "    return [x for x in [morph.normal_forms(word)[0] for word in words ]\\\n",
        "            if x not in stops]"
      ]
    },
    {
      "cell_type": "code",
      "execution_count": null,
      "metadata": {
        "id": "ZRga-_FjAigc"
      },
      "outputs": [],
      "source": [
        "DO_PREPROC=False # используем уже готовый результат, загруженный с внешнего диска"
      ]
    },
    {
      "cell_type": "code",
      "execution_count": null,
      "metadata": {
        "id": "OlHYDxV9Igso"
      },
      "outputs": [],
      "source": [
        "if DO_PREPROC:\n",
        "    data_text = data['text']\n",
        "    for i in tqdm(range(len(data))):\n",
        "        data_text.loc[i] = ' '.join(proccess_text(data_text.loc[i]))\n",
        "    data.to_csv(f'{DIR}/results_new/lenta-ru-proccess.csv', index=False)\n",
        "else:   # load preprocessed and presaved data\n",
        "    data = pd.read_csv(f'{DIR}/lenta-ru-proccess.csv')\n",
        "    data"
      ]
    },
    {
      "cell_type": "code",
      "execution_count": null,
      "metadata": {
        "colab": {
          "base_uri": "https://localhost:8080/"
        },
        "id": "taS-5lfEHRpP",
        "outputId": "e2e0bf1c-e88e-4e2a-c900-494e6ac8f0f9"
      },
      "outputs": [
        {
          "name": "stdout",
          "output_type": "stream",
          "text": [
            "                                                     text      tags   len  \\\n",
            "0       1 сентябрь весь территория россия вводиться но...       Все  1654   \n",
            "1       сведение миссия оон , передаваемый риа \" новос...       Все  1086   \n",
            "2       15 представитель национал - большевистский пар...       Все  1219   \n",
            "3       наметить сегодняшний день церемония вступление...       Все  3094   \n",
            "4       юг киргизия , именно баткенский чон - алайском...       Все  1354   \n",
            "...                                                   ...       ...   ...   \n",
            "863280  популярный место среди турист мурманский облас...    Россия  1231   \n",
            "863281  рейтинг международный рейтинговый агентство s ...       NaN  1425   \n",
            "863282  российский учёный найти якутия новый подвид ар...   События  1299   \n",
            "863283  указание коронавирус причина смерть человек не...  Общество  2061   \n",
            "863284  президент сша дональд трамп стать посредник но...  Политика  1020   \n",
            "\n",
            "              date  \n",
            "0       31-08-1999  \n",
            "1       31-08-1999  \n",
            "2       31-08-1999  \n",
            "3       31-08-1999  \n",
            "4       31-08-1999  \n",
            "...            ...  \n",
            "863280  11-09-2020  \n",
            "863281  11-09-2020  \n",
            "863282  11-09-2020  \n",
            "863283  11-09-2020  \n",
            "863284  11-09-2020  \n",
            "\n",
            "[863285 rows x 4 columns]\n"
          ]
        }
      ],
      "source": [
        "print(data)"
      ]
    },
    {
      "cell_type": "markdown",
      "metadata": {
        "id": "8qxdLhMQJEmg"
      },
      "source": [
        "# BigARTM\n",
        "Библиотека `BigARTM` преобразует исходный `csv` формат в `vw` формат. Текст преобразуется в последовательность, состоящую из:\n",
        "1. Идентификатора документа\n",
        "2. Текста (дефолтной модальности)\n",
        "3. Последовательности модальностей, каждая из которых имеет вид `|@<tag> <val>`"
      ]
    },
    {
      "cell_type": "markdown",
      "metadata": {
        "id": "s7XrV1gJJGHV"
      },
      "source": [
        "## Перевод данных в формат данных для bigartm (+ деление на train/valid)\n",
        "Также воспользуемся готовым результатом."
      ]
    },
    {
      "cell_type": "code",
      "execution_count": null,
      "metadata": {
        "colab": {
          "base_uri": "https://localhost:8080/"
        },
        "id": "oYiCzJ05xIJb",
        "outputId": "188e7352-9478-4ff4-d6a4-5bb60fbf7f86"
      },
      "outputs": [
        {
          "name": "stdout",
          "output_type": "stream",
          "text": [
            "mkdir: cannot create directory ‘/content/drive/MyDrive/Colab Notebooks/Topic_classification/results_new/vw_data’: File exists\n"
          ]
        }
      ],
      "source": [
        "!mkdir '/content/drive/MyDrive/Colab Notebooks/Topic_classification/results_new/vw_data'"
      ]
    },
    {
      "cell_type": "code",
      "execution_count": null,
      "metadata": {
        "id": "EGL3tlPAJIen"
      },
      "outputs": [],
      "source": [
        "filename_valid = (f'{DIR}/results_new/vw_data/texts_valid.vw.txt')\n",
        "filename_train = (f'{DIR}/results_new/vw_data/texts_train.vw.txt')"
      ]
    },
    {
      "cell_type": "code",
      "execution_count": null,
      "metadata": {
        "id": "6WYlqtcyRFUK"
      },
      "outputs": [],
      "source": [
        "DO_PREPROC_FOR_BIGARTM=False\n",
        "if DO_PREPROC_FOR_BIGARTM:\n",
        "    counter_train = 0\n",
        "    counter_valid = 0\n",
        "\n",
        "    y_train = []\n",
        "    y_valid = []\n",
        "\n",
        "    reg = re.compile(r'\\W+')\n",
        "    with open(filename_valid, 'w') as fout_valid:\n",
        "        with open(filename_train, 'w') as fout_train:\n",
        "            for i in tqdm(range(len(data))):\n",
        "                text = (reg.sub(' ', data.loc[i]['text']).strip()).split()\n",
        "                month = data.loc[i]['date'].split('-')[1]\n",
        "                year =  data.loc[i]['date'].split('-')[2]\n",
        "                tag =   str(data.loc[i]['tags']).lower().strip()\n",
        "\n",
        "                if len(text) > 100:\n",
        "                    if (i + 1) % 100 == 0:  # test (valid) // without year\n",
        "                        fout_valid.write('doc_{} {} |@tag class_{} |@month class_{}\\n'.format(\n",
        "                            counter_valid, ' '.join(text), tag, month))\n",
        "                        counter_valid += 1\n",
        "                        y_valid.append(year)\n",
        "                    else:                   # train\n",
        "                        fout_train.write('doc_{} {} |@tag class_{} |@month class_{} |@year class_{}\\n'.format(\n",
        "                            counter_train, ' '.join(text), tag, month, year))\n",
        "                        counter_train += 1\n",
        "                        y_train.append(year)\n",
        "\n",
        "    with open(f'{DIR}/results_new/vw_data/y_valid.vw.txt', 'w') as f:\n",
        "        f.write('\\n'.join(y_valid))\n",
        "\n",
        "    with open(f'{DIR}/results_new/vw_data/y_train.vw.txt', 'w') as f:\n",
        "        f.write('\\n'.join(y_train))\n",
        "else: # load presaved y (answers)\n",
        "    with open(f'{DIR}/results_new/vw_data/y_valid.vw.txt') as f:\n",
        "        y_valid = f.read().split('\\n')\n",
        "\n",
        "    with open(f'{DIR}/results_new/vw_data/y_train.vw.txt') as f:\n",
        "        y_train = f.read().split('\\n')"
      ]
    },
    {
      "cell_type": "code",
      "execution_count": null,
      "metadata": {
        "colab": {
          "base_uri": "https://localhost:8080/"
        },
        "id": "_WkhFunBCS0L",
        "outputId": "9f479924-4e69-49b3-b3ca-77d46009bbbe"
      },
      "outputs": [
        {
          "name": "stdout",
          "output_type": "stream",
          "text": [
            "doc_0 1 сентябрь весь территория россия вводиться новый форма таможенный декларация физический лицо пояснить государственный таможенный комитет гтк форма декларация который одобрить совет руководитель таможенный служба государство участник содружество являться единый территория весь страна снг исключение армения данные итар тасс новый декларация содержаться подробный перечень товар подлежащее обязательный декларирование впервые число включить ядовитый сильно действующий вещество лекарство радиоактивный материал объект флор фауна также высокочастотный радио электронный устройство средство связь частность система радиолокация кабельный телевидение средство мобильный связь частота выше 9 килогерц кроме декларация необходимый приводить подробный сведение ввозить вывозить транспортный средство вид машинs год выпуск объесть двигатель номер двигатель кузов шасси россия новый форма декларация наряду прежний применяться 1 август лишь московский таможенный пункт шереметьево внуково домодедово чкаловский железнодорожный вокзал вводиться весь территория страна преимущество новый декларация пояснить гтк являться единый территория 11 государство снг подписать соглашение который пока присоединиться лишь армения вестись конструктивный переговоры новый таможенный декларация вступить сила территория украина белоруссия государство снг заявить свой готовность ввести свой территория концатекущий год |@tag class_все |@month class_08 |@year class_1999\n",
            "doc_1 сведение миссия оон передаваемый риа новость голосование вопрос самопределении бывший колония принять участие 95 зарегистрировать избиратель подсчёт голос начаться среда анонимный сначала присутствие свидетель вскрыть весь опечатать коробка затем весь бюллетень перемешать невозможно определить откуда поступить начаться подсчёт принцип голосование весь избиратель участок сообщать риа новость администрация клинтон отмечать чрезвычайный явка успех провести восточный тимор референдум вопрос независимость индонезийский провинция сша призывать весь участник признать результат референдум вне зависимость исход голосование сказать заместитель официальный представитель госдепартамент сша джеймс фоуля указывать случай насилие отметить время референдум представитель госдепартамент подчеркнуть ответственность правительство индонезия обеспечение порядок время подсчёт голос последующий этап решение проблема восточный тимор |@tag class_все |@month class_08 |@year class_1999\n"
          ]
        }
      ],
      "source": [
        "!head -2 '/content/drive/MyDrive/Colab Notebooks/Topic_classification/results_new/vw_data/texts_train.vw.txt'"
      ]
    },
    {
      "cell_type": "markdown",
      "metadata": {
        "id": "-rmKVmkDKXMV"
      },
      "source": [
        "# Создаем батчи\n",
        "Делаем, как в семинаре, т.е. используем готовый результат для экономии времени."
      ]
    },
    {
      "cell_type": "code",
      "execution_count": null,
      "metadata": {
        "colab": {
          "base_uri": "https://localhost:8080/"
        },
        "id": "pT8HNDXO0bR_",
        "outputId": "b21b026f-80b5-4094-cc87-7c69df9d5ea1"
      },
      "outputs": [
        {
          "name": "stdout",
          "output_type": "stream",
          "text": [
            "mkdir: cannot create directory ‘/content/drive/MyDrive/Colab Notebooks/Topic_classification/results_new/vw_batches’: File exists\n"
          ]
        }
      ],
      "source": [
        "!mkdir '/content/drive/MyDrive/Colab Notebooks/Topic_classification/results_new/vw_batches'"
      ]
    },
    {
      "cell_type": "code",
      "execution_count": null,
      "metadata": {
        "id": "zANwKoNuKU2O"
      },
      "outputs": [],
      "source": [
        "CREATE_NEW_BATCHES=False\n",
        "if CREATE_NEW_BATCHES:\n",
        "    bv_train = artm.BatchVectorizer(\n",
        "        data_path=filename_train, data_format='vowpal_wabbit', batch_size=10000, # сколько параллельно нужно подать для градиентного спуска (в док-ах)\n",
        "        target_folder=f'{DIR}/results_new/vw_batches/batches_train', )\n",
        "\n",
        "    bv_test = artm.BatchVectorizer(\n",
        "        data_path=filename_valid, data_format='vowpal_wabbit', batch_size=10000, \n",
        "        target_folder=f'{DIR}/results_new/vw_batches/batches_valid')\n",
        "else: # Load presaved batches\n",
        "    bv_train = artm.BatchVectorizer(data_path=f'{DIR}/results_new/vw_batches/batches_train',\n",
        "                                    data_format='batches')\n",
        "    bv_valid = artm.BatchVectorizer(data_path=f'{DIR}/results_new/vw_batches/batches_valid',\n",
        "                                    data_format='batches')"
      ]
    },
    {
      "cell_type": "markdown",
      "metadata": {
        "id": "HsF3d3jRKaps"
      },
      "source": [
        "# Создаем словарь токенов"
      ]
    },
    {
      "cell_type": "code",
      "execution_count": null,
      "metadata": {
        "colab": {
          "base_uri": "https://localhost:8080/"
        },
        "id": "D365GwrTKaHe",
        "outputId": "47a230ab-b69b-4b88-eda7-ea112eae9a5d"
      },
      "outputs": [
        {
          "output_type": "execute_result",
          "data": {
            "text/plain": [
              "artm.Dictionary(name=5f083c57-34f1-4a64-85fe-4b798456f773, num_entries=548554)"
            ]
          },
          "metadata": {},
          "execution_count": 14
        }
      ],
      "source": [
        "dictionary = artm.Dictionary()\n",
        "dictionary.gather(data_path=f'{DIR}/results_new/vw_batches/batches_train')\n",
        "dictionary"
      ]
    },
    {
      "cell_type": "code",
      "execution_count": null,
      "metadata": {
        "colab": {
          "base_uri": "https://localhost:8080/"
        },
        "id": "yRN9ZTK6Hboe",
        "outputId": "34622a50-003d-4eb7-f2da-8e5b2a468a6d"
      },
      "outputs": [
        {
          "name": "stdout",
          "output_type": "stream",
          "text": [
            "artm.Dictionary(name=df2572f5-0d16-48b8-81fb-8814ef0f546e, num_entries=548554)\n"
          ]
        }
      ],
      "source": [
        "print(dictionary)"
      ]
    },
    {
      "cell_type": "markdown",
      "metadata": {
        "id": "5NtlDG_oKiV9"
      },
      "source": [
        "# ARTM модель\n",
        "\n",
        "Модель на вход принимает `vm` данные, а на выходе формиркуется тензор - векторное распределение тем в документах. Т.е. один документ - вектор, координатами которого являются вероятности принадлежности к теме.\n",
        "\n",
        "Используется только модальность самого текста, без регуляризаторов. \\\n",
        "Обучаем новую модель или загружаем обученную."
      ]
    },
    {
      "cell_type": "code",
      "execution_count": null,
      "metadata": {
        "colab": {
          "base_uri": "https://localhost:8080/"
        },
        "id": "waM-mNLq5eIB",
        "outputId": "4f72ddf8-3725-4553-ad39-a813dd358df3"
      },
      "outputs": [
        {
          "name": "stdout",
          "output_type": "stream",
          "text": [
            "mkdir: cannot create directory ‘/content/drive/MyDrive/Colab Notebooks/Topic_classification/results/model’: File exists\n"
          ]
        }
      ],
      "source": [
        "!mkdir '/content/drive/MyDrive/Colab Notebooks/Topic_classification/results_new/model'"
      ]
    },
    {
      "cell_type": "code",
      "execution_count": null,
      "metadata": {
        "id": "DyJyVWHP5mNn"
      },
      "outputs": [],
      "source": [
        "TRAIN_NEW_MODEL=False # обучается 48мин"
      ]
    },
    {
      "cell_type": "code",
      "execution_count": null,
      "metadata": {
        "id": "-7l63qKOKhbl"
      },
      "outputs": [],
      "source": [
        "if TRAIN_NEW_MODEL:\n",
        "    model = artm.ARTM(num_topics=100, # на самом деле число тем в выборке чуть меньше, главное, что мы все рассмотрели\n",
        "                  dictionary=dictionary, \n",
        "                  class_ids={'@default_class': 1.0, \n",
        "                             })\n",
        "    # список метрик, получаемых во время обучения\n",
        "    model.scores.add(artm.PerplexityScore(name='perplexity', dictionary=dictionary))\n",
        "    model.scores.add(artm.TopTokensScore(name='top-tokens', num_tokens=10)) # выдает топ 10 слов, характеризующих тему\n",
        "\n",
        "    iterator = tqdm(range(0,10))\n",
        "    for i in iterator:\n",
        "        model.fit_offline(bv_train, num_collection_passes=1)\n",
        "        iterator.set_postfix({'perplexity': model.score_tracker['perplexity'].value[-1],  \n",
        "                              })\n",
        "        # save model on every iteration\n",
        "        model.dump_artm_model(f'{DIR}/results_new/model/MOD-default_REG-no_{i}it')\n",
        "else:\n",
        "    model = artm.load_artm_model(f'{DIR}/results_new/model/MOD-default_REG-no_9it')\n",
        "    model.scores.add(artm.PerplexityScore(name='perplexity', dictionary=dictionary), overwrite=True)\n",
        "    model.scores.add(artm.TopTokensScore(name='top-tokens', num_tokens=10), overwrite=True)"
      ]
    },
    {
      "cell_type": "markdown",
      "metadata": {
        "id": "uDYuh7PfibND"
      },
      "source": [
        "## Метрики в процессе обучения"
      ]
    },
    {
      "cell_type": "code",
      "execution_count": null,
      "metadata": {
        "colab": {
          "base_uri": "https://localhost:8080/",
          "height": 279
        },
        "id": "fu16smdpiZlF",
        "outputId": "2d4e5092-3cbf-4199-bf33-951d96b5010d"
      },
      "outputs": [
        {
          "data": {
            "image/png": "[encoded data removed]",
            "text/plain": [
              "<Figure size 432x288 with 1 Axes>"
            ]
          },
          "metadata": {},
          "output_type": "display_data"
        }
      ],
      "source": [
        "plt.plot(model.score_tracker['perplexity'].value, label = 'perplexity')\n",
        "plt.legend(loc = 'best')\n",
        "plt.xlabel('iteration')\n",
        "plt.ylabel('score')\n",
        "plt.yscale('log')\n",
        "plt.show()"
      ]
    },
    {
      "cell_type": "markdown",
      "metadata": {
        "id": "j8DTNkWNGBp3"
      },
      "source": [
        "Видно, что перфлексия стабилизируется с 7й итерации."
      ]
    },
    {
      "cell_type": "code",
      "execution_count": null,
      "metadata": {
        "colab": {
          "base_uri": "https://localhost:8080/"
        },
        "id": "hwkSh38AjGeV",
        "outputId": "de45c834-f0a2-439d-a747-154ee735fd11"
      },
      "outputs": [
        {
          "name": "stdout",
          "output_type": "stream",
          "text": [
            "['учёный', 'исследование', 'который', 'это', 'мочь', 'человек', 'исследователь', 'клетка', 'алкоголь', 'вещество']\n",
            "['бой', 'фунт', 'аукцион', 'продать', 'год', 'поединок', 'выставить', 'чемпион', 'картина', 'боксёр']\n",
            "['который', 'фотография', 'свой', 'пользователь', 'человек', 'ресторан', 'весь', 'снимка', 'продукт', 'слово']\n",
            "['церковь', 'министерство', 'который', 'религиозный', 'иванов', 'православный', 'инициатива', 'это', 'академия', 'весь']\n",
            "['закон', 'документ', 'правительство', 'должный', 'законопроект', 'принять', 'запрет', 'это', 'срок', 'год']\n",
            "['украина', 'россия', 'крым', 'российский', 'это', 'заявить', 'президент', 'страна', 'киев', 'украинский']\n",
            "['пост', 'бывший', 'глава', 'должность', 'министр', 'отставка', 'занимать', 'заместитель', 'который', 'стать']\n",
            "['служба', 'государственный', 'деятельность', 'власть', 'контроль', 'это', 'россия', 'год', 'сми', 'иностранный']\n",
            "['директор', 'театр', 'культура', 'генеральный', 'год', 'спектакль', 'руководитель', 'который', 'артист', 'имя']\n",
            "['германия', 'немецкий', 'который', 'индия', 'французский', 'франция', 'век', 'год', 'индийский', 'берлин']\n"
          ]
        }
      ],
      "source": [
        "top_tokens = model.score_tracker['top-tokens'].last_tokens\n",
        "for topic_name in model.topic_names[:10]:\n",
        "    print(top_tokens[topic_name])"
      ]
    },
    {
      "cell_type": "markdown",
      "metadata": {
        "id": "s2FjaUaIk0fi"
      },
      "source": [
        "## Получаем тематические вектора\n",
        "Тематические вектора используются в качестве входных данных для разных классификаторов (которые мы будем сравнивать)\n",
        "\n",
        "Один документ - вектор, координатами которого являются вероятности принадлежности к теме."
      ]
    },
    {
      "cell_type": "code",
      "execution_count": null,
      "metadata": {
        "id": "Ga_0SPbjj1Gf"
      },
      "outputs": [],
      "source": [
        "X_train_pd = model.transform(bv_train) # порядка 3мин"
      ]
    },
    {
      "cell_type": "code",
      "execution_count": null,
      "metadata": {
        "colab": {
          "base_uri": "https://localhost:8080/",
          "height": 49,
          "referenced_widgets": [
            "61fdd0ecab02489d857215c5d7ca9e37",
            "81649a919b494800a8c560be49b25ea4",
            "7c00d463d98e43f7aabe2d5a71f21f07",
            "dde61faade2d4b099da801bc88ce8ccd",
            "581231bf6a4147c582d60b7d652a378a",
            "997751319d2144afb2e022de40e4c0bb",
            "c3bc8b52ce9844b6a1aa8907dac2ed74",
            "8d3604841552436ebf31da73b0686897",
            "5b648c2446e74ad48357bc7f0e83693c",
            "1b5ba027902145deb54e7f0ee3b473b0",
            "d47bda228c9c4d46909fe21f9dbd89d4"
          ]
        },
        "id": "o25Mpyiikrri",
        "outputId": "324a9230-122d-4132-8725-ca0805b50fb9"
      },
      "outputs": [
        {
          "data": {
            "application/vnd.jupyter.widget-view+json": {
              "model_id": "61fdd0ecab02489d857215c5d7ca9e37",
              "version_major": 2,
              "version_minor": 0
            },
            "text/plain": [
              "  0%|          | 0/653795 [00:00<?, ?it/s]"
            ]
          },
          "metadata": {},
          "output_type": "display_data"
        }
      ],
      "source": [
        "X_train = []\n",
        "for i in tqdm(range(len(y_train))):\n",
        "    X_train.append(X_train_pd[i].values)\n",
        "X_train_np = np.array(X_train)\n",
        "y_train_np = np.array(y_train)\n",
        "X_train_np, y_train_np = shuffle(X_train_np, y_train_np,random_state=42)"
      ]
    },
    {
      "cell_type": "code",
      "execution_count": null,
      "metadata": {
        "colab": {
          "base_uri": "https://localhost:8080/",
          "height": 49,
          "referenced_widgets": [
            "b310d30bbe0e46868a9cc492bf8e4242",
            "0625030f1fe341c79d61191c45644f74",
            "7636e97c00ed4206aa33900b903ddc83",
            "d322f66f64b6407585d770a2b3b6bff5",
            "4ce37156efeb467ba82c098dd33a0e90",
            "3c8870c8f22f499e952e2b5afa8b8038",
            "2258a53fd45f4e49a51ea8c46aad7e31",
            "a637602559004137813cd2cf79040865",
            "8df6806c1dfb4c808a7d3a7cd7091124",
            "7caaec1362e04121a898415e833666e9",
            "9904085be27d4f3d91430948f9ad21f2"
          ]
        },
        "id": "37aCMYpNlLsj",
        "outputId": "9f5df96f-0c08-4156-fc6f-43af14be84e8"
      },
      "outputs": [
        {
          "data": {
            "application/vnd.jupyter.widget-view+json": {
              "model_id": "b310d30bbe0e46868a9cc492bf8e4242",
              "version_major": 2,
              "version_minor": 0
            },
            "text/plain": [
              "  0%|          | 0/6604 [00:00<?, ?it/s]"
            ]
          },
          "metadata": {},
          "output_type": "display_data"
        }
      ],
      "source": [
        "X_valid_pd = model.transform(bv_valid)\n",
        "X_valid = []\n",
        "for i in tqdm(range(len(y_valid))):\n",
        "    X_valid.append(X_valid_pd[i].values)"
      ]
    },
    {
      "cell_type": "markdown",
      "metadata": {
        "id": "P3MMqSQzj11k"
      },
      "source": [
        "## Классификатор"
      ]
    },
    {
      "cell_type": "markdown",
      "metadata": {
        "id": "pPcW5XWhl3-w"
      },
      "source": [
        "Логистическая регрессия"
      ]
    },
    {
      "cell_type": "code",
      "execution_count": null,
      "metadata": {
        "colab": {
          "base_uri": "https://localhost:8080/"
        },
        "id": "5IuDqmOMlnAi",
        "outputId": "ed3ec8f1-1ce0-4d84-a6e6-36d3e04cfae1"
      },
      "outputs": [
        {
          "name": "stdout",
          "output_type": "stream",
          "text": [
            "                      precision    recall  f1-score   support\n",
            "\n",
            "             coцсети       0.50      0.18      0.26        39\n",
            "                 nan       0.45      0.18      0.25       208\n",
            "          автобизнес       1.00      0.00      0.00         2\n",
            "   английский футбол       1.00      0.00      0.00         1\n",
            "          белоруссия       0.44      0.17      0.24        24\n",
            "              бизнес       0.29      0.03      0.05        70\n",
            "          бокс и мма       0.56      0.31      0.40        32\n",
            "                вещи       1.00      0.00      0.00         5\n",
            "     вирусные ролики       1.00      0.00      0.00         2\n",
            "         внешний вид       0.40      0.12      0.19        16\n",
            "                 все       0.62      0.88      0.73      3356\n",
            "             гаджеты       0.24      0.21      0.22        24\n",
            "               город       1.00      0.00      0.00        18\n",
            "        госэкономика       0.53      0.31      0.39       162\n",
            "                дача       0.00      0.00      0.00        13\n",
            "            движение       1.00      0.00      0.00         6\n",
            "      деловой климат       0.50      0.03      0.05        35\n",
            "              деньги       1.00      0.00      0.00        19\n",
            "          достижения       1.00      0.00      0.00         7\n",
            "                 еда       1.00      0.11      0.20         9\n",
            "               жизнь       1.00      0.00      0.00        11\n",
            "          закавказье       0.00      0.00      0.00         9\n",
            "               звери       0.64      0.43      0.51        21\n",
            "         зимние виды       0.75      0.19      0.30        16\n",
            "                игры       0.25      0.06      0.10        17\n",
            "         инструменты       0.00      0.00      0.00         7\n",
            "            интернет       0.24      0.20      0.21        87\n",
            "           искусство       0.25      0.06      0.10        17\n",
            "             история       1.00      0.50      0.67         4\n",
            "           казахстан       1.00      0.00      0.00         2\n",
            "            квартира       0.73      0.43      0.55        83\n",
            "   киберпреступность       1.00      0.00      0.00         1\n",
            "                кино       0.52      0.40      0.45        77\n",
            "               книги       1.00      0.00      0.00         6\n",
            "           конфликты       0.41      0.39      0.40        33\n",
            "              космос       0.31      0.26      0.28        39\n",
            "            криминал       0.33      0.05      0.08        21\n",
            "            культура       1.00      0.00      0.00         5\n",
            "         летние виды       0.00      0.00      0.00        24\n",
            "                люди       0.36      0.27      0.31        75\n",
            "                мемы       1.00      0.00      0.00         5\n",
            "                 мир       0.24      0.23      0.23        31\n",
            "      мировой бизнес       1.00      0.00      0.00        14\n",
            "        мировой опыт       1.00      0.00      0.00         1\n",
            "              мнения       1.00      0.00      0.00        13\n",
            "            молдавия       1.00      0.00      0.00         4\n",
            "              москва       1.00      0.00      0.00        19\n",
            "              музыка       0.48      0.28      0.35        54\n",
            "            наследие       1.00      0.00      0.00         1\n",
            "               наука       0.55      0.38      0.45        86\n",
            "            общество       0.40      0.34      0.37       369\n",
            "              оружие       1.00      0.07      0.13        29\n",
            "                офис       1.00      0.00      0.00        12\n",
            "            политика       0.59      0.46      0.52       418\n",
            "полиция и спецслужбы       1.00      0.00      0.00        14\n",
            "              пресса       1.00      0.00      0.00        19\n",
            "   преступная россия       1.00      0.00      0.00         3\n",
            "        преступность       0.67      0.11      0.19        36\n",
            "          прибалтика       1.00      0.00      0.00        13\n",
            "        происшествия       0.35      0.15      0.21       124\n",
            "             регионы       0.50      0.11      0.18        27\n",
            "             реклама       1.00      0.00      0.00         1\n",
            "              россия       0.00      0.00      0.00        19\n",
            "               рынки       1.00      0.00      0.00        39\n",
            "     следствие и суд       0.46      0.15      0.22       108\n",
            "             события       0.00      0.00      0.00        31\n",
            "                софт       1.00      0.00      0.00         5\n",
            "    социальная сфера       1.00      0.00      0.00         5\n",
            "        средняя азия       1.00      0.00      0.00        13\n",
            "               стиль       0.45      0.54      0.49        26\n",
            "          тв и радио       0.57      0.39      0.47        51\n",
            "               театр       0.22      0.18      0.20        11\n",
            "             техника       1.00      0.00      0.00        10\n",
            "             украина       0.80      0.79      0.79       238\n",
            "    финансы компаний       1.00      0.00      0.00         3\n",
            "              футбол       0.57      0.33      0.42       101\n",
            "              хоккей       1.00      0.00      0.00         5\n",
            "                часы       1.00      0.00      0.00         4\n",
            "           экономика       0.86      0.60      0.71        10\n",
            "             явления       0.29      0.41      0.34        29\n",
            "\n",
            "            accuracy                           0.59      6604\n",
            "           macro avg       0.68      0.14      0.17      6604\n",
            "        weighted avg       0.58      0.59      0.54      6604\n",
            "\n"
          ]
        }
      ],
      "source": [
        "classifier = LogisticRegression(random_state=42)\n",
        "classifier.fit(X_train_np, y_train_np)\n",
        "pred = classifier.predict(X_valid)\n",
        "print(classification_report(y_valid, pred, zero_division=1))"
      ]
    },
    {
      "cell_type": "markdown",
      "metadata": {
        "id": "SNYd_2jul7zA"
      },
      "source": [
        "Random Forest"
      ]
    },
    {
      "cell_type": "code",
      "execution_count": null,
      "metadata": {
        "colab": {
          "base_uri": "https://localhost:8080/"
        },
        "id": "Relt7IDyl7_5",
        "outputId": "3ab8b44d-45b8-4ed5-9f81-efbfd8486801"
      },
      "outputs": [
        {
          "name": "stdout",
          "output_type": "stream",
          "text": [
            "                      precision    recall  f1-score   support\n",
            "\n",
            "             coцсети       0.23      0.26      0.24        39\n",
            "                 nan       0.30      0.15      0.20       208\n",
            "          автобизнес       1.00      0.00      0.00         2\n",
            "   английский футбол       1.00      0.00      0.00         1\n",
            "          белоруссия       0.38      0.21      0.27        24\n",
            "              бизнес       0.21      0.06      0.09        70\n",
            "          бокс и мма       0.71      0.47      0.57        32\n",
            "                вещи       0.00      0.00      0.00         5\n",
            "     вирусные ролики       1.00      0.00      0.00         2\n",
            "         внешний вид       0.33      0.19      0.24        16\n",
            "                 все       0.63      0.95      0.76      3356\n",
            "             гаджеты       0.75      0.12      0.21        24\n",
            "               город       0.00      0.00      0.00        18\n",
            "        госэкономика       0.48      0.28      0.36       162\n",
            "                дача       1.00      0.00      0.00        13\n",
            "            движение       1.00      0.17      0.29         6\n",
            "      деловой климат       0.50      0.09      0.15        35\n",
            "              деньги       0.00      0.00      0.00        19\n",
            "          достижения       1.00      0.00      0.00         7\n",
            "                 еда       0.00      0.00      0.00         9\n",
            "               жизнь       1.00      0.09      0.17        11\n",
            "          закавказье       1.00      0.11      0.20         9\n",
            "               звери       0.62      0.24      0.34        21\n",
            "         зимние виды       0.75      0.19      0.30        16\n",
            "                игры       0.00      0.00      0.00        17\n",
            "         инструменты       1.00      0.14      0.25         7\n",
            "            интернет       0.29      0.13      0.18        87\n",
            "           искусство       0.00      0.00      0.00        17\n",
            "             история       1.00      0.00      0.00         4\n",
            "           казахстан       1.00      0.00      0.00         2\n",
            "            квартира       0.74      0.42      0.54        83\n",
            "   киберпреступность       1.00      0.00      0.00         1\n",
            "                кино       0.41      0.26      0.32        77\n",
            "               книги       1.00      0.00      0.00         6\n",
            "           конфликты       0.41      0.21      0.28        33\n",
            "              космос       0.71      0.13      0.22        39\n",
            "            криминал       0.00      0.00      0.00        21\n",
            "            культура       1.00      0.60      0.75         5\n",
            "         летние виды       0.33      0.04      0.07        24\n",
            "                люди       0.49      0.23      0.31        75\n",
            "                мемы       1.00      0.00      0.00         5\n",
            "                 мир       0.29      0.06      0.11        31\n",
            "      мировой бизнес       1.00      0.00      0.00        14\n",
            "        мировой опыт       1.00      0.00      0.00         1\n",
            "              мнения       0.33      0.08      0.12        13\n",
            "            молдавия       1.00      0.00      0.00         4\n",
            "              москва       0.00      0.00      0.00        19\n",
            "              музыка       0.70      0.26      0.38        54\n",
            "            наследие       1.00      0.00      0.00         1\n",
            "               наука       0.60      0.34      0.43        86\n",
            "            общество       0.45      0.25      0.32       369\n",
            "              оружие       0.60      0.10      0.18        29\n",
            "                офис       1.00      0.00      0.00        12\n",
            "            политика       0.58      0.38      0.46       418\n",
            "полиция и спецслужбы       0.00      0.00      0.00        14\n",
            "              пресса       1.00      0.00      0.00        19\n",
            "   преступная россия       1.00      0.00      0.00         3\n",
            "        преступность       1.00      0.00      0.00        36\n",
            "          прибалтика       1.00      0.00      0.00        13\n",
            "        происшествия       0.50      0.14      0.22       124\n",
            "             регионы       0.60      0.11      0.19        27\n",
            "             реклама       1.00      0.00      0.00         1\n",
            "              россия       0.67      0.21      0.32        19\n",
            "               рынки       0.00      0.00      0.00        39\n",
            "     следствие и суд       0.52      0.13      0.21       108\n",
            "             события       0.00      0.00      0.00        31\n",
            "                софт       1.00      0.00      0.00         5\n",
            "    социальная сфера       1.00      0.00      0.00         5\n",
            "        средняя азия       1.00      0.00      0.00        13\n",
            "               стиль       0.42      0.38      0.40        26\n",
            "          тв и радио       0.80      0.16      0.26        51\n",
            "               театр       1.00      0.00      0.00        11\n",
            "             техника       1.00      0.00      0.00        10\n",
            "             украина       0.80      0.79      0.79       238\n",
            "    финансы компаний       1.00      0.00      0.00         3\n",
            "              футбол       0.55      0.22      0.31       101\n",
            "              хоккей       1.00      0.00      0.00         5\n",
            "                часы       0.60      0.75      0.67         4\n",
            "           экономика       0.80      0.40      0.53        10\n",
            "             явления       0.24      0.21      0.22        29\n",
            "\n",
            "            accuracy                           0.61      6604\n",
            "           macro avg       0.64      0.13      0.17      6604\n",
            "        weighted avg       0.58      0.61      0.54      6604\n",
            "\n"
          ]
        }
      ],
      "source": [
        "classifier = RandomForestClassifier(n_estimators=10)\n",
        "classifier.fit(X_train_np, y_train_np)\n",
        "pred = classifier.predict(X_valid)\n",
        "print(classification_report(y_valid, pred, zero_division=1))"
      ]
    },
    {
      "cell_type": "code",
      "execution_count": null,
      "metadata": {
        "colab": {
          "base_uri": "https://localhost:8080/"
        },
        "id": "QS69in-38s2b",
        "outputId": "4d81b9da-a42d-4911-a2e0-5fa9627941d7"
      },
      "outputs": [
        {
          "name": "stdout",
          "output_type": "stream",
          "text": [
            "                      precision    recall  f1-score   support\n",
            "\n",
            "             coцсети       0.41      0.18      0.25        39\n",
            "                 nan       0.55      0.17      0.26       208\n",
            "          автобизнес       1.00      0.00      0.00         2\n",
            "   английский футбол       1.00      0.00      0.00         1\n",
            "          белоруссия       0.56      0.21      0.30        24\n",
            "              бизнес       0.33      0.04      0.08        70\n",
            "          бокс и мма       0.94      0.47      0.62        32\n",
            "                вещи       1.00      0.00      0.00         5\n",
            "     вирусные ролики       1.00      0.00      0.00         2\n",
            "         внешний вид       1.00      0.12      0.22        16\n",
            "                 все       0.62      0.97      0.76      3356\n",
            "             гаджеты       0.60      0.12      0.21        24\n",
            "               город       1.00      0.00      0.00        18\n",
            "        госэкономика       0.53      0.26      0.35       162\n",
            "                дача       1.00      0.00      0.00        13\n",
            "            движение       1.00      0.00      0.00         6\n",
            "      деловой климат       0.20      0.03      0.05        35\n",
            "              деньги       0.00      0.00      0.00        19\n",
            "          достижения       1.00      0.00      0.00         7\n",
            "                 еда       1.00      0.22      0.36         9\n",
            "               жизнь       1.00      0.09      0.17        11\n",
            "          закавказье       1.00      0.11      0.20         9\n",
            "               звери       0.67      0.29      0.40        21\n",
            "         зимние виды       0.75      0.19      0.30        16\n",
            "                игры       1.00      0.00      0.00        17\n",
            "         инструменты       0.00      0.00      0.00         7\n",
            "            интернет       0.22      0.07      0.11        87\n",
            "           искусство       1.00      0.00      0.00        17\n",
            "             история       1.00      0.00      0.00         4\n",
            "           казахстан       1.00      0.00      0.00         2\n",
            "            квартира       0.83      0.48      0.61        83\n",
            "   киберпреступность       1.00      0.00      0.00         1\n",
            "                кино       0.65      0.34      0.44        77\n",
            "               книги       1.00      0.00      0.00         6\n",
            "           конфликты       0.36      0.27      0.31        33\n",
            "              космос       0.80      0.21      0.33        39\n",
            "            криминал       0.50      0.05      0.09        21\n",
            "            культура       1.00      0.60      0.75         5\n",
            "         летние виды       0.50      0.04      0.08        24\n",
            "                люди       0.50      0.21      0.30        75\n",
            "                мемы       1.00      0.00      0.00         5\n",
            "                 мир       0.40      0.13      0.20        31\n",
            "      мировой бизнес       1.00      0.00      0.00        14\n",
            "        мировой опыт       1.00      0.00      0.00         1\n",
            "              мнения       0.33      0.08      0.12        13\n",
            "            молдавия       1.00      0.00      0.00         4\n",
            "              москва       1.00      0.00      0.00        19\n",
            "              музыка       0.74      0.31      0.44        54\n",
            "            наследие       1.00      0.00      0.00         1\n",
            "               наука       0.68      0.35      0.46        86\n",
            "            общество       0.52      0.29      0.37       369\n",
            "              оружие       1.00      0.07      0.13        29\n",
            "                офис       1.00      0.00      0.00        12\n",
            "            политика       0.66      0.41      0.51       418\n",
            "полиция и спецслужбы       1.00      0.00      0.00        14\n",
            "              пресса       1.00      0.00      0.00        19\n",
            "   преступная россия       1.00      0.00      0.00         3\n",
            "        преступность       1.00      0.00      0.00        36\n",
            "          прибалтика       1.00      0.00      0.00        13\n",
            "        происшествия       0.48      0.12      0.19       124\n",
            "             регионы       0.71      0.19      0.29        27\n",
            "             реклама       1.00      0.00      0.00         1\n",
            "              россия       0.25      0.05      0.09        19\n",
            "               рынки       0.50      0.03      0.05        39\n",
            "     следствие и суд       0.56      0.14      0.22       108\n",
            "             события       0.00      0.00      0.00        31\n",
            "                софт       1.00      0.00      0.00         5\n",
            "    социальная сфера       1.00      0.00      0.00         5\n",
            "        средняя азия       1.00      0.00      0.00        13\n",
            "               стиль       0.45      0.50      0.47        26\n",
            "          тв и радио       0.62      0.16      0.25        51\n",
            "               театр       1.00      0.00      0.00        11\n",
            "             техника       1.00      0.00      0.00        10\n",
            "             украина       0.79      0.79      0.79       238\n",
            "    финансы компаний       1.00      0.00      0.00         3\n",
            "              футбол       0.66      0.23      0.34       101\n",
            "              хоккей       1.00      0.00      0.00         5\n",
            "                часы       0.60      0.75      0.67         4\n",
            "           экономика       1.00      0.50      0.67        10\n",
            "             явления       0.36      0.28      0.31        29\n",
            "\n",
            "            accuracy                           0.62      6604\n",
            "           macro avg       0.76      0.14      0.18      6604\n",
            "        weighted avg       0.62      0.62      0.55      6604\n",
            "\n"
          ]
        }
      ],
      "source": [
        "classifier = RandomForestClassifier(n_estimators=20)\n",
        "classifier.fit(X_train_np, y_train_np)\n",
        "pred = classifier.predict(X_valid)\n",
        "print(classification_report(y_valid, pred, zero_division=1))"
      ]
    },
    {
      "cell_type": "markdown",
      "metadata": {
        "id": "jX-IRelimHrp"
      },
      "source": [
        "XGBoost\n",
        "\n",
        "На всей выборке обучается слишком долго, а на фрагменте результат не лучше, чем на логистической регресии или RandomForest"
      ]
    },
    {
      "cell_type": "code",
      "execution_count": null,
      "metadata": {
        "colab": {
          "base_uri": "https://localhost:8080/"
        },
        "id": "5h9V37h-mRSY",
        "outputId": "3073b9aa-09ce-4bb0-9b6a-18e9257d5cd9"
      },
      "outputs": [
        {
          "name": "stdout",
          "output_type": "stream",
          "text": [
            "                      precision    recall  f1-score   support\n",
            "\n",
            "             coцсети       0.24      0.10      0.14        39\n",
            "                 nan       0.48      0.14      0.22       208\n",
            "          автобизнес       1.00      0.00      0.00         2\n",
            "   английский футбол       1.00      0.00      0.00         1\n",
            "          белоруссия       0.40      0.33      0.36        24\n",
            "              бизнес       0.50      0.07      0.12        70\n",
            "          бокс и мма       0.85      0.72      0.78        32\n",
            "                вещи       0.00      0.00      0.00         5\n",
            "     вирусные ролики       1.00      0.00      0.00         2\n",
            "         внешний вид       0.50      0.06      0.11        16\n",
            "                 все       0.64      0.92      0.76      3356\n",
            "             гаджеты       0.57      0.17      0.26        24\n",
            "               город       0.50      0.06      0.10        18\n",
            "        госэкономика       0.53      0.31      0.39       162\n",
            "                дача       1.00      0.08      0.14        13\n",
            "            движение       0.50      0.33      0.40         6\n",
            "      деловой климат       0.57      0.11      0.19        35\n",
            "              деньги       1.00      0.00      0.00        19\n",
            "          достижения       1.00      0.00      0.00         7\n",
            "                 еда       0.33      0.22      0.27         9\n",
            "               жизнь       1.00      0.00      0.00        11\n",
            "          закавказье       0.00      0.00      0.00         9\n",
            "               звери       0.44      0.38      0.41        21\n",
            "         зимние виды       0.33      0.12      0.18        16\n",
            "                игры       0.48      0.59      0.53        17\n",
            "         инструменты       0.00      0.00      0.00         7\n",
            "            интернет       0.25      0.16      0.20        87\n",
            "           искусство       0.67      0.12      0.20        17\n",
            "             история       1.00      0.00      0.00         4\n",
            "           казахстан       0.00      0.00      0.00         2\n",
            "            квартира       0.69      0.51      0.58        83\n",
            "   киберпреступность       1.00      0.00      0.00         1\n",
            "                кино       0.51      0.42      0.46        77\n",
            "               книги       1.00      0.00      0.00         6\n",
            "           конфликты       0.43      0.30      0.36        33\n",
            "              космос       0.41      0.18      0.25        39\n",
            "            криминал       0.50      0.14      0.22        21\n",
            "            культура       1.00      0.20      0.33         5\n",
            "         летние виды       0.33      0.04      0.07        24\n",
            "                люди       0.39      0.25      0.31        75\n",
            "                мемы       1.00      0.00      0.00         5\n",
            "                 мир       0.28      0.26      0.27        31\n",
            "      мировой бизнес       1.00      0.00      0.00        14\n",
            "        мировой опыт       1.00      0.00      0.00         1\n",
            "              мнения       0.67      0.15      0.25        13\n",
            "            молдавия       1.00      0.00      0.00         4\n",
            "              москва       0.33      0.05      0.09        19\n",
            "              музыка       0.62      0.39      0.48        54\n",
            "            наследие       1.00      0.00      0.00         1\n",
            "               наука       0.48      0.36      0.41        86\n",
            "            общество       0.50      0.30      0.37       369\n",
            "              оружие       0.67      0.21      0.32        29\n",
            "                офис       1.00      0.00      0.00        12\n",
            "            политика       0.62      0.40      0.48       418\n",
            "полиция и спецслужбы       1.00      0.00      0.00        14\n",
            "              пресса       0.00      0.00      0.00        19\n",
            "   преступная россия       1.00      0.00      0.00         3\n",
            "        преступность       0.67      0.06      0.10        36\n",
            "          прибалтика       1.00      0.00      0.00        13\n",
            "        происшествия       0.45      0.20      0.28       124\n",
            "             регионы       0.60      0.33      0.43        27\n",
            "             реклама       0.00      0.00      0.00         1\n",
            "              россия       0.00      0.00      0.00        19\n",
            "               рынки       0.00      0.00      0.00        39\n",
            "     следствие и суд       0.48      0.24      0.32       108\n",
            "             события       0.33      0.03      0.06        31\n",
            "                софт       0.00      0.00      0.00         5\n",
            "    социальная сфера       1.00      0.00      0.00         5\n",
            "        средняя азия       1.00      0.00      0.00        13\n",
            "               стиль       0.46      0.62      0.52        26\n",
            "          тв и радио       0.62      0.31      0.42        51\n",
            "               театр       0.40      0.18      0.25        11\n",
            "             техника       1.00      0.00      0.00        10\n",
            "             украина       0.74      0.82      0.78       238\n",
            "    финансы компаний       1.00      0.00      0.00         3\n",
            "              футбол       0.65      0.44      0.52       101\n",
            "              хоккей       0.50      0.20      0.29         5\n",
            "                часы       0.60      0.75      0.67         4\n",
            "            экология       0.00      1.00      0.00         0\n",
            "           экономика       0.80      0.40      0.53        10\n",
            "             явления       0.45      0.34      0.39        29\n",
            "\n",
            "            accuracy                           0.62      6604\n",
            "           macro avg       0.59      0.19      0.20      6604\n",
            "        weighted avg       0.59      0.62      0.56      6604\n",
            "\n"
          ]
        }
      ],
      "source": [
        "classifier = xgb.XGBClassifier()\n",
        "classifier.fit(X_train_np[:20000], y_train_np[:20000])\n",
        "pred = classifier.predict(X_valid)\n",
        "print(classification_report(y_valid, pred, zero_division=1))"
      ]
    },
    {
      "cell_type": "markdown",
      "metadata": {
        "id": "QScde_OVLIDz"
      },
      "source": [
        "Таким образом, все регуляризаторы работают приблизительно одинаково. В качестве классификатора будем использовать `RandomForest` с 10 деревьями - он дает хороший результат за разумное время."
      ]
    },
    {
      "cell_type": "markdown",
      "metadata": {
        "id": "aIwd8PUOKogM"
      },
      "source": [
        "# Мультимодальная модель (веса: 10, 10)\n",
        "Добавим модальности месяца (@month с весом 10) и топика статьи (@tag с весом 10), без регуляризаторов\n",
        "\n",
        "Обучаем новую модель или загружаем обученную"
      ]
    },
    {
      "cell_type": "code",
      "execution_count": null,
      "metadata": {
        "id": "gYLWlSRIMmnZ"
      },
      "outputs": [],
      "source": [
        "TRAIN_NEW_MODEL=False"
      ]
    },
    {
      "cell_type": "code",
      "execution_count": null,
      "metadata": {
        "id": "c_OKdrHdKeGW"
      },
      "outputs": [],
      "source": [
        "if TRAIN_NEW_MODEL:\n",
        "    model = artm.ARTM(num_topics=100,\n",
        "                  dictionary=dictionary, \n",
        "                  class_ids={'@default_class': 1.0,\n",
        "                             '@tag': 10.0,\n",
        "                             '@month': 10.0, \n",
        "                             })\n",
        "    model.scores.add(artm.PerplexityScore(name='perplexity', dictionary=dictionary))\n",
        "    #model.scores.add(artm.TopTokensScore(name='top-tokens', num_tokens=10))\n",
        "    model.scores.add(artm.SparsityPhiScore(name='sparsity_month', class_id='@month'))\n",
        "    model.scores.add(artm.SparsityPhiScore(name='sparsity_tag', class_id='@tag'))\n",
        "\n",
        "    iterator = tqdm(range(0,10))\n",
        "    for i in iterator:\n",
        "        model.fit_offline(bv_train, num_collection_passes=1)\n",
        "        iterator.set_postfix({'perplexity': model.score_tracker['perplexity'].value[-1],\n",
        "                              'sparsity_month': model.score_tracker['sparsity_month'].value[-1],\n",
        "                              'sparsity_tag': model.score_tracker['sparsity_tag'].value[-1],  \n",
        "                              })\n",
        "        # save model on every iteration\n",
        "        model.dump_artm_model(f'{DIR}/results_new/model/MOD-default-tag10-month10_REG-no_{i}it')\n",
        "else:\n",
        "    model = artm.load_artm_model(f'{DIR}/results_new/model/MOD-default-tag10-month10_REG-no_9it')\n",
        "    model.scores.add(artm.PerplexityScore(name='perplexity', dictionary=dictionary), overwrite=True)\n",
        "    #model.scores.add(artm.TopTokensScore(name='top-tokens', num_tokens=10), overwrite=True)\n",
        "    model.scores.add(artm.SparsityPhiScore(name='sparsity_month', class_id='@month'), overwrite=True)\n",
        "    model.scores.add(artm.SparsityPhiScore(name='sparsity_tag', class_id='@tag'), overwrite=True)"
      ]
    },
    {
      "cell_type": "markdown",
      "metadata": {
        "id": "948eF386nsio"
      },
      "source": [
        "## Метрики в процессе обучения"
      ]
    },
    {
      "cell_type": "code",
      "execution_count": null,
      "metadata": {
        "id": "UF4L5kuknsip",
        "colab": {
          "base_uri": "https://localhost:8080/",
          "height": 279
        },
        "outputId": "3a71110e-42fc-4233-feca-0100e7f76cdc"
      },
      "outputs": [
        {
          "output_type": "display_data",
          "data": {
            "text/plain": [
              "<Figure size 432x288 with 1 Axes>"
            ],
            "image/png": "[encoded data removed]"
          },
          "metadata": {
            "needs_background": "light"
          }
        }
      ],
      "source": [
        "plt.plot(model.score_tracker['perplexity'].value, label = 'perplexity')\n",
        "plt.legend(loc = 'best')\n",
        "plt.xlabel('iteration')\n",
        "plt.ylabel('score')\n",
        "plt.yscale('log')\n",
        "plt.show()"
      ]
    },
    {
      "cell_type": "code",
      "execution_count": null,
      "metadata": {
        "id": "Q4aN7sw8nyPB",
        "colab": {
          "base_uri": "https://localhost:8080/",
          "height": 279
        },
        "outputId": "b076a236-24e0-4156-ddbe-8010d76c7d1b"
      },
      "outputs": [
        {
          "output_type": "display_data",
          "data": {
            "text/plain": [
              "<Figure size 432x288 with 1 Axes>"
            ],
            "image/png": "[encoded data removed]"
          },
          "metadata": {
            "needs_background": "light"
          }
        }
      ],
      "source": [
        "plt.plot(model.score_tracker['sparsity_month'].value, label = 'sparsity_month')\n",
        "plt.plot(model.score_tracker['sparsity_tag'].value, label = 'sparsity_tag')\n",
        "plt.legend(loc = 'best')\n",
        "plt.xlabel('iteration')\n",
        "plt.ylabel('score')\n",
        "plt.show()"
      ]
    },
    {
      "cell_type": "markdown",
      "metadata": {
        "id": "hu7qEIMGM33T"
      },
      "source": [
        "Видим, что при равных весах роль модальности по темам существенна, тогда как модальность по месяцу фактически ни на что не влияет. Это ожидаемо, т.к. производится классификация"
      ]
    },
    {
      "cell_type": "markdown",
      "metadata": {
        "id": "UX2u0Edynsip"
      },
      "source": [
        "## Получаем тематические вектора"
      ]
    },
    {
      "cell_type": "code",
      "execution_count": null,
      "metadata": {
        "id": "ILb2fcw2nsiq"
      },
      "outputs": [],
      "source": [
        "X_train_pd = model.transform(bv_train)"
      ]
    },
    {
      "cell_type": "code",
      "source": [
        ""
      ],
      "metadata": {
        "id": "MEct5IXyUOEf"
      },
      "execution_count": null,
      "outputs": []
    },
    {
      "cell_type": "code",
      "execution_count": null,
      "metadata": {
        "id": "xc3Mt9oCnsiq",
        "colab": {
          "base_uri": "https://localhost:8080/",
          "height": 534,
          "referenced_widgets": [
            "88688799ec2d4b359eda5ae4f30a8f7d",
            "ec8c56687eea4fdfb7aeb9a25c8a6c5e",
            "268f87a63d724ce9a90a9ec4b7cfa895",
            "1f8c6ad7fd744b64bebff4d7aad64e17",
            "0463cb72bc154382ba477ba764c3365d",
            "be513fb3243c44a8b3dcacf52f8c7f15",
            "7380be24d094418fa1d77f13cb31a5a5",
            "1cabf8f370264ea98a3f20bdcf4bdc7a",
            "5d9aa68059c64f06a5ed9de1d5b1708e",
            "546920a8d49c43dea55fcfcbb83aac6e",
            "9ed7ddbd621c4e90bee3d16c3ab45372"
          ]
        },
        "outputId": "fb8c8ab2-399d-4264-81d4-8fd3acf1e886"
      },
      "outputs": [
        {
          "output_type": "display_data",
          "data": {
            "text/plain": [
              "  0%|          | 0/653795 [00:00<?, ?it/s]"
            ],
            "application/vnd.jupyter.widget-view+json": {
              "version_major": 2,
              "version_minor": 0,
              "model_id": "88688799ec2d4b359eda5ae4f30a8f7d"
            }
          },
          "metadata": {}
        },
        {
          "output_type": "error",
          "ename": "KeyError",
          "evalue": "ignored",
          "traceback": [
            "\u001b[0;31m---------------------------------------------------------------------------\u001b[0m",
            "\u001b[0;31mKeyError\u001b[0m                                  Traceback (most recent call last)",
            "\u001b[0;32m/usr/local/lib/python3.7/dist-packages/pandas/core/indexes/base.py\u001b[0m in \u001b[0;36mget_loc\u001b[0;34m(self, key, method, tolerance)\u001b[0m\n\u001b[1;32m   3360\u001b[0m             \u001b[0;32mtry\u001b[0m\u001b[0;34m:\u001b[0m\u001b[0;34m\u001b[0m\u001b[0;34m\u001b[0m\u001b[0m\n\u001b[0;32m-> 3361\u001b[0;31m                 \u001b[0;32mreturn\u001b[0m \u001b[0mself\u001b[0m\u001b[0;34m.\u001b[0m\u001b[0m_engine\u001b[0m\u001b[0;34m.\u001b[0m\u001b[0mget_loc\u001b[0m\u001b[0;34m(\u001b[0m\u001b[0mcasted_key\u001b[0m\u001b[0;34m)\u001b[0m\u001b[0;34m\u001b[0m\u001b[0;34m\u001b[0m\u001b[0m\n\u001b[0m\u001b[1;32m   3362\u001b[0m             \u001b[0;32mexcept\u001b[0m \u001b[0mKeyError\u001b[0m \u001b[0;32mas\u001b[0m \u001b[0merr\u001b[0m\u001b[0;34m:\u001b[0m\u001b[0;34m\u001b[0m\u001b[0;34m\u001b[0m\u001b[0m\n",
            "\u001b[0;32m/usr/local/lib/python3.7/dist-packages/pandas/_libs/index.pyx\u001b[0m in \u001b[0;36mpandas._libs.index.IndexEngine.get_loc\u001b[0;34m()\u001b[0m\n",
            "\u001b[0;32m/usr/local/lib/python3.7/dist-packages/pandas/_libs/index.pyx\u001b[0m in \u001b[0;36mpandas._libs.index.IndexEngine.get_loc\u001b[0;34m()\u001b[0m\n",
            "\u001b[0;32mpandas/_libs/hashtable_class_helper.pxi\u001b[0m in \u001b[0;36mpandas._libs.hashtable.Int64HashTable.get_item\u001b[0;34m()\u001b[0m\n",
            "\u001b[0;32mpandas/_libs/hashtable_class_helper.pxi\u001b[0m in \u001b[0;36mpandas._libs.hashtable.Int64HashTable.get_item\u001b[0;34m()\u001b[0m\n",
            "\u001b[0;31mKeyError\u001b[0m: 0",
            "\nThe above exception was the direct cause of the following exception:\n",
            "\u001b[0;31mKeyError\u001b[0m                                  Traceback (most recent call last)",
            "\u001b[0;32m<ipython-input-47-ca96ec8afde2>\u001b[0m in \u001b[0;36m<module>\u001b[0;34m()\u001b[0m\n\u001b[1;32m      1\u001b[0m \u001b[0mX_train\u001b[0m \u001b[0;34m=\u001b[0m \u001b[0;34m[\u001b[0m\u001b[0;34m]\u001b[0m\u001b[0;34m\u001b[0m\u001b[0;34m\u001b[0m\u001b[0m\n\u001b[1;32m      2\u001b[0m \u001b[0;32mfor\u001b[0m \u001b[0mi\u001b[0m \u001b[0;32min\u001b[0m \u001b[0mtqdm\u001b[0m\u001b[0;34m(\u001b[0m\u001b[0mrange\u001b[0m\u001b[0;34m(\u001b[0m\u001b[0mlen\u001b[0m\u001b[0;34m(\u001b[0m\u001b[0my_train\u001b[0m\u001b[0;34m)\u001b[0m\u001b[0;34m)\u001b[0m\u001b[0;34m)\u001b[0m\u001b[0;34m:\u001b[0m\u001b[0;34m\u001b[0m\u001b[0;34m\u001b[0m\u001b[0m\n\u001b[0;32m----> 3\u001b[0;31m     \u001b[0mX_train\u001b[0m\u001b[0;34m.\u001b[0m\u001b[0mappend\u001b[0m\u001b[0;34m(\u001b[0m\u001b[0mX_train_pd\u001b[0m\u001b[0;34m[\u001b[0m\u001b[0mi\u001b[0m\u001b[0;34m]\u001b[0m\u001b[0;34m.\u001b[0m\u001b[0mvalues\u001b[0m\u001b[0;34m)\u001b[0m\u001b[0;34m\u001b[0m\u001b[0;34m\u001b[0m\u001b[0m\n\u001b[0m\u001b[1;32m      4\u001b[0m \u001b[0mX_train_np\u001b[0m \u001b[0;34m=\u001b[0m \u001b[0mnp\u001b[0m\u001b[0;34m.\u001b[0m\u001b[0marray\u001b[0m\u001b[0;34m(\u001b[0m\u001b[0mX_train\u001b[0m\u001b[0;34m)\u001b[0m\u001b[0;34m\u001b[0m\u001b[0;34m\u001b[0m\u001b[0m\n\u001b[1;32m      5\u001b[0m \u001b[0my_train_np\u001b[0m \u001b[0;34m=\u001b[0m \u001b[0mnp\u001b[0m\u001b[0;34m.\u001b[0m\u001b[0marray\u001b[0m\u001b[0;34m(\u001b[0m\u001b[0my_train\u001b[0m\u001b[0;34m)\u001b[0m\u001b[0;34m\u001b[0m\u001b[0;34m\u001b[0m\u001b[0m\n",
            "\u001b[0;32m/usr/local/lib/python3.7/dist-packages/pandas/core/frame.py\u001b[0m in \u001b[0;36m__getitem__\u001b[0;34m(self, key)\u001b[0m\n\u001b[1;32m   3456\u001b[0m             \u001b[0;32mif\u001b[0m \u001b[0mself\u001b[0m\u001b[0;34m.\u001b[0m\u001b[0mcolumns\u001b[0m\u001b[0;34m.\u001b[0m\u001b[0mnlevels\u001b[0m \u001b[0;34m>\u001b[0m \u001b[0;36m1\u001b[0m\u001b[0;34m:\u001b[0m\u001b[0;34m\u001b[0m\u001b[0;34m\u001b[0m\u001b[0m\n\u001b[1;32m   3457\u001b[0m                 \u001b[0;32mreturn\u001b[0m \u001b[0mself\u001b[0m\u001b[0;34m.\u001b[0m\u001b[0m_getitem_multilevel\u001b[0m\u001b[0;34m(\u001b[0m\u001b[0mkey\u001b[0m\u001b[0;34m)\u001b[0m\u001b[0;34m\u001b[0m\u001b[0;34m\u001b[0m\u001b[0m\n\u001b[0;32m-> 3458\u001b[0;31m             \u001b[0mindexer\u001b[0m \u001b[0;34m=\u001b[0m \u001b[0mself\u001b[0m\u001b[0;34m.\u001b[0m\u001b[0mcolumns\u001b[0m\u001b[0;34m.\u001b[0m\u001b[0mget_loc\u001b[0m\u001b[0;34m(\u001b[0m\u001b[0mkey\u001b[0m\u001b[0;34m)\u001b[0m\u001b[0;34m\u001b[0m\u001b[0;34m\u001b[0m\u001b[0m\n\u001b[0m\u001b[1;32m   3459\u001b[0m             \u001b[0;32mif\u001b[0m \u001b[0mis_integer\u001b[0m\u001b[0;34m(\u001b[0m\u001b[0mindexer\u001b[0m\u001b[0;34m)\u001b[0m\u001b[0;34m:\u001b[0m\u001b[0;34m\u001b[0m\u001b[0;34m\u001b[0m\u001b[0m\n\u001b[1;32m   3460\u001b[0m                 \u001b[0mindexer\u001b[0m \u001b[0;34m=\u001b[0m \u001b[0;34m[\u001b[0m\u001b[0mindexer\u001b[0m\u001b[0;34m]\u001b[0m\u001b[0;34m\u001b[0m\u001b[0;34m\u001b[0m\u001b[0m\n",
            "\u001b[0;32m/usr/local/lib/python3.7/dist-packages/pandas/core/indexes/base.py\u001b[0m in \u001b[0;36mget_loc\u001b[0;34m(self, key, method, tolerance)\u001b[0m\n\u001b[1;32m   3361\u001b[0m                 \u001b[0;32mreturn\u001b[0m \u001b[0mself\u001b[0m\u001b[0;34m.\u001b[0m\u001b[0m_engine\u001b[0m\u001b[0;34m.\u001b[0m\u001b[0mget_loc\u001b[0m\u001b[0;34m(\u001b[0m\u001b[0mcasted_key\u001b[0m\u001b[0;34m)\u001b[0m\u001b[0;34m\u001b[0m\u001b[0;34m\u001b[0m\u001b[0m\n\u001b[1;32m   3362\u001b[0m             \u001b[0;32mexcept\u001b[0m \u001b[0mKeyError\u001b[0m \u001b[0;32mas\u001b[0m \u001b[0merr\u001b[0m\u001b[0;34m:\u001b[0m\u001b[0;34m\u001b[0m\u001b[0;34m\u001b[0m\u001b[0m\n\u001b[0;32m-> 3363\u001b[0;31m                 \u001b[0;32mraise\u001b[0m \u001b[0mKeyError\u001b[0m\u001b[0;34m(\u001b[0m\u001b[0mkey\u001b[0m\u001b[0;34m)\u001b[0m \u001b[0;32mfrom\u001b[0m \u001b[0merr\u001b[0m\u001b[0;34m\u001b[0m\u001b[0;34m\u001b[0m\u001b[0m\n\u001b[0m\u001b[1;32m   3364\u001b[0m \u001b[0;34m\u001b[0m\u001b[0m\n\u001b[1;32m   3365\u001b[0m         \u001b[0;32mif\u001b[0m \u001b[0mis_scalar\u001b[0m\u001b[0;34m(\u001b[0m\u001b[0mkey\u001b[0m\u001b[0;34m)\u001b[0m \u001b[0;32mand\u001b[0m \u001b[0misna\u001b[0m\u001b[0;34m(\u001b[0m\u001b[0mkey\u001b[0m\u001b[0;34m)\u001b[0m \u001b[0;32mand\u001b[0m \u001b[0;32mnot\u001b[0m \u001b[0mself\u001b[0m\u001b[0;34m.\u001b[0m\u001b[0mhasnans\u001b[0m\u001b[0;34m:\u001b[0m\u001b[0;34m\u001b[0m\u001b[0;34m\u001b[0m\u001b[0m\n",
            "\u001b[0;31mKeyError\u001b[0m: 0"
          ]
        }
      ],
      "source": [
        "X_train = []\n",
        "for i in tqdm(range(len(y_train))):\n",
        "    X_train.append(X_train_pd[i].values)\n",
        "X_train_np = np.array(X_train)\n",
        "y_train_np = np.array(y_train)\n",
        "X_train_np, y_train_np = shuffle(X_train_np, y_train_np,random_state=42)"
      ]
    },
    {
      "cell_type": "code",
      "execution_count": null,
      "metadata": {
        "id": "1ubdGmYDnsiq",
        "colab": {
          "base_uri": "https://localhost:8080/",
          "height": 49,
          "referenced_widgets": [
            "0430944d164342df99b4cb10b4d9489a",
            "4a9a3cd801a64007a4854fc18c5b419b",
            "0a52226ea92c4d11a171054d5cde9167",
            "c85de35eec3d40e2ba729f7f358bb1ff",
            "2096728df1594fe29f37b2334ec7ef8c",
            "6702e1f34d2c4a04a5d137da6a84a7ca",
            "c29d21853e3f4dc2a7272276f096bf22",
            "4f0de55ef1744b9b90d6f52b7f8c279f",
            "c42696dbf32644eda4590060b040ac6f",
            "b8bd2988960144a3bdc860bd02e7e4e4",
            "9ddef664af6b4f3094d2af40ad98e300"
          ]
        },
        "outputId": "b5410aa2-7cd2-42b7-bdd7-e2d90317b8de"
      },
      "outputs": [
        {
          "output_type": "display_data",
          "data": {
            "text/plain": [
              "  0%|          | 0/6604 [00:00<?, ?it/s]"
            ],
            "application/vnd.jupyter.widget-view+json": {
              "version_major": 2,
              "version_minor": 0,
              "model_id": "0430944d164342df99b4cb10b4d9489a"
            }
          },
          "metadata": {}
        }
      ],
      "source": [
        "X_valid_pd = model.transform(bv_valid)\n",
        "X_valid = []\n",
        "for i in tqdm(range(len(y_valid))):\n",
        "    X_valid.append(X_valid_pd[i].values)"
      ]
    },
    {
      "cell_type": "markdown",
      "metadata": {
        "id": "5rsI-gb7nsiq"
      },
      "source": [
        "## Классификатор\n",
        "\n",
        "RandomForest"
      ]
    },
    {
      "cell_type": "code",
      "execution_count": null,
      "metadata": {
        "id": "4lP9lld3oc_l",
        "colab": {
          "base_uri": "https://localhost:8080/",
          "height": 217
        },
        "outputId": "173a01a3-35cf-4204-b26f-33c6484aa477"
      },
      "outputs": [
        {
          "output_type": "error",
          "ename": "NameError",
          "evalue": "ignored",
          "traceback": [
            "\u001b[0;31m---------------------------------------------------------------------------\u001b[0m",
            "\u001b[0;31mNameError\u001b[0m                                 Traceback (most recent call last)",
            "\u001b[0;32m<ipython-input-48-d3c9623f0022>\u001b[0m in \u001b[0;36m<module>\u001b[0;34m()\u001b[0m\n\u001b[1;32m      1\u001b[0m \u001b[0mclassifier\u001b[0m \u001b[0;34m=\u001b[0m \u001b[0mRandomForestClassifier\u001b[0m\u001b[0;34m(\u001b[0m\u001b[0mn_estimators\u001b[0m\u001b[0;34m=\u001b[0m\u001b[0;36m10\u001b[0m\u001b[0;34m)\u001b[0m\u001b[0;34m\u001b[0m\u001b[0;34m\u001b[0m\u001b[0m\n\u001b[0;32m----> 2\u001b[0;31m \u001b[0mclassifier\u001b[0m\u001b[0;34m.\u001b[0m\u001b[0mfit\u001b[0m\u001b[0;34m(\u001b[0m\u001b[0mX_train_np\u001b[0m\u001b[0;34m,\u001b[0m \u001b[0my_train_np\u001b[0m\u001b[0;34m)\u001b[0m\u001b[0;34m\u001b[0m\u001b[0;34m\u001b[0m\u001b[0m\n\u001b[0m\u001b[1;32m      3\u001b[0m \u001b[0mpred\u001b[0m \u001b[0;34m=\u001b[0m \u001b[0mclassifier\u001b[0m\u001b[0;34m.\u001b[0m\u001b[0mpredict\u001b[0m\u001b[0;34m(\u001b[0m\u001b[0mX_valid\u001b[0m\u001b[0;34m)\u001b[0m\u001b[0;34m\u001b[0m\u001b[0;34m\u001b[0m\u001b[0m\n\u001b[1;32m      4\u001b[0m \u001b[0mprint\u001b[0m\u001b[0;34m(\u001b[0m\u001b[0mclassification_report\u001b[0m\u001b[0;34m(\u001b[0m\u001b[0my_valid\u001b[0m\u001b[0;34m,\u001b[0m \u001b[0mpred\u001b[0m\u001b[0;34m,\u001b[0m \u001b[0mzero_division\u001b[0m\u001b[0;34m=\u001b[0m\u001b[0;36m1\u001b[0m\u001b[0;34m)\u001b[0m\u001b[0;34m)\u001b[0m\u001b[0;34m\u001b[0m\u001b[0;34m\u001b[0m\u001b[0m\n",
            "\u001b[0;31mNameError\u001b[0m: name 'X_train_np' is not defined"
          ]
        }
      ],
      "source": [
        "classifier = RandomForestClassifier(n_estimators=10)\n",
        "classifier.fit(X_train_np, y_train_np)\n",
        "pred = classifier.predict(X_valid)\n",
        "print(classification_report(y_valid, pred, zero_division=1))"
      ]
    },
    {
      "cell_type": "markdown",
      "metadata": {
        "id": "BXQvlSeAJm2B"
      },
      "source": [
        "# Мультимодальная модель (веса: 5, 2)\n",
        "Добавим модальности месяца (@month с весом 2) и топика статьи (@tag с весом 5), без регуляризаторов\n",
        "\n",
        "Обучаем новую модель или загружаем обученную"
      ]
    },
    {
      "cell_type": "code",
      "execution_count": null,
      "metadata": {
        "id": "dWhvfjBDahWX"
      },
      "outputs": [],
      "source": [
        "TRAIN_NEW_MODEL=False"
      ]
    },
    {
      "cell_type": "code",
      "execution_count": null,
      "metadata": {
        "id": "wcMYIHsgJdUa"
      },
      "outputs": [],
      "source": [
        "if TRAIN_NEW_MODEL:\n",
        "    model = artm.ARTM(num_topics=100,\n",
        "                  dictionary=dictionary, \n",
        "                  class_ids={'@default_class': 1.0,\n",
        "                             '@tag': 5.0,\n",
        "                             '@month': 2.0, \n",
        "                             })\n",
        "    model.scores.add(artm.PerplexityScore(name='perplexity', dictionary=dictionary))\n",
        "    #model.scores.add(artm.TopTokensScore(name='top-tokens', num_tokens=10))\n",
        "    model.scores.add(artm.SparsityPhiScore(name='sparsity_month', class_id='@month'))\n",
        "    model.scores.add(artm.SparsityPhiScore(name='sparsity_tag', class_id='@tag'))\n",
        "\n",
        "    iterator = tqdm(range(0,10))\n",
        "    for i in iterator:\n",
        "        model.fit_offline(bv_train, num_collection_passes=1)\n",
        "        iterator.set_postfix({'perplexity': model.score_tracker['perplexity'].value[-1],\n",
        "                              'sparsity_month': model.score_tracker['sparsity_month'].value[-1],\n",
        "                              'sparsity_tag': model.score_tracker['sparsity_tag'].value[-1],  \n",
        "                              })\n",
        "        # save model on every iteration\n",
        "        model.dump_artm_model(f'{DIR}/results_new/model/MOD-default-tag5-month2_REG-no_{i}it')\n",
        "else:\n",
        "    model = artm.load_artm_model(f'{DIR}/results_new/model/MOD-default-tag5-month2_REG-no_9it')\n",
        "    model.scores.add(artm.PerplexityScore(name='perplexity', dictionary=dictionary), overwrite=True)\n",
        "    #model.scores.add(artm.TopTokensScore(name='top-tokens', num_tokens=10), overwrite=True)\n",
        "    model.scores.add(artm.SparsityPhiScore(name='sparsity_month', class_id='@month'), overwrite=True)\n",
        "    model.scores.add(artm.SparsityPhiScore(name='sparsity_tag', class_id='@tag'), overwrite=True)"
      ]
    },
    {
      "cell_type": "markdown",
      "metadata": {
        "id": "Ib-0nA2oJdUy"
      },
      "source": [
        "## Метрики в процессе обучения"
      ]
    },
    {
      "cell_type": "code",
      "execution_count": null,
      "metadata": {
        "colab": {
          "base_uri": "https://localhost:8080/",
          "height": 279
        },
        "id": "P37NIEksJdUz",
        "outputId": "7775541f-997a-446d-8de0-9464ffe38651"
      },
      "outputs": [
        {
          "output_type": "display_data",
          "data": {
            "text/plain": [
              "<Figure size 432x288 with 1 Axes>"
            ],
            "image/png": "[encoded data removed]"
          },
          "metadata": {
            "needs_background": "light"
          }
        }
      ],
      "source": [
        "plt.plot(model.score_tracker['perplexity'].value, label = 'perplexity')\n",
        "plt.legend(loc = 'best')\n",
        "plt.xlabel('iteration')\n",
        "plt.ylabel('score')\n",
        "plt.yscale('log')\n",
        "plt.show()"
      ]
    },
    {
      "cell_type": "code",
      "execution_count": null,
      "metadata": {
        "colab": {
          "base_uri": "https://localhost:8080/",
          "height": 279
        },
        "id": "JEgLNr8cJdU0",
        "outputId": "a86c339b-00d5-4fb9-e4f5-1aad272b22d9"
      },
      "outputs": [
        {
          "output_type": "display_data",
          "data": {
            "text/plain": [
              "<Figure size 432x288 with 1 Axes>"
            ],
            "image/png": "[encoded data removed]"
          },
          "metadata": {
            "needs_background": "light"
          }
        }
      ],
      "source": [
        "plt.plot(model.score_tracker['sparsity_month'].value, label = 'sparsity_month')\n",
        "plt.plot(model.score_tracker['sparsity_tag'].value, label = 'sparsity_tag')\n",
        "plt.legend(loc = 'best')\n",
        "plt.xlabel('iteration')\n",
        "plt.ylabel('score')\n",
        "plt.show()"
      ]
    },
    {
      "cell_type": "markdown",
      "metadata": {
        "id": "KGDbO8SzJdU2"
      },
      "source": [
        "## Получаем тематические вектора"
      ]
    },
    {
      "cell_type": "code",
      "execution_count": null,
      "metadata": {
        "colab": {
          "background_save": true
        },
        "id": "BO55fcruJdU2"
      },
      "outputs": [],
      "source": [
        "X_train_pd = model.transform(bv_train)"
      ]
    },
    {
      "cell_type": "code",
      "execution_count": null,
      "metadata": {
        "colab": {
          "background_save": true
        },
        "id": "nEiv6ltPJdU2"
      },
      "outputs": [],
      "source": [
        "X_train = []\n",
        "for i in tqdm(range(len(y_train))):\n",
        "    X_train.append(X_train_pd[i].values)\n",
        "X_train_np = np.array(X_train)\n",
        "y_train_np = np.array(y_train)\n",
        "X_train_np, y_train_np = shuffle(X_train_np, y_train_np,random_state=42)"
      ]
    },
    {
      "cell_type": "code",
      "execution_count": null,
      "metadata": {
        "colab": {
          "background_save": true
        },
        "id": "ixYz-IiNJdU3"
      },
      "outputs": [],
      "source": [
        "X_valid_pd = model.transform(bv_valid)\n",
        "X_valid = []\n",
        "for i in tqdm(range(len(y_valid))):\n",
        "    X_valid.append(X_valid_pd[i].values)"
      ]
    },
    {
      "cell_type": "markdown",
      "metadata": {
        "id": "4oe8xoxdJdU3"
      },
      "source": [
        "## Классификатор\n",
        "\n",
        "RandomForest"
      ]
    },
    {
      "cell_type": "code",
      "execution_count": null,
      "metadata": {
        "colab": {
          "background_save": true
        },
        "id": "MqIjzLSfJdU4"
      },
      "outputs": [],
      "source": [
        "classifier = RandomForestClassifier(n_estimators=10)\n",
        "classifier.fit(X_train_np, y_train_np)\n",
        "pred = classifier.predict(X_valid)\n",
        "print(classification_report(y_valid, pred, zero_division=1))"
      ]
    },
    {
      "cell_type": "markdown",
      "metadata": {
        "id": "C3W7dthXE00_"
      },
      "source": [
        "# Мультимодальная модель (разные веса: 2, 5)\n",
        "Добавим модальности месяца (@month с весом 5) и топика статьи (@tag с весом 2), без регуляризаторов\n",
        "\n",
        "Обучаем новую модель или загружаем обученную"
      ]
    },
    {
      "cell_type": "code",
      "execution_count": null,
      "metadata": {
        "id": "0rTAOmuDRt-j"
      },
      "outputs": [],
      "source": [
        "TRAIN_NEW_MODEL=False"
      ]
    },
    {
      "cell_type": "code",
      "execution_count": null,
      "metadata": {
        "id": "CtkvVa33E01I"
      },
      "outputs": [],
      "source": [
        "if TRAIN_NEW_MODEL:\n",
        "    model = artm.ARTM(num_topics=100,\n",
        "                  dictionary=dictionary, \n",
        "                  class_ids={'@default_class': 1.0,\n",
        "                             '@tag': 2.0,\n",
        "                             '@month': 5.0, \n",
        "                             })\n",
        "    model.scores.add(artm.PerplexityScore(name='perplexity', dictionary=dictionary))\n",
        "    #model.scores.add(artm.TopTokensScore(name='top-tokens', num_tokens=10))\n",
        "    model.scores.add(artm.SparsityPhiScore(name='sparsity_month', class_id='@month'))\n",
        "    model.scores.add(artm.SparsityPhiScore(name='sparsity_tag', class_id='@tag'))\n",
        "\n",
        "    iterator = tqdm(range(0,10))\n",
        "    for i in iterator:\n",
        "        model.fit_offline(bv_train, num_collection_passes=1)\n",
        "        iterator.set_postfix({'perplexity': model.score_tracker['perplexity'].value[-1],\n",
        "                              'sparsity_month': model.score_tracker['sparsity_month'].value[-1],\n",
        "                              'sparsity_tag': model.score_tracker['sparsity_tag'].value[-1],  \n",
        "                              })\n",
        "        # save model on every iteration\n",
        "        model.dump_artm_model(f'{DIR}/results_new/model/MOD-default-tag2-month5_REG-no_{i}it')\n",
        "else:\n",
        "    model = artm.load_artm_model(f'{DIR}/results_new/model/MOD-default-tag2-month5_REG-no_9it')\n",
        "    model.scores.add(artm.PerplexityScore(name='perplexity', dictionary=dictionary), overwrite=True)\n",
        "    #model.scores.add(artm.TopTokensScore(name='top-tokens', num_tokens=10), overwrite=True)\n",
        "    model.scores.add(artm.SparsityPhiScore(name='sparsity_month', class_id='@month'), overwrite=True)\n",
        "    model.scores.add(artm.SparsityPhiScore(name='sparsity_tag', class_id='@tag'), overwrite=True)"
      ]
    },
    {
      "cell_type": "markdown",
      "metadata": {
        "id": "pNajJoxfE01J"
      },
      "source": [
        "## Метрики в процессе обучения"
      ]
    },
    {
      "cell_type": "code",
      "execution_count": null,
      "metadata": {
        "id": "3Lj5vPBME01J",
        "colab": {
          "base_uri": "https://localhost:8080/",
          "height": 279
        },
        "outputId": "8c12b337-3f90-4118-99d0-8a43cff4761a"
      },
      "outputs": [
        {
          "output_type": "display_data",
          "data": {
            "text/plain": [
              "<Figure size 432x288 with 1 Axes>"
            ],
            "image/png": "[encoded data removed]"
          },
          "metadata": {
            "needs_background": "light"
          }
        }
      ],
      "source": [
        "plt.plot(model.score_tracker['perplexity'].value, label = 'perplexity')\n",
        "plt.legend(loc = 'best')\n",
        "plt.xlabel('iteration')\n",
        "plt.ylabel('score')\n",
        "plt.yscale('log')\n",
        "plt.show()"
      ]
    },
    {
      "cell_type": "code",
      "execution_count": null,
      "metadata": {
        "id": "iJ-t_ClME01J",
        "colab": {
          "base_uri": "https://localhost:8080/",
          "height": 283
        },
        "outputId": "aa34ff45-d410-4e29-ef27-7031fc46cbe8"
      },
      "outputs": [
        {
          "output_type": "display_data",
          "data": {
            "text/plain": [
              "<Figure size 432x288 with 1 Axes>"
            ],
            "image/png": "[encoded data removed]"
          },
          "metadata": {
            "needs_background": "light"
          }
        }
      ],
      "source": [
        "plt.plot(model.score_tracker['sparsity_month'].value, label = 'sparsity_month')\n",
        "plt.plot(model.score_tracker['sparsity_tag'].value, label = 'sparsity_tag')\n",
        "plt.legend(loc = 'best')\n",
        "plt.xlabel('iteration')\n",
        "plt.ylabel('score')\n",
        "plt.show()"
      ]
    },
    {
      "cell_type": "markdown",
      "metadata": {
        "id": "8PsDnIzFE01K"
      },
      "source": [
        "## Получаем тематические вектора"
      ]
    },
    {
      "cell_type": "code",
      "execution_count": null,
      "metadata": {
        "id": "0sa6QYd_E01K"
      },
      "outputs": [],
      "source": [
        "X_train_pd = model.transform(bv_train)"
      ]
    },
    {
      "cell_type": "code",
      "execution_count": null,
      "metadata": {
        "id": "xNN6fEY_E01K",
        "colab": {
          "base_uri": "https://localhost:8080/",
          "height": 534,
          "referenced_widgets": [
            "e2f7d93f4fcc4268a7d688866435ec1e",
            "414c248286d0458e929e2a1bd40d914e",
            "fdb40754e285454ca76f210ebc40cce2",
            "4a7b559edb2942e1a8f86aeb55a615e9",
            "1e893c9839da4f55a5ee9637a64b7da1",
            "b83452cef40e453bac56af72b36fed33",
            "fd2abbdcbd694b78b3a56876d8ab8415",
            "19cf191b0d67451f93a9e5764b041b47",
            "21ffaa64b9c945c9b198e51a3de9eccd",
            "0e9e49731d71448097bf2c5a17a837cf",
            "813b9eaffd704801b0928bc9d1456481"
          ]
        },
        "outputId": "48969237-c877-4f2d-f94f-b886784afc1e"
      },
      "outputs": [
        {
          "output_type": "display_data",
          "data": {
            "text/plain": [
              "  0%|          | 0/653795 [00:00<?, ?it/s]"
            ],
            "application/vnd.jupyter.widget-view+json": {
              "version_major": 2,
              "version_minor": 0,
              "model_id": "e2f7d93f4fcc4268a7d688866435ec1e"
            }
          },
          "metadata": {}
        },
        {
          "output_type": "error",
          "ename": "KeyError",
          "evalue": "ignored",
          "traceback": [
            "\u001b[0;31m---------------------------------------------------------------------------\u001b[0m",
            "\u001b[0;31mKeyError\u001b[0m                                  Traceback (most recent call last)",
            "\u001b[0;32m/usr/local/lib/python3.7/dist-packages/pandas/core/indexes/base.py\u001b[0m in \u001b[0;36mget_loc\u001b[0;34m(self, key, method, tolerance)\u001b[0m\n\u001b[1;32m   3360\u001b[0m             \u001b[0;32mtry\u001b[0m\u001b[0;34m:\u001b[0m\u001b[0;34m\u001b[0m\u001b[0;34m\u001b[0m\u001b[0m\n\u001b[0;32m-> 3361\u001b[0;31m                 \u001b[0;32mreturn\u001b[0m \u001b[0mself\u001b[0m\u001b[0;34m.\u001b[0m\u001b[0m_engine\u001b[0m\u001b[0;34m.\u001b[0m\u001b[0mget_loc\u001b[0m\u001b[0;34m(\u001b[0m\u001b[0mcasted_key\u001b[0m\u001b[0;34m)\u001b[0m\u001b[0;34m\u001b[0m\u001b[0;34m\u001b[0m\u001b[0m\n\u001b[0m\u001b[1;32m   3362\u001b[0m             \u001b[0;32mexcept\u001b[0m \u001b[0mKeyError\u001b[0m \u001b[0;32mas\u001b[0m \u001b[0merr\u001b[0m\u001b[0;34m:\u001b[0m\u001b[0;34m\u001b[0m\u001b[0;34m\u001b[0m\u001b[0m\n",
            "\u001b[0;32m/usr/local/lib/python3.7/dist-packages/pandas/_libs/index.pyx\u001b[0m in \u001b[0;36mpandas._libs.index.IndexEngine.get_loc\u001b[0;34m()\u001b[0m\n",
            "\u001b[0;32m/usr/local/lib/python3.7/dist-packages/pandas/_libs/index.pyx\u001b[0m in \u001b[0;36mpandas._libs.index.IndexEngine.get_loc\u001b[0;34m()\u001b[0m\n",
            "\u001b[0;32mpandas/_libs/hashtable_class_helper.pxi\u001b[0m in \u001b[0;36mpandas._libs.hashtable.Int64HashTable.get_item\u001b[0;34m()\u001b[0m\n",
            "\u001b[0;32mpandas/_libs/hashtable_class_helper.pxi\u001b[0m in \u001b[0;36mpandas._libs.hashtable.Int64HashTable.get_item\u001b[0;34m()\u001b[0m\n",
            "\u001b[0;31mKeyError\u001b[0m: 0",
            "\nThe above exception was the direct cause of the following exception:\n",
            "\u001b[0;31mKeyError\u001b[0m                                  Traceback (most recent call last)",
            "\u001b[0;32m<ipython-input-37-ca96ec8afde2>\u001b[0m in \u001b[0;36m<module>\u001b[0;34m()\u001b[0m\n\u001b[1;32m      1\u001b[0m \u001b[0mX_train\u001b[0m \u001b[0;34m=\u001b[0m \u001b[0;34m[\u001b[0m\u001b[0;34m]\u001b[0m\u001b[0;34m\u001b[0m\u001b[0;34m\u001b[0m\u001b[0m\n\u001b[1;32m      2\u001b[0m \u001b[0;32mfor\u001b[0m \u001b[0mi\u001b[0m \u001b[0;32min\u001b[0m \u001b[0mtqdm\u001b[0m\u001b[0;34m(\u001b[0m\u001b[0mrange\u001b[0m\u001b[0;34m(\u001b[0m\u001b[0mlen\u001b[0m\u001b[0;34m(\u001b[0m\u001b[0my_train\u001b[0m\u001b[0;34m)\u001b[0m\u001b[0;34m)\u001b[0m\u001b[0;34m)\u001b[0m\u001b[0;34m:\u001b[0m\u001b[0;34m\u001b[0m\u001b[0;34m\u001b[0m\u001b[0m\n\u001b[0;32m----> 3\u001b[0;31m     \u001b[0mX_train\u001b[0m\u001b[0;34m.\u001b[0m\u001b[0mappend\u001b[0m\u001b[0;34m(\u001b[0m\u001b[0mX_train_pd\u001b[0m\u001b[0;34m[\u001b[0m\u001b[0mi\u001b[0m\u001b[0;34m]\u001b[0m\u001b[0;34m.\u001b[0m\u001b[0mvalues\u001b[0m\u001b[0;34m)\u001b[0m\u001b[0;34m\u001b[0m\u001b[0;34m\u001b[0m\u001b[0m\n\u001b[0m\u001b[1;32m      4\u001b[0m \u001b[0mX_train_np\u001b[0m \u001b[0;34m=\u001b[0m \u001b[0mnp\u001b[0m\u001b[0;34m.\u001b[0m\u001b[0marray\u001b[0m\u001b[0;34m(\u001b[0m\u001b[0mX_train\u001b[0m\u001b[0;34m)\u001b[0m\u001b[0;34m\u001b[0m\u001b[0;34m\u001b[0m\u001b[0m\n\u001b[1;32m      5\u001b[0m \u001b[0my_train_np\u001b[0m \u001b[0;34m=\u001b[0m \u001b[0mnp\u001b[0m\u001b[0;34m.\u001b[0m\u001b[0marray\u001b[0m\u001b[0;34m(\u001b[0m\u001b[0my_train\u001b[0m\u001b[0;34m)\u001b[0m\u001b[0;34m\u001b[0m\u001b[0;34m\u001b[0m\u001b[0m\n",
            "\u001b[0;32m/usr/local/lib/python3.7/dist-packages/pandas/core/frame.py\u001b[0m in \u001b[0;36m__getitem__\u001b[0;34m(self, key)\u001b[0m\n\u001b[1;32m   3456\u001b[0m             \u001b[0;32mif\u001b[0m \u001b[0mself\u001b[0m\u001b[0;34m.\u001b[0m\u001b[0mcolumns\u001b[0m\u001b[0;34m.\u001b[0m\u001b[0mnlevels\u001b[0m \u001b[0;34m>\u001b[0m \u001b[0;36m1\u001b[0m\u001b[0;34m:\u001b[0m\u001b[0;34m\u001b[0m\u001b[0;34m\u001b[0m\u001b[0m\n\u001b[1;32m   3457\u001b[0m                 \u001b[0;32mreturn\u001b[0m \u001b[0mself\u001b[0m\u001b[0;34m.\u001b[0m\u001b[0m_getitem_multilevel\u001b[0m\u001b[0;34m(\u001b[0m\u001b[0mkey\u001b[0m\u001b[0;34m)\u001b[0m\u001b[0;34m\u001b[0m\u001b[0;34m\u001b[0m\u001b[0m\n\u001b[0;32m-> 3458\u001b[0;31m             \u001b[0mindexer\u001b[0m \u001b[0;34m=\u001b[0m \u001b[0mself\u001b[0m\u001b[0;34m.\u001b[0m\u001b[0mcolumns\u001b[0m\u001b[0;34m.\u001b[0m\u001b[0mget_loc\u001b[0m\u001b[0;34m(\u001b[0m\u001b[0mkey\u001b[0m\u001b[0;34m)\u001b[0m\u001b[0;34m\u001b[0m\u001b[0;34m\u001b[0m\u001b[0m\n\u001b[0m\u001b[1;32m   3459\u001b[0m             \u001b[0;32mif\u001b[0m \u001b[0mis_integer\u001b[0m\u001b[0;34m(\u001b[0m\u001b[0mindexer\u001b[0m\u001b[0;34m)\u001b[0m\u001b[0;34m:\u001b[0m\u001b[0;34m\u001b[0m\u001b[0;34m\u001b[0m\u001b[0m\n\u001b[1;32m   3460\u001b[0m                 \u001b[0mindexer\u001b[0m \u001b[0;34m=\u001b[0m \u001b[0;34m[\u001b[0m\u001b[0mindexer\u001b[0m\u001b[0;34m]\u001b[0m\u001b[0;34m\u001b[0m\u001b[0;34m\u001b[0m\u001b[0m\n",
            "\u001b[0;32m/usr/local/lib/python3.7/dist-packages/pandas/core/indexes/base.py\u001b[0m in \u001b[0;36mget_loc\u001b[0;34m(self, key, method, tolerance)\u001b[0m\n\u001b[1;32m   3361\u001b[0m                 \u001b[0;32mreturn\u001b[0m \u001b[0mself\u001b[0m\u001b[0;34m.\u001b[0m\u001b[0m_engine\u001b[0m\u001b[0;34m.\u001b[0m\u001b[0mget_loc\u001b[0m\u001b[0;34m(\u001b[0m\u001b[0mcasted_key\u001b[0m\u001b[0;34m)\u001b[0m\u001b[0;34m\u001b[0m\u001b[0;34m\u001b[0m\u001b[0m\n\u001b[1;32m   3362\u001b[0m             \u001b[0;32mexcept\u001b[0m \u001b[0mKeyError\u001b[0m \u001b[0;32mas\u001b[0m \u001b[0merr\u001b[0m\u001b[0;34m:\u001b[0m\u001b[0;34m\u001b[0m\u001b[0;34m\u001b[0m\u001b[0m\n\u001b[0;32m-> 3363\u001b[0;31m                 \u001b[0;32mraise\u001b[0m \u001b[0mKeyError\u001b[0m\u001b[0;34m(\u001b[0m\u001b[0mkey\u001b[0m\u001b[0;34m)\u001b[0m \u001b[0;32mfrom\u001b[0m \u001b[0merr\u001b[0m\u001b[0;34m\u001b[0m\u001b[0;34m\u001b[0m\u001b[0m\n\u001b[0m\u001b[1;32m   3364\u001b[0m \u001b[0;34m\u001b[0m\u001b[0m\n\u001b[1;32m   3365\u001b[0m         \u001b[0;32mif\u001b[0m \u001b[0mis_scalar\u001b[0m\u001b[0;34m(\u001b[0m\u001b[0mkey\u001b[0m\u001b[0;34m)\u001b[0m \u001b[0;32mand\u001b[0m \u001b[0misna\u001b[0m\u001b[0;34m(\u001b[0m\u001b[0mkey\u001b[0m\u001b[0;34m)\u001b[0m \u001b[0;32mand\u001b[0m \u001b[0;32mnot\u001b[0m \u001b[0mself\u001b[0m\u001b[0;34m.\u001b[0m\u001b[0mhasnans\u001b[0m\u001b[0;34m:\u001b[0m\u001b[0;34m\u001b[0m\u001b[0;34m\u001b[0m\u001b[0m\n",
            "\u001b[0;31mKeyError\u001b[0m: 0"
          ]
        }
      ],
      "source": [
        "X_train = []\n",
        "for i in tqdm(range(len(y_train))):\n",
        "    X_train.append(X_train_pd[i].values)\n",
        "X_train_np = np.array(X_train)\n",
        "y_train_np = np.array(y_train)\n",
        "X_train_np, y_train_np = shuffle(X_train_np, y_train_np,random_state=42)"
      ]
    },
    {
      "cell_type": "code",
      "execution_count": null,
      "metadata": {
        "id": "FNCz1htgE01K"
      },
      "outputs": [],
      "source": [
        "X_valid_pd = model.transform(bv_valid)\n",
        "X_valid = []\n",
        "for i in tqdm(range(len(y_valid))):\n",
        "    X_valid.append(X_valid_pd[i].values)"
      ]
    },
    {
      "cell_type": "markdown",
      "metadata": {
        "id": "wrThuJENE01K"
      },
      "source": [
        "## Классификатор\n",
        "\n",
        "RandomForest"
      ]
    },
    {
      "cell_type": "code",
      "execution_count": null,
      "metadata": {
        "id": "NAHpfjZrE01L",
        "colab": {
          "base_uri": "https://localhost:8080/",
          "height": 217
        },
        "outputId": "38909be2-1a8b-4126-e8cf-c7a40d287f99"
      },
      "outputs": [
        {
          "output_type": "error",
          "ename": "NameError",
          "evalue": "ignored",
          "traceback": [
            "\u001b[0;31m---------------------------------------------------------------------------\u001b[0m",
            "\u001b[0;31mNameError\u001b[0m                                 Traceback (most recent call last)",
            "\u001b[0;32m<ipython-input-36-d3c9623f0022>\u001b[0m in \u001b[0;36m<module>\u001b[0;34m()\u001b[0m\n\u001b[1;32m      1\u001b[0m \u001b[0mclassifier\u001b[0m \u001b[0;34m=\u001b[0m \u001b[0mRandomForestClassifier\u001b[0m\u001b[0;34m(\u001b[0m\u001b[0mn_estimators\u001b[0m\u001b[0;34m=\u001b[0m\u001b[0;36m10\u001b[0m\u001b[0;34m)\u001b[0m\u001b[0;34m\u001b[0m\u001b[0;34m\u001b[0m\u001b[0m\n\u001b[0;32m----> 2\u001b[0;31m \u001b[0mclassifier\u001b[0m\u001b[0;34m.\u001b[0m\u001b[0mfit\u001b[0m\u001b[0;34m(\u001b[0m\u001b[0mX_train_np\u001b[0m\u001b[0;34m,\u001b[0m \u001b[0my_train_np\u001b[0m\u001b[0;34m)\u001b[0m\u001b[0;34m\u001b[0m\u001b[0;34m\u001b[0m\u001b[0m\n\u001b[0m\u001b[1;32m      3\u001b[0m \u001b[0mpred\u001b[0m \u001b[0;34m=\u001b[0m \u001b[0mclassifier\u001b[0m\u001b[0;34m.\u001b[0m\u001b[0mpredict\u001b[0m\u001b[0;34m(\u001b[0m\u001b[0mX_valid\u001b[0m\u001b[0;34m)\u001b[0m\u001b[0;34m\u001b[0m\u001b[0;34m\u001b[0m\u001b[0m\n\u001b[1;32m      4\u001b[0m \u001b[0mprint\u001b[0m\u001b[0;34m(\u001b[0m\u001b[0mclassification_report\u001b[0m\u001b[0;34m(\u001b[0m\u001b[0my_valid\u001b[0m\u001b[0;34m,\u001b[0m \u001b[0mpred\u001b[0m\u001b[0;34m,\u001b[0m \u001b[0mzero_division\u001b[0m\u001b[0;34m=\u001b[0m\u001b[0;36m1\u001b[0m\u001b[0;34m)\u001b[0m\u001b[0;34m)\u001b[0m\u001b[0;34m\u001b[0m\u001b[0;34m\u001b[0m\u001b[0m\n",
            "\u001b[0;31mNameError\u001b[0m: name 'X_train_np' is not defined"
          ]
        }
      ],
      "source": [
        "classifier = RandomForestClassifier(n_estimators=10)\n",
        "classifier.fit(X_train_np, y_train_np)\n",
        "pred = classifier.predict(X_valid)\n",
        "print(classification_report(y_valid, pred, zero_division=1))"
      ]
    },
    {
      "cell_type": "markdown",
      "metadata": {
        "id": "bumqJjs_n8oo"
      },
      "source": [
        "# Модель с регуляризаторами (Sparse + Decorrelator)\n",
        "\n",
        "Как и в предыдущей модели, добавим модальности месяца (@month) и топика статьи (@tag). Кроме того, будем постепенно включать регуляризаторы: первые 4 итерации разреживающий (Sparse), затем, не выключая предыдущий, добавим декоррелирующий (Decorrelator) и обучим еще 11 итераций.\n",
        "\n",
        "Обучаем новую модель или загружаем обученную"
      ]
    },
    {
      "cell_type": "code",
      "execution_count": null,
      "metadata": {
        "id": "NI6etYZmT-la"
      },
      "outputs": [],
      "source": [
        "TRAIN_NEW_MODEL=False"
      ]
    },
    {
      "cell_type": "code",
      "execution_count": null,
      "metadata": {
        "id": "LarwSQlnohDU",
        "colab": {
          "base_uri": "https://localhost:8080/",
          "height": 81,
          "referenced_widgets": [
            "f31ae1b633384b61a28ca204e2b73c92",
            "fb1545b1cb0543fe85db0753f6298683",
            "c428b8cf2b24435c8d0f65cb022c5862",
            "ea2b729c8d4549daa764754d46a8e3f1",
            "5a53c7f207b642b68113914fe30f50bf",
            "c6f82fd16e984363b2bf2ebec3d4876a",
            "c75c5a76c7094b51bae2a23146f24beb",
            "d17ddb0477214894a08f6af2e028b9a8",
            "f30b767331274829b954cda1790eb70f",
            "277468eee4644489903327d9e3590eb7",
            "2b8ce9c77905402ab4e221940d46d73c",
            "66ed259aa2b34beba18babfd74223bff",
            "359d1b1bcd934f97bc72a9295188a093",
            "c09927ba3ca44b9cb28ec44bad5f8a3b",
            "03f59c6f59144aa4aafc91d88ad753e5",
            "7d3fe783896240e686fbb445b7eacc2e",
            "5683071243424e55976dbffee8ec6d88",
            "250528a9c4404079b0e3e1603ed8f4e5",
            "f3eef92fd58340ea8a235a5389f7ac4a",
            "16a08f77c1d749d7815368e31824eca3",
            "ade64b93ed1d43caa5160cb724b0cfa8",
            "6394abc3f6314874b9ee7c5b4afc14a4"
          ]
        },
        "outputId": "8dae89af-54a5-4522-99b9-1bef464caeb6"
      },
      "outputs": [
        {
          "output_type": "display_data",
          "data": {
            "text/plain": [
              "  0%|          | 0/4 [00:00<?, ?it/s]"
            ],
            "application/vnd.jupyter.widget-view+json": {
              "version_major": 2,
              "version_minor": 0,
              "model_id": "f31ae1b633384b61a28ca204e2b73c92"
            }
          },
          "metadata": {}
        },
        {
          "output_type": "display_data",
          "data": {
            "text/plain": [
              "  0%|          | 0/6 [00:00<?, ?it/s]"
            ],
            "application/vnd.jupyter.widget-view+json": {
              "version_major": 2,
              "version_minor": 0,
              "model_id": "66ed259aa2b34beba18babfd74223bff"
            }
          },
          "metadata": {}
        }
      ],
      "source": [
        "if TRAIN_NEW_MODEL:\n",
        "    model = artm.ARTM(num_topics=100,\n",
        "                  dictionary=dictionary, \n",
        "                  class_ids={'@default_class': 1.0,\n",
        "                             '@tag': 5.0,\n",
        "                             '@month': 2.0, \n",
        "                             })\n",
        "    model.scores.add(artm.PerplexityScore(name='perplexity', dictionary=dictionary))\n",
        "    #model.scores.add(artm.TopTokensScore(name='top-tokens', num_tokens=10))\n",
        "    model.scores.add(artm.SparsityPhiScore(name='sparsity_month', class_id='@month'))\n",
        "    model.scores.add(artm.SparsityPhiScore(name='sparsity_tag', class_id='@tag'))\n",
        "    \n",
        "    # First regularizer (Sparse) -- 4 iterations\n",
        "    model.regularizers.add(artm.SmoothSparsePhiRegularizer(name='smooth_sparse_phi_regularizer',\n",
        "                                                      tau=-0.1, #sparse\n",
        "                                                      class_ids=['@default_class', '@month', '@tag']))\n",
        "    iterator = tqdm(range(0,4))\n",
        "    for i in iterator:\n",
        "        model.fit_offline(bv_train, num_collection_passes=1)\n",
        "        iterator.set_postfix({'perplexity': model.score_tracker['perplexity'].value[-1],  \n",
        "                              'sparsity_month': model.score_tracker['sparsity_month'].value[-1],\n",
        "                              'sparsity_tag': model.score_tracker['sparsity_tag'].value[-1],\n",
        "                              })\n",
        "        model.dump_artm_model(f'{DIR}/results_new/model/MOD-default-tag5-month2_REG-sparse{i}it-decor0it')\n",
        "    \n",
        "    # Add second regularizer (Decorrelator) -- 11 iterations\n",
        "    model.regularizers.add(artm.DecorrelatorPhiRegularizer(name='decorrelator_phi_regularizer',\n",
        "                                                      tau=10000,\n",
        "                                                      class_ids=['@default_class', '@month', '@tag']))\n",
        "    iterator = tqdm(range(4,10))\n",
        "    for i in iterator:\n",
        "        model.fit_offline(bv_train, num_collection_passes=1)\n",
        "        iterator.set_postfix({'perplexity': model.score_tracker['perplexity'].value[-1],  \n",
        "                              'sparsity_month': model.score_tracker['sparsity_month'].value[-1],\n",
        "                              'sparsity_tag': model.score_tracker['sparsity_tag'].value[-1],\n",
        "                              })\n",
        "\n",
        "        model.dump_artm_model(f'{DIR}/results_new/model/MOD-default-tag5-month2_REG-sparse{i}it-decor{i}it')\n",
        "    \n",
        "else:\n",
        "    model = artm.load_artm_model(f'{DIR}/results_new/model/MOD-default-tag5-month2_REG-sparse9it-decor9it')\n",
        "    model.scores.add(artm.PerplexityScore(name='perplexity', dictionary=dictionary), overwrite=True)\n",
        "    #model.scores.add(artm.TopTokensScore(name='top-tokens', num_tokens=10), overwrite=True)\n",
        "    model.scores.add(artm.SparsityPhiScore(name='sparsity_month', class_id='@month'), overwrite=True)\n",
        "    model.scores.add(artm.SparsityPhiScore(name='sparsity_tag', class_id='@tag'), overwrite=True)"
      ]
    },
    {
      "cell_type": "markdown",
      "metadata": {
        "id": "yBA6q0uIpxo9"
      },
      "source": [
        "## Метрики в процессе обучения"
      ]
    },
    {
      "cell_type": "code",
      "execution_count": null,
      "metadata": {
        "colab": {
          "base_uri": "https://localhost:8080/",
          "height": 279
        },
        "id": "0y5FqCTcpxpE",
        "outputId": "da8c5c9f-740f-4cca-b534-b3e3beb55032"
      },
      "outputs": [
        {
          "output_type": "display_data",
          "data": {
            "text/plain": [
              "<Figure size 432x288 with 1 Axes>"
            ],
            "image/png": "[encoded data removed]"
          },
          "metadata": {
            "needs_background": "light"
          }
        }
      ],
      "source": [
        "plt.plot(model.score_tracker['perplexity'].value, label = 'perplexity')\n",
        "plt.legend(loc = 'best')\n",
        "plt.xlabel('iteration')\n",
        "plt.ylabel('score')\n",
        "plt.yscale('log')\n",
        "plt.show()"
      ]
    },
    {
      "cell_type": "code",
      "execution_count": null,
      "metadata": {
        "colab": {
          "base_uri": "https://localhost:8080/",
          "height": 279
        },
        "id": "cgKIP9l4pxpF",
        "outputId": "aae198fd-f434-4550-93a0-cb0b160b94bf"
      },
      "outputs": [
        {
          "output_type": "display_data",
          "data": {
            "text/plain": [
              "<Figure size 432x288 with 1 Axes>"
            ],
            "image/png": "[encoded data removed]"
          },
          "metadata": {
            "needs_background": "light"
          }
        }
      ],
      "source": [
        "plt.plot(model.score_tracker['sparsity_month'].value, label = 'sparsity_month')\n",
        "plt.plot(model.score_tracker['sparsity_tag'].value, label = 'sparsity_tag')\n",
        "plt.legend(loc = 'best')\n",
        "plt.xlabel('iteration')\n",
        "plt.ylabel('score')\n",
        "plt.show()"
      ]
    },
    {
      "cell_type": "markdown",
      "metadata": {
        "id": "6Xe2dzQgpxpF"
      },
      "source": [
        "## Получаем тематические вектора"
      ]
    },
    {
      "cell_type": "code",
      "execution_count": null,
      "metadata": {
        "id": "6jjfso1ApxpF"
      },
      "outputs": [],
      "source": [
        "X_train_pd = model.transform(bv_train)"
      ]
    },
    {
      "cell_type": "code",
      "execution_count": null,
      "metadata": {
        "colab": {
          "base_uri": "https://localhost:8080/",
          "height": 49,
          "referenced_widgets": [
            "05b8990ce0de4989ae683c81c0d45882",
            "390ce4ca28aa4dadbc6adca4557b642b",
            "b99b973650f84a958257fc6d24fe7921",
            "9f9782e3c5c44db4bd364594746cc488",
            "721b3693c91347109cb60a8764622ab3",
            "d6246f9f8dad4decbe02cdf89564873d",
            "10dfdb7d7da94d8dbfe5c1ef798387c6",
            "069fe5b20118426caec18b644b3a0c09",
            "787e4441c29b4d20bc635da153a32467",
            "1ce2e8b7eeec4fb6b4159845f9074f1e",
            "9318b13745bb4b8ba1bde7824409683a"
          ]
        },
        "id": "iwgl4M63pxpF",
        "outputId": "e6b14930-72d4-498f-b61b-8cd9cf2cb7bd"
      },
      "outputs": [
        {
          "data": {
            "application/vnd.jupyter.widget-view+json": {
              "model_id": "05b8990ce0de4989ae683c81c0d45882",
              "version_major": 2,
              "version_minor": 0
            },
            "text/plain": [
              "  0%|          | 0/653795 [00:00<?, ?it/s]"
            ]
          },
          "metadata": {},
          "output_type": "display_data"
        }
      ],
      "source": [
        "X_train = []\n",
        "for i in tqdm(range(len(y_train))):\n",
        "    X_train.append(X_train_pd[i].values)\n",
        "X_train_np = np.array(X_train)\n",
        "y_train_np = np.array(y_train)\n",
        "X_train_np, y_train_np = shuffle(X_train_np, y_train_np,random_state=42)"
      ]
    },
    {
      "cell_type": "code",
      "execution_count": null,
      "metadata": {
        "colab": {
          "base_uri": "https://localhost:8080/",
          "height": 49,
          "referenced_widgets": [
            "e26b61aaadce4551a0e5e1ae52eb3b4a",
            "e09c52bc73c9426a900856ebe3473ee0",
            "62ed77b8d94d4663961871f8b4691ed1",
            "5e733a9bb9c244c4b5fc66c300d99dda",
            "c674cbd5cb144ec9b0341102200de8d7",
            "35e20a0b4c874782ab39259627a9c254",
            "901b3960eb44469d9b8e45ab74166dd3",
            "5527fc6caac9433cba9dece1fc1fbeb4",
            "a44234cfc8014ecca1c05ea23a02c829",
            "0df6f1f51faf4d8f9557423365e84274",
            "f7ca0222ecd84a28a8ca0bdaa96d8a1a"
          ]
        },
        "id": "cjqQYbi5pxpF",
        "outputId": "a936a7cf-0e04-4a29-9c71-8408587821d6"
      },
      "outputs": [
        {
          "data": {
            "application/vnd.jupyter.widget-view+json": {
              "model_id": "e26b61aaadce4551a0e5e1ae52eb3b4a",
              "version_major": 2,
              "version_minor": 0
            },
            "text/plain": [
              "  0%|          | 0/6604 [00:00<?, ?it/s]"
            ]
          },
          "metadata": {},
          "output_type": "display_data"
        }
      ],
      "source": [
        "X_valid_pd = model.transform(bv_valid)\n",
        "X_valid = []\n",
        "for i in tqdm(range(len(y_valid))):\n",
        "    X_valid.append(X_valid_pd[i].values)"
      ]
    },
    {
      "cell_type": "markdown",
      "metadata": {
        "id": "VxtLIblkpxpF"
      },
      "source": [
        "## Классификатор\n",
        "RandomForest"
      ]
    },
    {
      "cell_type": "code",
      "execution_count": null,
      "metadata": {
        "colab": {
          "base_uri": "https://localhost:8080/"
        },
        "id": "nQabBCi-pxpG",
        "outputId": "1f76b83e-bae3-4293-e317-8e4448a14f4a"
      },
      "outputs": [
        {
          "name": "stdout",
          "output_type": "stream",
          "text": [
            "                      precision    recall  f1-score   support\n",
            "\n",
            "             coцсети       0.26      0.13      0.17        39\n",
            "                 nan       0.32      0.18      0.23       208\n",
            "          автобизнес       1.00      0.00      0.00         2\n",
            "     аналитика рынка       0.00      1.00      0.00         0\n",
            "   английский футбол       1.00      0.00      0.00         1\n",
            "          белоруссия       0.56      0.21      0.30        24\n",
            "              бизнес       0.14      0.07      0.10        70\n",
            "          бокс и мма       0.78      0.56      0.65        32\n",
            "                вещи       0.00      0.00      0.00         5\n",
            "     вирусные ролики       1.00      0.00      0.00         2\n",
            "         внешний вид       0.25      0.19      0.21        16\n",
            "                 все       0.64      0.95      0.76      3356\n",
            "             гаджеты       1.00      0.21      0.34        24\n",
            "               город       0.00      0.00      0.00        18\n",
            "        госэкономика       0.45      0.24      0.31       162\n",
            "                дача       0.00      0.00      0.00        13\n",
            "            движение       1.00      0.17      0.29         6\n",
            "      деловой климат       0.33      0.03      0.05        35\n",
            "              деньги       1.00      0.05      0.10        19\n",
            "          достижения       0.00      0.00      0.00         7\n",
            "                 еда       0.00      0.00      0.00         9\n",
            "               жизнь       0.67      0.18      0.29        11\n",
            "          закавказье       1.00      0.00      0.00         9\n",
            "               звери       0.44      0.19      0.27        21\n",
            "         зимние виды       0.67      0.25      0.36        16\n",
            "                игры       1.00      0.06      0.11        17\n",
            "         инструменты       1.00      0.00      0.00         7\n",
            "            интернет       0.33      0.16      0.22        87\n",
            "           искусство       1.00      0.00      0.00        17\n",
            "             история       1.00      0.00      0.00         4\n",
            "           казахстан       1.00      0.00      0.00         2\n",
            "            квартира       0.73      0.43      0.55        83\n",
            "   киберпреступность       1.00      0.00      0.00         1\n",
            "                кино       0.49      0.36      0.42        77\n",
            "               книги       1.00      0.00      0.00         6\n",
            "           конфликты       0.41      0.27      0.33        33\n",
            "              космос       0.67      0.21      0.31        39\n",
            "            криминал       0.60      0.14      0.23        21\n",
            "            культура       1.00      0.60      0.75         5\n",
            "         летние виды       0.00      0.00      0.00        24\n",
            "                люди       0.44      0.21      0.29        75\n",
            "                мемы       1.00      0.00      0.00         5\n",
            "                 мир       0.36      0.13      0.19        31\n",
            "      мировой бизнес       1.00      0.00      0.00        14\n",
            "        мировой опыт       1.00      0.00      0.00         1\n",
            "              мнения       0.00      0.00      0.00        13\n",
            "            молдавия       1.00      0.00      0.00         4\n",
            "              москва       1.00      0.00      0.00        19\n",
            "              музыка       0.52      0.26      0.35        54\n",
            "            наследие       1.00      0.00      0.00         1\n",
            "               наука       0.44      0.26      0.32        86\n",
            "            общество       0.47      0.31      0.37       369\n",
            "              оружие       0.67      0.14      0.23        29\n",
            "                офис       1.00      0.00      0.00        12\n",
            "            политика       0.61      0.44      0.51       418\n",
            "полиция и спецслужбы       1.00      0.00      0.00        14\n",
            "              пресса       0.00      0.00      0.00        19\n",
            "   преступная россия       1.00      0.00      0.00         3\n",
            "        преступность       1.00      0.00      0.00        36\n",
            "          прибалтика       1.00      0.00      0.00        13\n",
            "        происшествия       0.31      0.12      0.17       124\n",
            "             регионы       0.80      0.15      0.25        27\n",
            "             реклама       0.00      0.00      0.00         1\n",
            "              россия       0.67      0.11      0.18        19\n",
            "               рынки       1.00      0.00      0.00        39\n",
            "     следствие и суд       0.62      0.22      0.33       108\n",
            "             события       0.40      0.06      0.11        31\n",
            "                софт       1.00      0.00      0.00         5\n",
            "    социальная сфера       0.00      0.00      0.00         5\n",
            "        средняя азия       1.00      0.00      0.00        13\n",
            "               стиль       0.41      0.46      0.44        26\n",
            "          тв и радио       0.50      0.06      0.11        51\n",
            "               театр       0.00      0.00      0.00        11\n",
            "             техника       1.00      0.00      0.00        10\n",
            "             украина       0.79      0.74      0.77       238\n",
            "    финансы компаний       1.00      0.00      0.00         3\n",
            "              футбол       0.68      0.23      0.34       101\n",
            "              хоккей       1.00      0.00      0.00         5\n",
            "                часы       0.60      0.75      0.67         4\n",
            "           экономика       0.67      0.20      0.31        10\n",
            "             явления       0.32      0.21      0.25        29\n",
            "\n",
            "            accuracy                           0.61      6604\n",
            "           macro avg       0.63      0.15      0.17      6604\n",
            "        weighted avg       0.59      0.61      0.55      6604\n",
            "\n"
          ]
        }
      ],
      "source": [
        "classifier = RandomForestClassifier(n_estimators=10)\n",
        "classifier.fit(X_train_np, y_train_np)\n",
        "pred = classifier.predict(X_valid)\n",
        "print(classification_report(y_valid, pred, zero_division=1))"
      ]
    },
    {
      "cell_type": "markdown",
      "metadata": {
        "id": "HjYr2Jfhwot0"
      },
      "source": [
        "# Модель с регуляризаторами (Smooth + Decorrelator)\n",
        "\n",
        "Как и в предыдущей модели, добавим модальности месяца (@month) и топика статьи (@tag). Кроме того, будем постепенно включать регуляризаторы: первые 4 итераций сглаживающий (Smooth), затем, не выключая предыдущий, добавим декоррелирующий (Decorrelator) и обучим еще 11 итераций.\n",
        "\n",
        "Обучаем новую модель или загружаем обученную"
      ]
    },
    {
      "cell_type": "code",
      "execution_count": null,
      "metadata": {
        "id": "Sk1WvtBLaLaH"
      },
      "outputs": [],
      "source": [
        "TRAIN_NEW_MODEL=False"
      ]
    },
    {
      "cell_type": "code",
      "execution_count": null,
      "metadata": {
        "id": "yjFx6ok_wouB"
      },
      "outputs": [],
      "source": [
        "if TRAIN_NEW_MODEL:\n",
        "    model = artm.ARTM(num_topics=100,\n",
        "                  dictionary=dictionary, \n",
        "                  class_ids={'@default_class': 1.0,\n",
        "                             '@tag': 5.0,\n",
        "                             '@month': 2.0, \n",
        "                             })\n",
        "    model.scores.add(artm.PerplexityScore(name='perplexity', dictionary=dictionary))\n",
        "    #model.scores.add(artm.TopTokensScore(name='top-tokens', num_tokens=10))\n",
        "    model.scores.add(artm.SparsityPhiScore(name='sparsity_month', class_id='@month'))\n",
        "    model.scores.add(artm.SparsityPhiScore(name='sparsity_tag', class_id='@tag'))\n",
        "    \n",
        "    # First regularizer (Smooth) -- 8 iterations\n",
        "    model.regularizers.add(artm.SmoothSparsePhiRegularizer(name='smooth_sparse_phi_regularizer',\n",
        "                                                      #tau=-0.1, #sparse\n",
        "                                                      tau=10,  #smooth\n",
        "                                                      class_ids=['@default_class', '@month', '@tag']))\n",
        "    iterator = tqdm(range(0,4))\n",
        "    for i in iterator:\n",
        "        model.fit_offline(bv_train, num_collection_passes=1)\n",
        "        iterator.set_postfix({'perplexity': model.score_tracker['perplexity'].value[-1],  \n",
        "                              'sparsity_month': model.score_tracker['sparsity_month'].value[-1],\n",
        "                              'sparsity_tag': model.score_tracker['sparsity_tag'].value[-1],\n",
        "                              })\n",
        "        model.dump_artm_model(f'{DIR}/results_new/model/MOD-default-tag5-month2_REG-smooth{i}it-decor0it')\n",
        "    \n",
        "    # Add second regularizer (Decorrelator) -- 12 iterations\n",
        "    model.regularizers.add(artm.DecorrelatorPhiRegularizer(name='decorrelator_phi_regularizer',\n",
        "                                                      tau=10000,\n",
        "                                                      class_ids=['@default_class', '@month', '@tag']))\n",
        "    iterator = tqdm(range(4,10))\n",
        "    for i in iterator:\n",
        "        model.fit_offline(bv_train, num_collection_passes=1)\n",
        "        iterator.set_postfix({'perplexity': model.score_tracker['perplexity'].value[-1],  \n",
        "                              'sparsity_month': model.score_tracker['sparsity_month'].value[-1],\n",
        "                              'sparsity_tag': model.score_tracker['sparsity_tag'].value[-1],\n",
        "                              })\n",
        "\n",
        "        model.dump_artm_model(f'{DIR}/results_new/model/MOD-default-tag5-month2_REG-smooth{i}it-decor{i}it')\n",
        "    \n",
        "else:\n",
        "    model = artm.load_artm_model(f'{DIR}/results_new/model/MOD-default-tag5-month2_REG-smooth9it-decor9it')\n",
        "    model.scores.add(artm.PerplexityScore(name='perplexity', dictionary=dictionary), overwrite=True)\n",
        "    #model.scores.add(artm.TopTokensScore(name='top-tokens', num_tokens=10), overwrite=True)\n",
        "    model.scores.add(artm.SparsityPhiScore(name='sparsity_month', class_id='@month'), overwrite=True)\n",
        "    model.scores.add(artm.SparsityPhiScore(name='sparsity_tag', class_id='@tag'), overwrite=True)"
      ]
    },
    {
      "cell_type": "markdown",
      "metadata": {
        "id": "IDnXO3QHwouC"
      },
      "source": [
        "## Метрики в процессе обучения"
      ]
    },
    {
      "cell_type": "code",
      "execution_count": null,
      "metadata": {
        "id": "i5ZQn6GAwouC",
        "colab": {
          "base_uri": "https://localhost:8080/",
          "height": 279
        },
        "outputId": "b8823b9a-d747-4ca3-e05b-437ae3086a0d"
      },
      "outputs": [
        {
          "output_type": "display_data",
          "data": {
            "text/plain": [
              "<Figure size 432x288 with 1 Axes>"
            ],
            "image/png": "[encoded data removed]"
          },
          "metadata": {
            "needs_background": "light"
          }
        }
      ],
      "source": [
        "plt.plot(model.score_tracker['perplexity'].value, label = 'perplexity')\n",
        "plt.legend(loc = 'best')\n",
        "plt.xlabel('iteration')\n",
        "plt.ylabel('score')\n",
        "plt.yscale('log')\n",
        "plt.show()"
      ]
    },
    {
      "cell_type": "code",
      "execution_count": null,
      "metadata": {
        "id": "e_0MSxUNwouC",
        "colab": {
          "base_uri": "https://localhost:8080/",
          "height": 279
        },
        "outputId": "239250ad-05bc-45a1-e4c0-92bcb6c7bd06"
      },
      "outputs": [
        {
          "output_type": "display_data",
          "data": {
            "text/plain": [
              "<Figure size 432x288 with 1 Axes>"
            ],
            "image/png": "[encoded data removed]"
          },
          "metadata": {
            "needs_background": "light"
          }
        }
      ],
      "source": [
        "plt.plot(model.score_tracker['sparsity_month'].value, label = 'sparsity_month')\n",
        "plt.plot(model.score_tracker['sparsity_tag'].value, label = 'sparsity_tag')\n",
        "plt.legend(loc = 'best')\n",
        "plt.xlabel('iteration')\n",
        "plt.ylabel('score')\n",
        "plt.show()"
      ]
    },
    {
      "cell_type": "markdown",
      "metadata": {
        "id": "MNmZGLk_wouD"
      },
      "source": [
        "## Получаем тематические вектора"
      ]
    },
    {
      "cell_type": "code",
      "execution_count": null,
      "metadata": {
        "id": "wGTU8KWHwouD"
      },
      "outputs": [],
      "source": [
        "X_train_pd = model.transform(bv_train)"
      ]
    },
    {
      "cell_type": "code",
      "execution_count": null,
      "metadata": {
        "id": "tcDLE5JHwouD"
      },
      "outputs": [],
      "source": [
        "X_train = []\n",
        "for i in tqdm(range(len(y_train))):\n",
        "    X_train.append(X_train_pd[i].values)\n",
        "X_train_np = np.array(X_train)\n",
        "y_train_np = np.array(y_train)\n",
        "X_train_np, y_train_np = shuffle(X_train_np, y_train_np,random_state=42)"
      ]
    },
    {
      "cell_type": "code",
      "execution_count": null,
      "metadata": {
        "id": "2X5k4tTCwouD"
      },
      "outputs": [],
      "source": [
        "X_valid_pd = model.transform(bv_valid)\n",
        "X_valid = []\n",
        "for i in tqdm(range(len(y_valid))):\n",
        "    X_valid.append(X_valid_pd[i].values)"
      ]
    },
    {
      "cell_type": "markdown",
      "metadata": {
        "id": "L-gIKgV7wouD"
      },
      "source": [
        "## Классификатор\n",
        "RandomForest"
      ]
    },
    {
      "cell_type": "code",
      "execution_count": null,
      "metadata": {
        "id": "Xxr_8TONwouD"
      },
      "outputs": [],
      "source": [
        "classifier = RandomForestClassifier(n_estimators=10)\n",
        "classifier.fit(X_train_np, y_train_np)\n",
        "pred = classifier.predict(X_valid)\n",
        "print(classification_report(y_valid, pred, zero_division=1))"
      ]
    },
    {
      "cell_type": "markdown",
      "metadata": {
        "id": "Ji066qWauS29"
      },
      "source": [
        "# Модель с модальностью года\n",
        "Как и раньше, добавим модальности месяца (@month) и топика статьи (@tag), но теперь еще добавим модальность года (@year); без регуляризаторов.\n",
        "\n",
        "Обучаем новую модель или загружаем обученную"
      ]
    },
    {
      "cell_type": "code",
      "execution_count": null,
      "metadata": {
        "id": "EswE-40waEi1"
      },
      "outputs": [],
      "source": [
        "TRAIN_NEW_MODEL=False"
      ]
    },
    {
      "cell_type": "code",
      "execution_count": null,
      "metadata": {
        "id": "keWWXniEuS2-"
      },
      "outputs": [],
      "source": [
        "if TRAIN_NEW_MODEL:\n",
        "    model = artm.ARTM(num_topics=100,\n",
        "                  dictionary=dictionary, \n",
        "                  class_ids={'@default_class': 1.0,\n",
        "                             '@tag': 5.0,\n",
        "                             '@month': 2.0, \n",
        "                             '@year': 5.0, \n",
        "                             })\n",
        "    model.scores.add(artm.PerplexityScore(name='perplexity', dictionary=dictionary))\n",
        "    model.scores.add(artm.TopTokensScore(name='top-tokens', num_tokens=10))\n",
        "    model.scores.add(artm.SparsityPhiScore(name='sparsity_month', class_id='@month'))\n",
        "    model.scores.add(artm.SparsityPhiScore(name='sparsity_tag', class_id='@tag'))\n",
        "    model.scores.add(artm.SparsityPhiScore(name='sparsity_year', class_id='@year'))\n",
        "\n",
        "    iterator = tqdm(range(0,10))\n",
        "    for i in iterator:\n",
        "        model.fit_offline(bv_train, num_collection_passes=1)\n",
        "        iterator.set_postfix({'perplexity': model.score_tracker['perplexity'].value[-1],\n",
        "                              'sparsity_month': model.score_tracker['sparsity_month'].value[-1],\n",
        "                              'sparsity_tag': model.score_tracker['sparsity_tag'].value[-1],  \n",
        "                              'sparsity_year': model.score_tracker['sparsity_year'].value[-1],  \n",
        "                              })\n",
        "        # save model on every iteration\n",
        "        model.dump_artm_model(f'{DIR}/results_new/model/MOD-default-tag5-month2-year-5_REG-no_{i}it')\n",
        "else:\n",
        "    model = artm.load_artm_model(f'{DIR}/results_new/model/MOD-default-tag5-month2-year-5_REG-no_9it')\n",
        "    model.scores.add(artm.PerplexityScore(name='perplexity', dictionary=dictionary), overwrite=True)\n",
        "    model.scores.add(artm.TopTokensScore(name='top-tokens', num_tokens=10), overwrite=True)\n",
        "    model.scores.add(artm.SparsityPhiScore(name='sparsity_month', class_id='@month'), overwrite=True)\n",
        "    model.scores.add(artm.SparsityPhiScore(name='sparsity_tag', class_id='@tag'), overwrite=True)"
      ]
    },
    {
      "cell_type": "markdown",
      "metadata": {
        "id": "IbiGdBKfuS2_"
      },
      "source": [
        "## Метрики в процессе обучения"
      ]
    },
    {
      "cell_type": "code",
      "execution_count": null,
      "metadata": {
        "colab": {
          "base_uri": "https://localhost:8080/",
          "height": 279
        },
        "id": "_Wy6Nl0xuS2_",
        "outputId": "87a2c8b8-799e-4eeb-8050-18ebbad34e73"
      },
      "outputs": [
        {
          "output_type": "display_data",
          "data": {
            "text/plain": [
              "<Figure size 432x288 with 1 Axes>"
            ],
            "image/png": "[encoded data removed]"
          },
          "metadata": {
            "needs_background": "light"
          }
        }
      ],
      "source": [
        "plt.plot(model.score_tracker['perplexity'].value, label = 'perplexity')\n",
        "plt.legend(loc = 'best')\n",
        "plt.xlabel('iteration')\n",
        "plt.ylabel('score')\n",
        "plt.yscale('log')\n",
        "plt.show()"
      ]
    },
    {
      "cell_type": "code",
      "execution_count": null,
      "metadata": {
        "colab": {
          "base_uri": "https://localhost:8080/",
          "height": 279
        },
        "id": "XILsDI5-uS3A",
        "outputId": "31c60abd-ab50-47c0-b59b-53ac523e37ba"
      },
      "outputs": [
        {
          "output_type": "display_data",
          "data": {
            "text/plain": [
              "<Figure size 432x288 with 1 Axes>"
            ],
            "image/png": "[encoded data removed]"
          },
          "metadata": {
            "needs_background": "light"
          }
        }
      ],
      "source": [
        "plt.plot(model.score_tracker['sparsity_month'].value, label = 'sparsity_month')\n",
        "plt.plot(model.score_tracker['sparsity_tag'].value, label = 'sparsity_tag')\n",
        "plt.plot(model.score_tracker['sparsity_year'].value, label = 'sparsity_year')\n",
        "plt.legend(loc = 'best')\n",
        "plt.xlabel('iteration')\n",
        "plt.ylabel('score')\n",
        "plt.show()"
      ]
    },
    {
      "cell_type": "code",
      "execution_count": null,
      "metadata": {
        "colab": {
          "base_uri": "https://localhost:8080/"
        },
        "id": "qLMq7VP9uS3B",
        "outputId": "24ff8546-c875-4286-ddf4-3ec209517bfe"
      },
      "outputs": [
        {
          "name": "stdout",
          "output_type": "stream",
          "text": [
            "['исследование', 'учёный', 'который', 'это', 'человек', 'вещество', 'алкоголь', 'исследователь', 'анализ', 'мочь']\n",
            "['бой', 'аукцион', 'продать', 'поединок', 'картина', 'выставить', 'фунт', 'чемпион', 'боксёр', 'титул']\n",
            "['продукт', 'ресторан', 'который', 'питание', 'собака', 'килограмм', 'еда', 'свой', 'мясо', 'заведение']\n",
            "['церковь', 'религиозный', 'иванов', 'храм', 'православный', 'святой', 'который', 'русский', 'это', 'священник']\n",
            "['закон', 'документ', 'должный', 'принять', 'законопроект', 'который', 'запрет', 'правительство', 'внести', 'мочь']\n",
            "['украина', 'крым', 'россия', 'российский', 'это', 'территория', 'полуостров', 'украинский', 'референдум', 'страна']\n",
            "['пост', 'бывший', 'глава', 'должность', 'отставка', 'занимать', 'заместитель', 'назначить', 'свой', 'министр']\n",
            "['служба', 'государственный', 'деятельность', 'министерство', 'ведомство', 'федеральный', 'контроль', 'проверка', 'орган', 'сотрудник']\n",
            "['директор', 'театр', 'генеральный', 'культура', 'александр', 'спектакль', 'артист', 'имя', 'сергей', 'который']\n",
            "['германия', 'франция', 'немецкий', 'французский', 'индия', 'который', 'индийский', 'париж', 'век', 'берлин']\n"
          ]
        }
      ],
      "source": [
        "top_tokens = model.score_tracker['top-tokens'].last_tokens\n",
        "for topic_name in model.topic_names[:10]:\n",
        "    print(top_tokens[topic_name])"
      ]
    },
    {
      "cell_type": "markdown",
      "metadata": {
        "id": "zs0Ivt_UvA4_"
      },
      "source": [
        "## Классификация модальности при помощи встроенного метода bigartm\n",
        "\n",
        "Получаем матрицу условных вероятностей **p(модальность|документ)**. Остается определить наиболее вероятнуюю модальность (год) для каждого документа."
      ]
    },
    {
      "cell_type": "code",
      "execution_count": null,
      "metadata": {
        "colab": {
          "base_uri": "https://localhost:8080/",
          "height": 739
        },
        "id": "sz8Otr7ZvJAk",
        "outputId": "29c55b81-e1aa-4dff-9450-4bb909eac34f"
      },
      "outputs": [
        {
          "output_type": "execute_result",
          "data": {
            "text/plain": [
              "                0         1         2         3         4         5     \\\n",
              "class_2002  0.008467  0.015885  0.004914  0.001724  0.000782  0.042659   \n",
              "class_2003  0.018611  0.003756  0.003948  0.015861  0.034058  0.008212   \n",
              "class_2004  0.002777  0.012055  0.011654  0.009108  0.008199  0.049293   \n",
              "class_2005  0.008599  0.037315  0.003975  0.013911  0.041819  0.126878   \n",
              "class_2006  0.014432  0.009161  0.016638  0.028915  0.001968  0.115526   \n",
              "class_2007  0.013423  0.017403  0.008467  0.253468  0.008394  0.012058   \n",
              "class_2008  0.021080  0.122461  0.044493  0.002914  0.022169  0.015512   \n",
              "class_2009  0.006885  0.030019  0.026229  0.008028  0.101352  0.054630   \n",
              "class_2010  0.063987  0.030386  0.024553  0.023968  0.107127  0.127584   \n",
              "class_2011  0.049381  0.047192  0.007222  0.045198  0.050920  0.038466   \n",
              "class_2012  0.018167  0.095352  0.023582  0.070405  0.068066  0.086260   \n",
              "class_2013  0.056456  0.070629  0.058181  0.036879  0.076324  0.048174   \n",
              "class_2014  0.037818  0.235757  0.118900  0.004326  0.047287  0.038701   \n",
              "class_2015  0.176530  0.044993  0.110965  0.150040  0.046076  0.037302   \n",
              "class_2016  0.159152  0.030852  0.245307  0.008978  0.107774  0.029063   \n",
              "class_2017  0.031023  0.099885  0.040239  0.189046  0.071339  0.052185   \n",
              "class_2018  0.096630  0.028934  0.134650  0.004927  0.055327  0.018084   \n",
              "class_2019  0.133492  0.008396  0.084718  0.061497  0.092483  0.065515   \n",
              "class_2020  0.083091  0.059568  0.031366  0.070806  0.058535  0.033898   \n",
              "\n",
              "                6         7         8         9     ...      6594      6595  \\\n",
              "class_2002  0.008010  0.019018  0.150897  0.000407  ...  0.001648  0.000028   \n",
              "class_2003  0.042545  0.010692  0.002523  0.058785  ...  0.004294  0.000074   \n",
              "class_2004  0.018877  0.026166  0.020381  0.002100  ...  0.002166  0.000425   \n",
              "class_2005  0.053075  0.366895  0.073165  0.005037  ...  0.017518  0.000210   \n",
              "class_2006  0.057036  0.018218  0.088906  0.000977  ...  0.043094  0.004863   \n",
              "class_2007  0.064401  0.045731  0.010172  0.003369  ...  0.000933  0.022820   \n",
              "class_2008  0.008393  0.128748  0.037944  0.007749  ...  0.001353  0.003751   \n",
              "class_2009  0.023839  0.022925  0.010086  0.111392  ...  0.013471  0.002386   \n",
              "class_2010  0.046772  0.052717  0.014351  0.093037  ...  0.003006  0.003338   \n",
              "class_2011  0.070724  0.032176  0.006535  0.008212  ...  0.001433  0.003527   \n",
              "class_2012  0.125608  0.048355  0.007349  0.024281  ...  0.012247  0.009444   \n",
              "class_2013  0.018799  0.055219  0.028021  0.102188  ...  0.005695  0.004312   \n",
              "class_2014  0.035772  0.029583  0.039409  0.003372  ...  0.513366  0.002214   \n",
              "class_2015  0.009325  0.043965  0.033724  0.006425  ...  0.093997  0.024863   \n",
              "class_2016  0.007202  0.063520  0.141520  0.333813  ...  0.094673  0.236707   \n",
              "class_2017  0.001424  0.024138  0.050422  0.213393  ...  0.028596  0.073703   \n",
              "class_2018  0.033706  0.005124  0.071064  0.003730  ...  0.005810  0.194622   \n",
              "class_2019  0.290080  0.002094  0.108372  0.015861  ...  0.136555  0.197561   \n",
              "class_2020  0.084413  0.004717  0.105160  0.005871  ...  0.020146  0.215151   \n",
              "\n",
              "                6596      6597      6598      6599      6600      6601  \\\n",
              "class_2002  0.002765  0.000103  0.018220  0.000174  0.001831  0.000325   \n",
              "class_2003  0.042717  0.000167  0.007704  0.000529  0.001125  0.000193   \n",
              "class_2004  0.003911  0.001016  0.016324  0.004654  0.000748  0.000455   \n",
              "class_2005  0.011423  0.005768  0.054147  0.007955  0.007491  0.015643   \n",
              "class_2006  0.021518  0.003265  0.037191  0.002619  0.003596  0.000691   \n",
              "class_2007  0.038202  0.006003  0.264140  0.006516  0.011755  0.000929   \n",
              "class_2008  0.004580  0.020922  0.012855  0.010726  0.035066  0.003953   \n",
              "class_2009  0.005642  0.006811  0.018319  0.002374  0.029342  0.001870   \n",
              "class_2010  0.126229  0.012886  0.018265  0.006000  0.018392  0.003522   \n",
              "class_2011  0.108898  0.041202  0.132921  0.002209  0.080606  0.001835   \n",
              "class_2012  0.239583  0.015037  0.091018  0.005144  0.064775  0.011688   \n",
              "class_2013  0.045736  0.016836  0.048098  0.025050  0.116531  0.012948   \n",
              "class_2014  0.012311  0.014432  0.003204  0.025604  0.019318  0.009199   \n",
              "class_2015  0.021042  0.018825  0.009704  0.057092  0.368849  0.031047   \n",
              "class_2016  0.096483  0.029351  0.059960  0.107596  0.050701  0.264013   \n",
              "class_2017  0.086234  0.069887  0.024511  0.015344  0.009642  0.119754   \n",
              "class_2018  0.038832  0.191379  0.029524  0.082705  0.043588  0.209388   \n",
              "class_2019  0.025828  0.353531  0.083780  0.544735  0.034237  0.109984   \n",
              "class_2020  0.068066  0.192578  0.070117  0.092973  0.102405  0.202562   \n",
              "\n",
              "                6602      6603  \n",
              "class_2002  0.002506  0.011794  \n",
              "class_2003  0.003359  0.000502  \n",
              "class_2004  0.016504  0.004598  \n",
              "class_2005  0.048602  0.007182  \n",
              "class_2006  0.058963  0.010905  \n",
              "class_2007  0.057812  0.206166  \n",
              "class_2008  0.065799  0.020417  \n",
              "class_2009  0.023312  0.009854  \n",
              "class_2010  0.027888  0.010245  \n",
              "class_2011  0.019969  0.010127  \n",
              "class_2012  0.076741  0.010996  \n",
              "class_2013  0.043442  0.056816  \n",
              "class_2014  0.022929  0.165540  \n",
              "class_2015  0.032234  0.052970  \n",
              "class_2016  0.270017  0.063650  \n",
              "class_2017  0.072743  0.041429  \n",
              "class_2018  0.045072  0.021051  \n",
              "class_2019  0.040671  0.279621  \n",
              "class_2020  0.071438  0.016138  \n",
              "\n",
              "[19 rows x 6604 columns]"
            ],
            "text/html": [
              "\n",
              "  <div id=\"df-abde0d3c-76da-48dd-b17b-e60099c9854d\">\n",
              "    <div class=\"colab-df-container\">\n",
              "      <div>\n",
              "<style scoped>\n",
              "    .dataframe tbody tr th:only-of-type {\n",
              "        vertical-align: middle;\n",
              "    }\n",
              "\n",
              "    .dataframe tbody tr th {\n",
              "        vertical-align: top;\n",
              "    }\n",
              "\n",
              "    .dataframe thead th {\n",
              "        text-align: right;\n",
              "    }\n",
              "</style>\n",
              "<table border=\"1\" class=\"dataframe\">\n",
              "  <thead>\n",
              "    <tr style=\"text-align: right;\">\n",
              "      <th></th>\n",
              "      <th>0</th>\n",
              "      <th>1</th>\n",
              "      <th>2</th>\n",
              "      <th>3</th>\n",
              "      <th>4</th>\n",
              "      <th>5</th>\n",
              "      <th>6</th>\n",
              "      <th>7</th>\n",
              "      <th>8</th>\n",
              "      <th>9</th>\n",
              "      <th>...</th>\n",
              "      <th>6594</th>\n",
              "      <th>6595</th>\n",
              "      <th>6596</th>\n",
              "      <th>6597</th>\n",
              "      <th>6598</th>\n",
              "      <th>6599</th>\n",
              "      <th>6600</th>\n",
              "      <th>6601</th>\n",
              "      <th>6602</th>\n",
              "      <th>6603</th>\n",
              "    </tr>\n",
              "  </thead>\n",
              "  <tbody>\n",
              "    <tr>\n",
              "      <th>class_2002</th>\n",
              "      <td>0.008467</td>\n",
              "      <td>0.015885</td>\n",
              "      <td>0.004914</td>\n",
              "      <td>0.001724</td>\n",
              "      <td>0.000782</td>\n",
              "      <td>0.042659</td>\n",
              "      <td>0.008010</td>\n",
              "      <td>0.019018</td>\n",
              "      <td>0.150897</td>\n",
              "      <td>0.000407</td>\n",
              "      <td>...</td>\n",
              "      <td>0.001648</td>\n",
              "      <td>0.000028</td>\n",
              "      <td>0.002765</td>\n",
              "      <td>0.000103</td>\n",
              "      <td>0.018220</td>\n",
              "      <td>0.000174</td>\n",
              "      <td>0.001831</td>\n",
              "      <td>0.000325</td>\n",
              "      <td>0.002506</td>\n",
              "      <td>0.011794</td>\n",
              "    </tr>\n",
              "    <tr>\n",
              "      <th>class_2003</th>\n",
              "      <td>0.018611</td>\n",
              "      <td>0.003756</td>\n",
              "      <td>0.003948</td>\n",
              "      <td>0.015861</td>\n",
              "      <td>0.034058</td>\n",
              "      <td>0.008212</td>\n",
              "      <td>0.042545</td>\n",
              "      <td>0.010692</td>\n",
              "      <td>0.002523</td>\n",
              "      <td>0.058785</td>\n",
              "      <td>...</td>\n",
              "      <td>0.004294</td>\n",
              "      <td>0.000074</td>\n",
              "      <td>0.042717</td>\n",
              "      <td>0.000167</td>\n",
              "      <td>0.007704</td>\n",
              "      <td>0.000529</td>\n",
              "      <td>0.001125</td>\n",
              "      <td>0.000193</td>\n",
              "      <td>0.003359</td>\n",
              "      <td>0.000502</td>\n",
              "    </tr>\n",
              "    <tr>\n",
              "      <th>class_2004</th>\n",
              "      <td>0.002777</td>\n",
              "      <td>0.012055</td>\n",
              "      <td>0.011654</td>\n",
              "      <td>0.009108</td>\n",
              "      <td>0.008199</td>\n",
              "      <td>0.049293</td>\n",
              "      <td>0.018877</td>\n",
              "      <td>0.026166</td>\n",
              "      <td>0.020381</td>\n",
              "      <td>0.002100</td>\n",
              "      <td>...</td>\n",
              "      <td>0.002166</td>\n",
              "      <td>0.000425</td>\n",
              "      <td>0.003911</td>\n",
              "      <td>0.001016</td>\n",
              "      <td>0.016324</td>\n",
              "      <td>0.004654</td>\n",
              "      <td>0.000748</td>\n",
              "      <td>0.000455</td>\n",
              "      <td>0.016504</td>\n",
              "      <td>0.004598</td>\n",
              "    </tr>\n",
              "    <tr>\n",
              "      <th>class_2005</th>\n",
              "      <td>0.008599</td>\n",
              "      <td>0.037315</td>\n",
              "      <td>0.003975</td>\n",
              "      <td>0.013911</td>\n",
              "      <td>0.041819</td>\n",
              "      <td>0.126878</td>\n",
              "      <td>0.053075</td>\n",
              "      <td>0.366895</td>\n",
              "      <td>0.073165</td>\n",
              "      <td>0.005037</td>\n",
              "      <td>...</td>\n",
              "      <td>0.017518</td>\n",
              "      <td>0.000210</td>\n",
              "      <td>0.011423</td>\n",
              "      <td>0.005768</td>\n",
              "      <td>0.054147</td>\n",
              "      <td>0.007955</td>\n",
              "      <td>0.007491</td>\n",
              "      <td>0.015643</td>\n",
              "      <td>0.048602</td>\n",
              "      <td>0.007182</td>\n",
              "    </tr>\n",
              "    <tr>\n",
              "      <th>class_2006</th>\n",
              "      <td>0.014432</td>\n",
              "      <td>0.009161</td>\n",
              "      <td>0.016638</td>\n",
              "      <td>0.028915</td>\n",
              "      <td>0.001968</td>\n",
              "      <td>0.115526</td>\n",
              "      <td>0.057036</td>\n",
              "      <td>0.018218</td>\n",
              "      <td>0.088906</td>\n",
              "      <td>0.000977</td>\n",
              "      <td>...</td>\n",
              "      <td>0.043094</td>\n",
              "      <td>0.004863</td>\n",
              "      <td>0.021518</td>\n",
              "      <td>0.003265</td>\n",
              "      <td>0.037191</td>\n",
              "      <td>0.002619</td>\n",
              "      <td>0.003596</td>\n",
              "      <td>0.000691</td>\n",
              "      <td>0.058963</td>\n",
              "      <td>0.010905</td>\n",
              "    </tr>\n",
              "    <tr>\n",
              "      <th>class_2007</th>\n",
              "      <td>0.013423</td>\n",
              "      <td>0.017403</td>\n",
              "      <td>0.008467</td>\n",
              "      <td>0.253468</td>\n",
              "      <td>0.008394</td>\n",
              "      <td>0.012058</td>\n",
              "      <td>0.064401</td>\n",
              "      <td>0.045731</td>\n",
              "      <td>0.010172</td>\n",
              "      <td>0.003369</td>\n",
              "      <td>...</td>\n",
              "      <td>0.000933</td>\n",
              "      <td>0.022820</td>\n",
              "      <td>0.038202</td>\n",
              "      <td>0.006003</td>\n",
              "      <td>0.264140</td>\n",
              "      <td>0.006516</td>\n",
              "      <td>0.011755</td>\n",
              "      <td>0.000929</td>\n",
              "      <td>0.057812</td>\n",
              "      <td>0.206166</td>\n",
              "    </tr>\n",
              "    <tr>\n",
              "      <th>class_2008</th>\n",
              "      <td>0.021080</td>\n",
              "      <td>0.122461</td>\n",
              "      <td>0.044493</td>\n",
              "      <td>0.002914</td>\n",
              "      <td>0.022169</td>\n",
              "      <td>0.015512</td>\n",
              "      <td>0.008393</td>\n",
              "      <td>0.128748</td>\n",
              "      <td>0.037944</td>\n",
              "      <td>0.007749</td>\n",
              "      <td>...</td>\n",
              "      <td>0.001353</td>\n",
              "      <td>0.003751</td>\n",
              "      <td>0.004580</td>\n",
              "      <td>0.020922</td>\n",
              "      <td>0.012855</td>\n",
              "      <td>0.010726</td>\n",
              "      <td>0.035066</td>\n",
              "      <td>0.003953</td>\n",
              "      <td>0.065799</td>\n",
              "      <td>0.020417</td>\n",
              "    </tr>\n",
              "    <tr>\n",
              "      <th>class_2009</th>\n",
              "      <td>0.006885</td>\n",
              "      <td>0.030019</td>\n",
              "      <td>0.026229</td>\n",
              "      <td>0.008028</td>\n",
              "      <td>0.101352</td>\n",
              "      <td>0.054630</td>\n",
              "      <td>0.023839</td>\n",
              "      <td>0.022925</td>\n",
              "      <td>0.010086</td>\n",
              "      <td>0.111392</td>\n",
              "      <td>...</td>\n",
              "      <td>0.013471</td>\n",
              "      <td>0.002386</td>\n",
              "      <td>0.005642</td>\n",
              "      <td>0.006811</td>\n",
              "      <td>0.018319</td>\n",
              "      <td>0.002374</td>\n",
              "      <td>0.029342</td>\n",
              "      <td>0.001870</td>\n",
              "      <td>0.023312</td>\n",
              "      <td>0.009854</td>\n",
              "    </tr>\n",
              "    <tr>\n",
              "      <th>class_2010</th>\n",
              "      <td>0.063987</td>\n",
              "      <td>0.030386</td>\n",
              "      <td>0.024553</td>\n",
              "      <td>0.023968</td>\n",
              "      <td>0.107127</td>\n",
              "      <td>0.127584</td>\n",
              "      <td>0.046772</td>\n",
              "      <td>0.052717</td>\n",
              "      <td>0.014351</td>\n",
              "      <td>0.093037</td>\n",
              "      <td>...</td>\n",
              "      <td>0.003006</td>\n",
              "      <td>0.003338</td>\n",
              "      <td>0.126229</td>\n",
              "      <td>0.012886</td>\n",
              "      <td>0.018265</td>\n",
              "      <td>0.006000</td>\n",
              "      <td>0.018392</td>\n",
              "      <td>0.003522</td>\n",
              "      <td>0.027888</td>\n",
              "      <td>0.010245</td>\n",
              "    </tr>\n",
              "    <tr>\n",
              "      <th>class_2011</th>\n",
              "      <td>0.049381</td>\n",
              "      <td>0.047192</td>\n",
              "      <td>0.007222</td>\n",
              "      <td>0.045198</td>\n",
              "      <td>0.050920</td>\n",
              "      <td>0.038466</td>\n",
              "      <td>0.070724</td>\n",
              "      <td>0.032176</td>\n",
              "      <td>0.006535</td>\n",
              "      <td>0.008212</td>\n",
              "      <td>...</td>\n",
              "      <td>0.001433</td>\n",
              "      <td>0.003527</td>\n",
              "      <td>0.108898</td>\n",
              "      <td>0.041202</td>\n",
              "      <td>0.132921</td>\n",
              "      <td>0.002209</td>\n",
              "      <td>0.080606</td>\n",
              "      <td>0.001835</td>\n",
              "      <td>0.019969</td>\n",
              "      <td>0.010127</td>\n",
              "    </tr>\n",
              "    <tr>\n",
              "      <th>class_2012</th>\n",
              "      <td>0.018167</td>\n",
              "      <td>0.095352</td>\n",
              "      <td>0.023582</td>\n",
              "      <td>0.070405</td>\n",
              "      <td>0.068066</td>\n",
              "      <td>0.086260</td>\n",
              "      <td>0.125608</td>\n",
              "      <td>0.048355</td>\n",
              "      <td>0.007349</td>\n",
              "      <td>0.024281</td>\n",
              "      <td>...</td>\n",
              "      <td>0.012247</td>\n",
              "      <td>0.009444</td>\n",
              "      <td>0.239583</td>\n",
              "      <td>0.015037</td>\n",
              "      <td>0.091018</td>\n",
              "      <td>0.005144</td>\n",
              "      <td>0.064775</td>\n",
              "      <td>0.011688</td>\n",
              "      <td>0.076741</td>\n",
              "      <td>0.010996</td>\n",
              "    </tr>\n",
              "    <tr>\n",
              "      <th>class_2013</th>\n",
              "      <td>0.056456</td>\n",
              "      <td>0.070629</td>\n",
              "      <td>0.058181</td>\n",
              "      <td>0.036879</td>\n",
              "      <td>0.076324</td>\n",
              "      <td>0.048174</td>\n",
              "      <td>0.018799</td>\n",
              "      <td>0.055219</td>\n",
              "      <td>0.028021</td>\n",
              "      <td>0.102188</td>\n",
              "      <td>...</td>\n",
              "      <td>0.005695</td>\n",
              "      <td>0.004312</td>\n",
              "      <td>0.045736</td>\n",
              "      <td>0.016836</td>\n",
              "      <td>0.048098</td>\n",
              "      <td>0.025050</td>\n",
              "      <td>0.116531</td>\n",
              "      <td>0.012948</td>\n",
              "      <td>0.043442</td>\n",
              "      <td>0.056816</td>\n",
              "    </tr>\n",
              "    <tr>\n",
              "      <th>class_2014</th>\n",
              "      <td>0.037818</td>\n",
              "      <td>0.235757</td>\n",
              "      <td>0.118900</td>\n",
              "      <td>0.004326</td>\n",
              "      <td>0.047287</td>\n",
              "      <td>0.038701</td>\n",
              "      <td>0.035772</td>\n",
              "      <td>0.029583</td>\n",
              "      <td>0.039409</td>\n",
              "      <td>0.003372</td>\n",
              "      <td>...</td>\n",
              "      <td>0.513366</td>\n",
              "      <td>0.002214</td>\n",
              "      <td>0.012311</td>\n",
              "      <td>0.014432</td>\n",
              "      <td>0.003204</td>\n",
              "      <td>0.025604</td>\n",
              "      <td>0.019318</td>\n",
              "      <td>0.009199</td>\n",
              "      <td>0.022929</td>\n",
              "      <td>0.165540</td>\n",
              "    </tr>\n",
              "    <tr>\n",
              "      <th>class_2015</th>\n",
              "      <td>0.176530</td>\n",
              "      <td>0.044993</td>\n",
              "      <td>0.110965</td>\n",
              "      <td>0.150040</td>\n",
              "      <td>0.046076</td>\n",
              "      <td>0.037302</td>\n",
              "      <td>0.009325</td>\n",
              "      <td>0.043965</td>\n",
              "      <td>0.033724</td>\n",
              "      <td>0.006425</td>\n",
              "      <td>...</td>\n",
              "      <td>0.093997</td>\n",
              "      <td>0.024863</td>\n",
              "      <td>0.021042</td>\n",
              "      <td>0.018825</td>\n",
              "      <td>0.009704</td>\n",
              "      <td>0.057092</td>\n",
              "      <td>0.368849</td>\n",
              "      <td>0.031047</td>\n",
              "      <td>0.032234</td>\n",
              "      <td>0.052970</td>\n",
              "    </tr>\n",
              "    <tr>\n",
              "      <th>class_2016</th>\n",
              "      <td>0.159152</td>\n",
              "      <td>0.030852</td>\n",
              "      <td>0.245307</td>\n",
              "      <td>0.008978</td>\n",
              "      <td>0.107774</td>\n",
              "      <td>0.029063</td>\n",
              "      <td>0.007202</td>\n",
              "      <td>0.063520</td>\n",
              "      <td>0.141520</td>\n",
              "      <td>0.333813</td>\n",
              "      <td>...</td>\n",
              "      <td>0.094673</td>\n",
              "      <td>0.236707</td>\n",
              "      <td>0.096483</td>\n",
              "      <td>0.029351</td>\n",
              "      <td>0.059960</td>\n",
              "      <td>0.107596</td>\n",
              "      <td>0.050701</td>\n",
              "      <td>0.264013</td>\n",
              "      <td>0.270017</td>\n",
              "      <td>0.063650</td>\n",
              "    </tr>\n",
              "    <tr>\n",
              "      <th>class_2017</th>\n",
              "      <td>0.031023</td>\n",
              "      <td>0.099885</td>\n",
              "      <td>0.040239</td>\n",
              "      <td>0.189046</td>\n",
              "      <td>0.071339</td>\n",
              "      <td>0.052185</td>\n",
              "      <td>0.001424</td>\n",
              "      <td>0.024138</td>\n",
              "      <td>0.050422</td>\n",
              "      <td>0.213393</td>\n",
              "      <td>...</td>\n",
              "      <td>0.028596</td>\n",
              "      <td>0.073703</td>\n",
              "      <td>0.086234</td>\n",
              "      <td>0.069887</td>\n",
              "      <td>0.024511</td>\n",
              "      <td>0.015344</td>\n",
              "      <td>0.009642</td>\n",
              "      <td>0.119754</td>\n",
              "      <td>0.072743</td>\n",
              "      <td>0.041429</td>\n",
              "    </tr>\n",
              "    <tr>\n",
              "      <th>class_2018</th>\n",
              "      <td>0.096630</td>\n",
              "      <td>0.028934</td>\n",
              "      <td>0.134650</td>\n",
              "      <td>0.004927</td>\n",
              "      <td>0.055327</td>\n",
              "      <td>0.018084</td>\n",
              "      <td>0.033706</td>\n",
              "      <td>0.005124</td>\n",
              "      <td>0.071064</td>\n",
              "      <td>0.003730</td>\n",
              "      <td>...</td>\n",
              "      <td>0.005810</td>\n",
              "      <td>0.194622</td>\n",
              "      <td>0.038832</td>\n",
              "      <td>0.191379</td>\n",
              "      <td>0.029524</td>\n",
              "      <td>0.082705</td>\n",
              "      <td>0.043588</td>\n",
              "      <td>0.209388</td>\n",
              "      <td>0.045072</td>\n",
              "      <td>0.021051</td>\n",
              "    </tr>\n",
              "    <tr>\n",
              "      <th>class_2019</th>\n",
              "      <td>0.133492</td>\n",
              "      <td>0.008396</td>\n",
              "      <td>0.084718</td>\n",
              "      <td>0.061497</td>\n",
              "      <td>0.092483</td>\n",
              "      <td>0.065515</td>\n",
              "      <td>0.290080</td>\n",
              "      <td>0.002094</td>\n",
              "      <td>0.108372</td>\n",
              "      <td>0.015861</td>\n",
              "      <td>...</td>\n",
              "      <td>0.136555</td>\n",
              "      <td>0.197561</td>\n",
              "      <td>0.025828</td>\n",
              "      <td>0.353531</td>\n",
              "      <td>0.083780</td>\n",
              "      <td>0.544735</td>\n",
              "      <td>0.034237</td>\n",
              "      <td>0.109984</td>\n",
              "      <td>0.040671</td>\n",
              "      <td>0.279621</td>\n",
              "    </tr>\n",
              "    <tr>\n",
              "      <th>class_2020</th>\n",
              "      <td>0.083091</td>\n",
              "      <td>0.059568</td>\n",
              "      <td>0.031366</td>\n",
              "      <td>0.070806</td>\n",
              "      <td>0.058535</td>\n",
              "      <td>0.033898</td>\n",
              "      <td>0.084413</td>\n",
              "      <td>0.004717</td>\n",
              "      <td>0.105160</td>\n",
              "      <td>0.005871</td>\n",
              "      <td>...</td>\n",
              "      <td>0.020146</td>\n",
              "      <td>0.215151</td>\n",
              "      <td>0.068066</td>\n",
              "      <td>0.192578</td>\n",
              "      <td>0.070117</td>\n",
              "      <td>0.092973</td>\n",
              "      <td>0.102405</td>\n",
              "      <td>0.202562</td>\n",
              "      <td>0.071438</td>\n",
              "      <td>0.016138</td>\n",
              "    </tr>\n",
              "  </tbody>\n",
              "</table>\n",
              "<p>19 rows × 6604 columns</p>\n",
              "</div>\n",
              "      <button class=\"colab-df-convert\" onclick=\"convertToInteractive('df-abde0d3c-76da-48dd-b17b-e60099c9854d')\"\n",
              "              title=\"Convert this dataframe to an interactive table.\"\n",
              "              style=\"display:none;\">\n",
              "        \n",
              "  <svg xmlns=\"http://www.w3.org/2000/svg\" height=\"24px\"viewBox=\"0 0 24 24\"\n",
              "       width=\"24px\">\n",
              "    <path d=\"M0 0h24v24H0V0z\" fill=\"none\"/>\n",
              "    <path d=\"M18.56 5.44l.94 2.06.94-2.06 2.06-.94-2.06-.94-.94-2.06-.94 2.06-2.06.94zm-11 1L8.5 8.5l.94-2.06 2.06-.94-2.06-.94L8.5 2.5l-.94 2.06-2.06.94zm10 10l.94 2.06.94-2.06 2.06-.94-2.06-.94-.94-2.06-.94 2.06-2.06.94z\"/><path d=\"M17.41 7.96l-1.37-1.37c-.4-.4-.92-.59-1.43-.59-.52 0-1.04.2-1.43.59L10.3 9.45l-7.72 7.72c-.78.78-.78 2.05 0 2.83L4 21.41c.39.39.9.59 1.41.59.51 0 1.02-.2 1.41-.59l7.78-7.78 2.81-2.81c.8-.78.8-2.07 0-2.86zM5.41 20L4 18.59l7.72-7.72 1.47 1.35L5.41 20z\"/>\n",
              "  </svg>\n",
              "      </button>\n",
              "      \n",
              "  <style>\n",
              "    .colab-df-container {\n",
              "      display:flex;\n",
              "      flex-wrap:wrap;\n",
              "      gap: 12px;\n",
              "    }\n",
              "\n",
              "    .colab-df-convert {\n",
              "      background-color: #E8F0FE;\n",
              "      border: none;\n",
              "      border-radius: 50%;\n",
              "      cursor: pointer;\n",
              "      display: none;\n",
              "      fill: #1967D2;\n",
              "      height: 32px;\n",
              "      padding: 0 0 0 0;\n",
              "      width: 32px;\n",
              "    }\n",
              "\n",
              "    .colab-df-convert:hover {\n",
              "      background-color: #E2EBFA;\n",
              "      box-shadow: 0px 1px 2px rgba(60, 64, 67, 0.3), 0px 1px 3px 1px rgba(60, 64, 67, 0.15);\n",
              "      fill: #174EA6;\n",
              "    }\n",
              "\n",
              "    [theme=dark] .colab-df-convert {\n",
              "      background-color: #3B4455;\n",
              "      fill: #D2E3FC;\n",
              "    }\n",
              "\n",
              "    [theme=dark] .colab-df-convert:hover {\n",
              "      background-color: #434B5C;\n",
              "      box-shadow: 0px 1px 3px 1px rgba(0, 0, 0, 0.15);\n",
              "      filter: drop-shadow(0px 1px 2px rgba(0, 0, 0, 0.3));\n",
              "      fill: #FFFFFF;\n",
              "    }\n",
              "  </style>\n",
              "\n",
              "      <script>\n",
              "        const buttonEl =\n",
              "          document.querySelector('#df-abde0d3c-76da-48dd-b17b-e60099c9854d button.colab-df-convert');\n",
              "        buttonEl.style.display =\n",
              "          google.colab.kernel.accessAllowed ? 'block' : 'none';\n",
              "\n",
              "        async function convertToInteractive(key) {\n",
              "          const element = document.querySelector('#df-abde0d3c-76da-48dd-b17b-e60099c9854d');\n",
              "          const dataTable =\n",
              "            await google.colab.kernel.invokeFunction('convertToInteractive',\n",
              "                                                     [key], {});\n",
              "          if (!dataTable) return;\n",
              "\n",
              "          const docLinkHtml = 'Like what you see? Visit the ' +\n",
              "            '<a target=\"_blank\" href=https://colab.research.google.com/notebooks/data_table.ipynb>data table notebook</a>'\n",
              "            + ' to learn more about interactive tables.';\n",
              "          element.innerHTML = '';\n",
              "          dataTable['output_type'] = 'display_data';\n",
              "          await google.colab.output.renderOutput(dataTable, element);\n",
              "          const docLink = document.createElement('div');\n",
              "          docLink.innerHTML = docLinkHtml;\n",
              "          element.appendChild(docLink);\n",
              "        }\n",
              "      </script>\n",
              "    </div>\n",
              "  </div>\n",
              "  "
            ]
          },
          "metadata": {},
          "execution_count": 27
        }
      ],
      "source": [
        "year_pred_df = model.transform(batch_vectorizer=bv_valid, predict_class_id='@year').sort_index().drop(index='class_1914')\n",
        "year_pred_df"
      ]
    },
    {
      "cell_type": "code",
      "execution_count": null,
      "metadata": {
        "id": "UVAoAt-avhHV",
        "colab": {
          "base_uri": "https://localhost:8080/"
        },
        "outputId": "ca8c175d-43e6-490e-c0dc-2ef7bd34d894"
      },
      "outputs": [
        {
          "output_type": "stream",
          "name": "stdout",
          "text": [
            "6604 1999 2017\n"
          ]
        }
      ],
      "source": [
        "year_pred_np = np.array(year_pred_df)\n",
        "pred = (np.argmax(year_pred_np, axis=0) + 1999).astype(str)\n",
        "print(len(pred), min(pred), max(pred))"
      ]
    },
    {
      "cell_type": "code",
      "execution_count": null,
      "metadata": {
        "id": "cev1OstRwJll",
        "colab": {
          "base_uri": "https://localhost:8080/"
        },
        "outputId": "db578450-775e-49d0-bfd2-a3458eb16e7d"
      },
      "outputs": [
        {
          "output_type": "stream",
          "name": "stdout",
          "text": [
            "              precision    recall  f1-score   support\n",
            "\n",
            "        1999       0.02      0.16      0.03        19\n",
            "        2000       0.02      0.03      0.02        69\n",
            "        2001       0.03      0.01      0.02        96\n",
            "        2002       0.03      0.05      0.04       143\n",
            "        2003       0.06      0.05      0.06       134\n",
            "        2004       0.03      0.02      0.02       183\n",
            "        2005       0.05      0.07      0.06       240\n",
            "        2006       0.03      0.05      0.04       256\n",
            "        2007       0.09      0.11      0.10       236\n",
            "        2008       0.06      0.07      0.06       332\n",
            "        2009       0.07      0.09      0.08       423\n",
            "        2010       0.07      0.13      0.09       375\n",
            "        2011       0.01      0.01      0.01       384\n",
            "        2012       0.05      0.05      0.05       427\n",
            "        2013       0.04      0.07      0.05       387\n",
            "        2014       0.05      0.06      0.06       309\n",
            "        2015       0.05      0.04      0.04       387\n",
            "        2016       0.10      0.15      0.12       504\n",
            "        2017       0.07      0.06      0.06       414\n",
            "        2018       1.00      0.00      0.00       340\n",
            "        2019       1.00      0.00      0.00       495\n",
            "        2020       1.00      0.00      0.00       451\n",
            "\n",
            "    accuracy                           0.06      6604\n",
            "   macro avg       0.18      0.06      0.05      6604\n",
            "weighted avg       0.24      0.06      0.05      6604\n",
            "\n"
          ]
        }
      ],
      "source": [
        "print(classification_report(y_valid, pred, zero_division=1))"
      ]
    },
    {
      "cell_type": "markdown",
      "metadata": {
        "id": "C2J6gLxTuS3B"
      },
      "source": [
        "## Получаем тематические вектора"
      ]
    },
    {
      "cell_type": "code",
      "execution_count": null,
      "metadata": {
        "id": "_q2Tq0uBuS3C"
      },
      "outputs": [],
      "source": [
        "X_train_pd = model.transform(bv_train)"
      ]
    },
    {
      "cell_type": "code",
      "execution_count": null,
      "metadata": {
        "id": "lfNBHulIuS3C",
        "colab": {
          "base_uri": "https://localhost:8080/",
          "height": 534,
          "referenced_widgets": [
            "2956668951f24c838d84400127839ab6",
            "5b99050b760b488aa19784ef879f061f",
            "9f631e01afcb487c8c606a2e35c1ab9b",
            "6738a9711ea845fdb0dd4425196687e9",
            "71a15dd56c7e49419735afb6b7b2863d",
            "5d3f5cb61b3743328237ccfd987843a5",
            "aab9b81b60b24fa3a417e8e25cda07ca",
            "26fbc21d5d464ceebaba532ecca274ae",
            "9dc9a53ff1cc4072ae4c0e6b72fdf808",
            "aafc8047004a46b18c1aefe3e7f7de26",
            "879aaec595014d7e8f316b890af68e64"
          ]
        },
        "outputId": "96b8b086-a299-4b7c-b165-8d69bcd36e1a"
      },
      "outputs": [
        {
          "output_type": "display_data",
          "data": {
            "text/plain": [
              "  0%|          | 0/653795 [00:00<?, ?it/s]"
            ],
            "application/vnd.jupyter.widget-view+json": {
              "version_major": 2,
              "version_minor": 0,
              "model_id": "2956668951f24c838d84400127839ab6"
            }
          },
          "metadata": {}
        },
        {
          "output_type": "error",
          "ename": "KeyError",
          "evalue": "ignored",
          "traceback": [
            "\u001b[0;31m---------------------------------------------------------------------------\u001b[0m",
            "\u001b[0;31mKeyError\u001b[0m                                  Traceback (most recent call last)",
            "\u001b[0;32m/usr/local/lib/python3.7/dist-packages/pandas/core/indexes/base.py\u001b[0m in \u001b[0;36mget_loc\u001b[0;34m(self, key, method, tolerance)\u001b[0m\n\u001b[1;32m   3360\u001b[0m             \u001b[0;32mtry\u001b[0m\u001b[0;34m:\u001b[0m\u001b[0;34m\u001b[0m\u001b[0;34m\u001b[0m\u001b[0m\n\u001b[0;32m-> 3361\u001b[0;31m                 \u001b[0;32mreturn\u001b[0m \u001b[0mself\u001b[0m\u001b[0;34m.\u001b[0m\u001b[0m_engine\u001b[0m\u001b[0;34m.\u001b[0m\u001b[0mget_loc\u001b[0m\u001b[0;34m(\u001b[0m\u001b[0mcasted_key\u001b[0m\u001b[0;34m)\u001b[0m\u001b[0;34m\u001b[0m\u001b[0;34m\u001b[0m\u001b[0m\n\u001b[0m\u001b[1;32m   3362\u001b[0m             \u001b[0;32mexcept\u001b[0m \u001b[0mKeyError\u001b[0m \u001b[0;32mas\u001b[0m \u001b[0merr\u001b[0m\u001b[0;34m:\u001b[0m\u001b[0;34m\u001b[0m\u001b[0;34m\u001b[0m\u001b[0m\n",
            "\u001b[0;32m/usr/local/lib/python3.7/dist-packages/pandas/_libs/index.pyx\u001b[0m in \u001b[0;36mpandas._libs.index.IndexEngine.get_loc\u001b[0;34m()\u001b[0m\n",
            "\u001b[0;32m/usr/local/lib/python3.7/dist-packages/pandas/_libs/index.pyx\u001b[0m in \u001b[0;36mpandas._libs.index.IndexEngine.get_loc\u001b[0;34m()\u001b[0m\n",
            "\u001b[0;32mpandas/_libs/hashtable_class_helper.pxi\u001b[0m in \u001b[0;36mpandas._libs.hashtable.Int64HashTable.get_item\u001b[0;34m()\u001b[0m\n",
            "\u001b[0;32mpandas/_libs/hashtable_class_helper.pxi\u001b[0m in \u001b[0;36mpandas._libs.hashtable.Int64HashTable.get_item\u001b[0;34m()\u001b[0m\n",
            "\u001b[0;31mKeyError\u001b[0m: 0",
            "\nThe above exception was the direct cause of the following exception:\n",
            "\u001b[0;31mKeyError\u001b[0m                                  Traceback (most recent call last)",
            "\u001b[0;32m<ipython-input-32-ca96ec8afde2>\u001b[0m in \u001b[0;36m<module>\u001b[0;34m()\u001b[0m\n\u001b[1;32m      1\u001b[0m \u001b[0mX_train\u001b[0m \u001b[0;34m=\u001b[0m \u001b[0;34m[\u001b[0m\u001b[0;34m]\u001b[0m\u001b[0;34m\u001b[0m\u001b[0;34m\u001b[0m\u001b[0m\n\u001b[1;32m      2\u001b[0m \u001b[0;32mfor\u001b[0m \u001b[0mi\u001b[0m \u001b[0;32min\u001b[0m \u001b[0mtqdm\u001b[0m\u001b[0;34m(\u001b[0m\u001b[0mrange\u001b[0m\u001b[0;34m(\u001b[0m\u001b[0mlen\u001b[0m\u001b[0;34m(\u001b[0m\u001b[0my_train\u001b[0m\u001b[0;34m)\u001b[0m\u001b[0;34m)\u001b[0m\u001b[0;34m)\u001b[0m\u001b[0;34m:\u001b[0m\u001b[0;34m\u001b[0m\u001b[0;34m\u001b[0m\u001b[0m\n\u001b[0;32m----> 3\u001b[0;31m     \u001b[0mX_train\u001b[0m\u001b[0;34m.\u001b[0m\u001b[0mappend\u001b[0m\u001b[0;34m(\u001b[0m\u001b[0mX_train_pd\u001b[0m\u001b[0;34m[\u001b[0m\u001b[0mi\u001b[0m\u001b[0;34m]\u001b[0m\u001b[0;34m.\u001b[0m\u001b[0mvalues\u001b[0m\u001b[0;34m)\u001b[0m\u001b[0;34m\u001b[0m\u001b[0;34m\u001b[0m\u001b[0m\n\u001b[0m\u001b[1;32m      4\u001b[0m \u001b[0mX_train_np\u001b[0m \u001b[0;34m=\u001b[0m \u001b[0mnp\u001b[0m\u001b[0;34m.\u001b[0m\u001b[0marray\u001b[0m\u001b[0;34m(\u001b[0m\u001b[0mX_train\u001b[0m\u001b[0;34m)\u001b[0m\u001b[0;34m\u001b[0m\u001b[0;34m\u001b[0m\u001b[0m\n\u001b[1;32m      5\u001b[0m \u001b[0my_train_np\u001b[0m \u001b[0;34m=\u001b[0m \u001b[0mnp\u001b[0m\u001b[0;34m.\u001b[0m\u001b[0marray\u001b[0m\u001b[0;34m(\u001b[0m\u001b[0my_train\u001b[0m\u001b[0;34m)\u001b[0m\u001b[0;34m\u001b[0m\u001b[0;34m\u001b[0m\u001b[0m\n",
            "\u001b[0;32m/usr/local/lib/python3.7/dist-packages/pandas/core/frame.py\u001b[0m in \u001b[0;36m__getitem__\u001b[0;34m(self, key)\u001b[0m\n\u001b[1;32m   3456\u001b[0m             \u001b[0;32mif\u001b[0m \u001b[0mself\u001b[0m\u001b[0;34m.\u001b[0m\u001b[0mcolumns\u001b[0m\u001b[0;34m.\u001b[0m\u001b[0mnlevels\u001b[0m \u001b[0;34m>\u001b[0m \u001b[0;36m1\u001b[0m\u001b[0;34m:\u001b[0m\u001b[0;34m\u001b[0m\u001b[0;34m\u001b[0m\u001b[0m\n\u001b[1;32m   3457\u001b[0m                 \u001b[0;32mreturn\u001b[0m \u001b[0mself\u001b[0m\u001b[0;34m.\u001b[0m\u001b[0m_getitem_multilevel\u001b[0m\u001b[0;34m(\u001b[0m\u001b[0mkey\u001b[0m\u001b[0;34m)\u001b[0m\u001b[0;34m\u001b[0m\u001b[0;34m\u001b[0m\u001b[0m\n\u001b[0;32m-> 3458\u001b[0;31m             \u001b[0mindexer\u001b[0m \u001b[0;34m=\u001b[0m \u001b[0mself\u001b[0m\u001b[0;34m.\u001b[0m\u001b[0mcolumns\u001b[0m\u001b[0;34m.\u001b[0m\u001b[0mget_loc\u001b[0m\u001b[0;34m(\u001b[0m\u001b[0mkey\u001b[0m\u001b[0;34m)\u001b[0m\u001b[0;34m\u001b[0m\u001b[0;34m\u001b[0m\u001b[0m\n\u001b[0m\u001b[1;32m   3459\u001b[0m             \u001b[0;32mif\u001b[0m \u001b[0mis_integer\u001b[0m\u001b[0;34m(\u001b[0m\u001b[0mindexer\u001b[0m\u001b[0;34m)\u001b[0m\u001b[0;34m:\u001b[0m\u001b[0;34m\u001b[0m\u001b[0;34m\u001b[0m\u001b[0m\n\u001b[1;32m   3460\u001b[0m                 \u001b[0mindexer\u001b[0m \u001b[0;34m=\u001b[0m \u001b[0;34m[\u001b[0m\u001b[0mindexer\u001b[0m\u001b[0;34m]\u001b[0m\u001b[0;34m\u001b[0m\u001b[0;34m\u001b[0m\u001b[0m\n",
            "\u001b[0;32m/usr/local/lib/python3.7/dist-packages/pandas/core/indexes/base.py\u001b[0m in \u001b[0;36mget_loc\u001b[0;34m(self, key, method, tolerance)\u001b[0m\n\u001b[1;32m   3361\u001b[0m                 \u001b[0;32mreturn\u001b[0m \u001b[0mself\u001b[0m\u001b[0;34m.\u001b[0m\u001b[0m_engine\u001b[0m\u001b[0;34m.\u001b[0m\u001b[0mget_loc\u001b[0m\u001b[0;34m(\u001b[0m\u001b[0mcasted_key\u001b[0m\u001b[0;34m)\u001b[0m\u001b[0;34m\u001b[0m\u001b[0;34m\u001b[0m\u001b[0m\n\u001b[1;32m   3362\u001b[0m             \u001b[0;32mexcept\u001b[0m \u001b[0mKeyError\u001b[0m \u001b[0;32mas\u001b[0m \u001b[0merr\u001b[0m\u001b[0;34m:\u001b[0m\u001b[0;34m\u001b[0m\u001b[0;34m\u001b[0m\u001b[0m\n\u001b[0;32m-> 3363\u001b[0;31m                 \u001b[0;32mraise\u001b[0m \u001b[0mKeyError\u001b[0m\u001b[0;34m(\u001b[0m\u001b[0mkey\u001b[0m\u001b[0;34m)\u001b[0m \u001b[0;32mfrom\u001b[0m \u001b[0merr\u001b[0m\u001b[0;34m\u001b[0m\u001b[0;34m\u001b[0m\u001b[0m\n\u001b[0m\u001b[1;32m   3364\u001b[0m \u001b[0;34m\u001b[0m\u001b[0m\n\u001b[1;32m   3365\u001b[0m         \u001b[0;32mif\u001b[0m \u001b[0mis_scalar\u001b[0m\u001b[0;34m(\u001b[0m\u001b[0mkey\u001b[0m\u001b[0;34m)\u001b[0m \u001b[0;32mand\u001b[0m \u001b[0misna\u001b[0m\u001b[0;34m(\u001b[0m\u001b[0mkey\u001b[0m\u001b[0;34m)\u001b[0m \u001b[0;32mand\u001b[0m \u001b[0;32mnot\u001b[0m \u001b[0mself\u001b[0m\u001b[0;34m.\u001b[0m\u001b[0mhasnans\u001b[0m\u001b[0;34m:\u001b[0m\u001b[0;34m\u001b[0m\u001b[0;34m\u001b[0m\u001b[0m\n",
            "\u001b[0;31mKeyError\u001b[0m: 0"
          ]
        }
      ],
      "source": [
        "X_train = []\n",
        "for i in tqdm(range(len(y_train))):\n",
        "    X_train.append(X_train_pd[i].values)\n",
        "X_train_np = np.array(X_train)\n",
        "y_train_np = np.array(y_train)\n",
        "X_train_np, y_train_np = shuffle(X_train_np, y_train_np,random_state=42)"
      ]
    },
    {
      "cell_type": "code",
      "execution_count": null,
      "metadata": {
        "id": "gClJOE1huS3C"
      },
      "outputs": [],
      "source": [
        "X_valid_pd = model.transform(bv_valid)\n",
        "X_valid = []\n",
        "for i in tqdm(range(len(y_valid))):\n",
        "    X_valid.append(X_valid_pd[i].values)"
      ]
    },
    {
      "cell_type": "markdown",
      "metadata": {
        "id": "-1sT_WCWuS3C"
      },
      "source": [
        "## Классификатор\n",
        "RandomForest"
      ]
    },
    {
      "cell_type": "code",
      "execution_count": null,
      "metadata": {
        "id": "0oFuN9CIuS3C"
      },
      "outputs": [],
      "source": [
        "classifier = RandomForestClassifier(n_estimators=10)\n",
        "classifier.fit(X_train_np, y_train_np)\n",
        "pred = classifier.predict(X_valid)\n",
        "print(classification_report(y_valid, pred, zero_division=1))"
      ]
    },
    {
      "cell_type": "markdown",
      "metadata": {
        "id": "NQTHhowDIbQ3"
      },
      "source": [
        "# Выводы\n",
        "В задании предполагалось построить модель для классификации даты (года) публикации новостных заметок из выборки lenta.ru за 22 года. В качестве векторного представления текста рассматривались тематические векторы, которые получались с помощью модели ARTM из библиотеки bigARTM. При обучении тематической модели измнялись такие параметры, как модальности (`month, year, tag`) и регуляризаторы (`smooth, sparce, decorrelator`). Также рассматривалась классификация с помощью различных классификаторов: `Logistic Regression, Random Forest, XGBoost`.\n",
        "\n",
        "* Все классификаторы дают приблизительно равный результат ~ `60%`. В качестве основного был выбран `Random Forest, 10 trees`.\n",
        "* Добавление модальностей месяца и тэга повысили точность, причем sparsity тэга во много раз превышала sparsity месяца - ожидаемо, т.к. вторая слабо влияет на тематику документа.\n",
        "\n",
        "* Регуляризаторы добавлялись не сразу все, а постепенно, на разных итерациях. Добавление регуляризаторов не дало прироста точности.\n",
        "\n",
        "* Добавление модальности года улучшает точность по сравнению с модальностью месяца лишь у некоторых классов, к примеру: у класса \"политика\".\n",
        "\n",
        "* При наличии года  в качестве модальности есть возможность провести классификацию при помощи встроенных методов bigARTM. Можно получить матрицу условных вероятностей **p(модальность|документ)**, по которой далее определить наиболее вероятное значение модальности (года). Точность такого метода оказалась ниже других, но такой подход работает быстрее засчет простого классификатора. \n",
        "\n",
        "Все рассматриваемые модели показали среднюю точность классификации (~60%), что неплохо. Основной недостаток тематической классификации - неравновмерное распределение текстов по тематикам. Также некоторые тематики богаты проффесионализмами и научными терминами, что упрощает предсказание, а другие - нет.\n"
      ]
    }
  ],
  "metadata": {
    "accelerator": "GPU",
    "colab": {
      "collapsed_sections": [],
      "name": "task_2_2_new.ipynb",
      "provenance": []
    },
    "kernelspec": {
      "display_name": "Python 3",
      "name": "python3"
    },
    "language_info": {
      "name": "python"
    },
    "widgets": {
      "application/vnd.jupyter.widget-state+json": {
        "05b8990ce0de4989ae683c81c0d45882": {
          "model_module": "@jupyter-widgets/controls",
          "model_module_version": "1.5.0",
          "model_name": "HBoxModel",
          "state": {
            "_dom_classes": [],
            "_model_module": "@jupyter-widgets/controls",
            "_model_module_version": "1.5.0",
            "_model_name": "HBoxModel",
            "_view_count": null,
            "_view_module": "@jupyter-widgets/controls",
            "_view_module_version": "1.5.0",
            "_view_name": "HBoxView",
            "box_style": "",
            "children": [
              "IPY_MODEL_390ce4ca28aa4dadbc6adca4557b642b",
              "IPY_MODEL_b99b973650f84a958257fc6d24fe7921",
              "IPY_MODEL_9f9782e3c5c44db4bd364594746cc488"
            ],
            "layout": "IPY_MODEL_721b3693c91347109cb60a8764622ab3"
          }
        },
        "0625030f1fe341c79d61191c45644f74": {
          "model_module": "@jupyter-widgets/controls",
          "model_module_version": "1.5.0",
          "model_name": "HTMLModel",
          "state": {
            "_dom_classes": [],
            "_model_module": "@jupyter-widgets/controls",
            "_model_module_version": "1.5.0",
            "_model_name": "HTMLModel",
            "_view_count": null,
            "_view_module": "@jupyter-widgets/controls",
            "_view_module_version": "1.5.0",
            "_view_name": "HTMLView",
            "description": "",
            "description_tooltip": null,
            "layout": "IPY_MODEL_3c8870c8f22f499e952e2b5afa8b8038",
            "placeholder": "​",
            "style": "IPY_MODEL_2258a53fd45f4e49a51ea8c46aad7e31",
            "value": "100%"
          }
        },
        "069fe5b20118426caec18b644b3a0c09": {
          "model_module": "@jupyter-widgets/base",
          "model_module_version": "1.2.0",
          "model_name": "LayoutModel",
          "state": {
            "_model_module": "@jupyter-widgets/base",
            "_model_module_version": "1.2.0",
            "_model_name": "LayoutModel",
            "_view_count": null,
            "_view_module": "@jupyter-widgets/base",
            "_view_module_version": "1.2.0",
            "_view_name": "LayoutView",
            "align_content": null,
            "align_items": null,
            "align_self": null,
            "border": null,
            "bottom": null,
            "display": null,
            "flex": null,
            "flex_flow": null,
            "grid_area": null,
            "grid_auto_columns": null,
            "grid_auto_flow": null,
            "grid_auto_rows": null,
            "grid_column": null,
            "grid_gap": null,
            "grid_row": null,
            "grid_template_areas": null,
            "grid_template_columns": null,
            "grid_template_rows": null,
            "height": null,
            "justify_content": null,
            "justify_items": null,
            "left": null,
            "margin": null,
            "max_height": null,
            "max_width": null,
            "min_height": null,
            "min_width": null,
            "object_fit": null,
            "object_position": null,
            "order": null,
            "overflow": null,
            "overflow_x": null,
            "overflow_y": null,
            "padding": null,
            "right": null,
            "top": null,
            "visibility": null,
            "width": null
          }
        },
        "0df6f1f51faf4d8f9557423365e84274": {
          "model_module": "@jupyter-widgets/base",
          "model_module_version": "1.2.0",
          "model_name": "LayoutModel",
          "state": {
            "_model_module": "@jupyter-widgets/base",
            "_model_module_version": "1.2.0",
            "_model_name": "LayoutModel",
            "_view_count": null,
            "_view_module": "@jupyter-widgets/base",
            "_view_module_version": "1.2.0",
            "_view_name": "LayoutView",
            "align_content": null,
            "align_items": null,
            "align_self": null,
            "border": null,
            "bottom": null,
            "display": null,
            "flex": null,
            "flex_flow": null,
            "grid_area": null,
            "grid_auto_columns": null,
            "grid_auto_flow": null,
            "grid_auto_rows": null,
            "grid_column": null,
            "grid_gap": null,
            "grid_row": null,
            "grid_template_areas": null,
            "grid_template_columns": null,
            "grid_template_rows": null,
            "height": null,
            "justify_content": null,
            "justify_items": null,
            "left": null,
            "margin": null,
            "max_height": null,
            "max_width": null,
            "min_height": null,
            "min_width": null,
            "object_fit": null,
            "object_position": null,
            "order": null,
            "overflow": null,
            "overflow_x": null,
            "overflow_y": null,
            "padding": null,
            "right": null,
            "top": null,
            "visibility": null,
            "width": null
          }
        },
        "10dfdb7d7da94d8dbfe5c1ef798387c6": {
          "model_module": "@jupyter-widgets/controls",
          "model_module_version": "1.5.0",
          "model_name": "DescriptionStyleModel",
          "state": {
            "_model_module": "@jupyter-widgets/controls",
            "_model_module_version": "1.5.0",
            "_model_name": "DescriptionStyleModel",
            "_view_count": null,
            "_view_module": "@jupyter-widgets/base",
            "_view_module_version": "1.2.0",
            "_view_name": "StyleView",
            "description_width": ""
          }
        },
        "1b5ba027902145deb54e7f0ee3b473b0": {
          "model_module": "@jupyter-widgets/base",
          "model_module_version": "1.2.0",
          "model_name": "LayoutModel",
          "state": {
            "_model_module": "@jupyter-widgets/base",
            "_model_module_version": "1.2.0",
            "_model_name": "LayoutModel",
            "_view_count": null,
            "_view_module": "@jupyter-widgets/base",
            "_view_module_version": "1.2.0",
            "_view_name": "LayoutView",
            "align_content": null,
            "align_items": null,
            "align_self": null,
            "border": null,
            "bottom": null,
            "display": null,
            "flex": null,
            "flex_flow": null,
            "grid_area": null,
            "grid_auto_columns": null,
            "grid_auto_flow": null,
            "grid_auto_rows": null,
            "grid_column": null,
            "grid_gap": null,
            "grid_row": null,
            "grid_template_areas": null,
            "grid_template_columns": null,
            "grid_template_rows": null,
            "height": null,
            "justify_content": null,
            "justify_items": null,
            "left": null,
            "margin": null,
            "max_height": null,
            "max_width": null,
            "min_height": null,
            "min_width": null,
            "object_fit": null,
            "object_position": null,
            "order": null,
            "overflow": null,
            "overflow_x": null,
            "overflow_y": null,
            "padding": null,
            "right": null,
            "top": null,
            "visibility": null,
            "width": null
          }
        },
        "1ce2e8b7eeec4fb6b4159845f9074f1e": {
          "model_module": "@jupyter-widgets/base",
          "model_module_version": "1.2.0",
          "model_name": "LayoutModel",
          "state": {
            "_model_module": "@jupyter-widgets/base",
            "_model_module_version": "1.2.0",
            "_model_name": "LayoutModel",
            "_view_count": null,
            "_view_module": "@jupyter-widgets/base",
            "_view_module_version": "1.2.0",
            "_view_name": "LayoutView",
            "align_content": null,
            "align_items": null,
            "align_self": null,
            "border": null,
            "bottom": null,
            "display": null,
            "flex": null,
            "flex_flow": null,
            "grid_area": null,
            "grid_auto_columns": null,
            "grid_auto_flow": null,
            "grid_auto_rows": null,
            "grid_column": null,
            "grid_gap": null,
            "grid_row": null,
            "grid_template_areas": null,
            "grid_template_columns": null,
            "grid_template_rows": null,
            "height": null,
            "justify_content": null,
            "justify_items": null,
            "left": null,
            "margin": null,
            "max_height": null,
            "max_width": null,
            "min_height": null,
            "min_width": null,
            "object_fit": null,
            "object_position": null,
            "order": null,
            "overflow": null,
            "overflow_x": null,
            "overflow_y": null,
            "padding": null,
            "right": null,
            "top": null,
            "visibility": null,
            "width": null
          }
        },
        "2258a53fd45f4e49a51ea8c46aad7e31": {
          "model_module": "@jupyter-widgets/controls",
          "model_module_version": "1.5.0",
          "model_name": "DescriptionStyleModel",
          "state": {
            "_model_module": "@jupyter-widgets/controls",
            "_model_module_version": "1.5.0",
            "_model_name": "DescriptionStyleModel",
            "_view_count": null,
            "_view_module": "@jupyter-widgets/base",
            "_view_module_version": "1.2.0",
            "_view_name": "StyleView",
            "description_width": ""
          }
        },
        "35e20a0b4c874782ab39259627a9c254": {
          "model_module": "@jupyter-widgets/base",
          "model_module_version": "1.2.0",
          "model_name": "LayoutModel",
          "state": {
            "_model_module": "@jupyter-widgets/base",
            "_model_module_version": "1.2.0",
            "_model_name": "LayoutModel",
            "_view_count": null,
            "_view_module": "@jupyter-widgets/base",
            "_view_module_version": "1.2.0",
            "_view_name": "LayoutView",
            "align_content": null,
            "align_items": null,
            "align_self": null,
            "border": null,
            "bottom": null,
            "display": null,
            "flex": null,
            "flex_flow": null,
            "grid_area": null,
            "grid_auto_columns": null,
            "grid_auto_flow": null,
            "grid_auto_rows": null,
            "grid_column": null,
            "grid_gap": null,
            "grid_row": null,
            "grid_template_areas": null,
            "grid_template_columns": null,
            "grid_template_rows": null,
            "height": null,
            "justify_content": null,
            "justify_items": null,
            "left": null,
            "margin": null,
            "max_height": null,
            "max_width": null,
            "min_height": null,
            "min_width": null,
            "object_fit": null,
            "object_position": null,
            "order": null,
            "overflow": null,
            "overflow_x": null,
            "overflow_y": null,
            "padding": null,
            "right": null,
            "top": null,
            "visibility": null,
            "width": null
          }
        },
        "390ce4ca28aa4dadbc6adca4557b642b": {
          "model_module": "@jupyter-widgets/controls",
          "model_module_version": "1.5.0",
          "model_name": "HTMLModel",
          "state": {
            "_dom_classes": [],
            "_model_module": "@jupyter-widgets/controls",
            "_model_module_version": "1.5.0",
            "_model_name": "HTMLModel",
            "_view_count": null,
            "_view_module": "@jupyter-widgets/controls",
            "_view_module_version": "1.5.0",
            "_view_name": "HTMLView",
            "description": "",
            "description_tooltip": null,
            "layout": "IPY_MODEL_d6246f9f8dad4decbe02cdf89564873d",
            "placeholder": "​",
            "style": "IPY_MODEL_10dfdb7d7da94d8dbfe5c1ef798387c6",
            "value": "100%"
          }
        },
        "3c8870c8f22f499e952e2b5afa8b8038": {
          "model_module": "@jupyter-widgets/base",
          "model_module_version": "1.2.0",
          "model_name": "LayoutModel",
          "state": {
            "_model_module": "@jupyter-widgets/base",
            "_model_module_version": "1.2.0",
            "_model_name": "LayoutModel",
            "_view_count": null,
            "_view_module": "@jupyter-widgets/base",
            "_view_module_version": "1.2.0",
            "_view_name": "LayoutView",
            "align_content": null,
            "align_items": null,
            "align_self": null,
            "border": null,
            "bottom": null,
            "display": null,
            "flex": null,
            "flex_flow": null,
            "grid_area": null,
            "grid_auto_columns": null,
            "grid_auto_flow": null,
            "grid_auto_rows": null,
            "grid_column": null,
            "grid_gap": null,
            "grid_row": null,
            "grid_template_areas": null,
            "grid_template_columns": null,
            "grid_template_rows": null,
            "height": null,
            "justify_content": null,
            "justify_items": null,
            "left": null,
            "margin": null,
            "max_height": null,
            "max_width": null,
            "min_height": null,
            "min_width": null,
            "object_fit": null,
            "object_position": null,
            "order": null,
            "overflow": null,
            "overflow_x": null,
            "overflow_y": null,
            "padding": null,
            "right": null,
            "top": null,
            "visibility": null,
            "width": null
          }
        },
        "4ce37156efeb467ba82c098dd33a0e90": {
          "model_module": "@jupyter-widgets/base",
          "model_module_version": "1.2.0",
          "model_name": "LayoutModel",
          "state": {
            "_model_module": "@jupyter-widgets/base",
            "_model_module_version": "1.2.0",
            "_model_name": "LayoutModel",
            "_view_count": null,
            "_view_module": "@jupyter-widgets/base",
            "_view_module_version": "1.2.0",
            "_view_name": "LayoutView",
            "align_content": null,
            "align_items": null,
            "align_self": null,
            "border": null,
            "bottom": null,
            "display": null,
            "flex": null,
            "flex_flow": null,
            "grid_area": null,
            "grid_auto_columns": null,
            "grid_auto_flow": null,
            "grid_auto_rows": null,
            "grid_column": null,
            "grid_gap": null,
            "grid_row": null,
            "grid_template_areas": null,
            "grid_template_columns": null,
            "grid_template_rows": null,
            "height": null,
            "justify_content": null,
            "justify_items": null,
            "left": null,
            "margin": null,
            "max_height": null,
            "max_width": null,
            "min_height": null,
            "min_width": null,
            "object_fit": null,
            "object_position": null,
            "order": null,
            "overflow": null,
            "overflow_x": null,
            "overflow_y": null,
            "padding": null,
            "right": null,
            "top": null,
            "visibility": null,
            "width": null
          }
        },
        "5527fc6caac9433cba9dece1fc1fbeb4": {
          "model_module": "@jupyter-widgets/base",
          "model_module_version": "1.2.0",
          "model_name": "LayoutModel",
          "state": {
            "_model_module": "@jupyter-widgets/base",
            "_model_module_version": "1.2.0",
            "_model_name": "LayoutModel",
            "_view_count": null,
            "_view_module": "@jupyter-widgets/base",
            "_view_module_version": "1.2.0",
            "_view_name": "LayoutView",
            "align_content": null,
            "align_items": null,
            "align_self": null,
            "border": null,
            "bottom": null,
            "display": null,
            "flex": null,
            "flex_flow": null,
            "grid_area": null,
            "grid_auto_columns": null,
            "grid_auto_flow": null,
            "grid_auto_rows": null,
            "grid_column": null,
            "grid_gap": null,
            "grid_row": null,
            "grid_template_areas": null,
            "grid_template_columns": null,
            "grid_template_rows": null,
            "height": null,
            "justify_content": null,
            "justify_items": null,
            "left": null,
            "margin": null,
            "max_height": null,
            "max_width": null,
            "min_height": null,
            "min_width": null,
            "object_fit": null,
            "object_position": null,
            "order": null,
            "overflow": null,
            "overflow_x": null,
            "overflow_y": null,
            "padding": null,
            "right": null,
            "top": null,
            "visibility": null,
            "width": null
          }
        },
        "581231bf6a4147c582d60b7d652a378a": {
          "model_module": "@jupyter-widgets/base",
          "model_module_version": "1.2.0",
          "model_name": "LayoutModel",
          "state": {
            "_model_module": "@jupyter-widgets/base",
            "_model_module_version": "1.2.0",
            "_model_name": "LayoutModel",
            "_view_count": null,
            "_view_module": "@jupyter-widgets/base",
            "_view_module_version": "1.2.0",
            "_view_name": "LayoutView",
            "align_content": null,
            "align_items": null,
            "align_self": null,
            "border": null,
            "bottom": null,
            "display": null,
            "flex": null,
            "flex_flow": null,
            "grid_area": null,
            "grid_auto_columns": null,
            "grid_auto_flow": null,
            "grid_auto_rows": null,
            "grid_column": null,
            "grid_gap": null,
            "grid_row": null,
            "grid_template_areas": null,
            "grid_template_columns": null,
            "grid_template_rows": null,
            "height": null,
            "justify_content": null,
            "justify_items": null,
            "left": null,
            "margin": null,
            "max_height": null,
            "max_width": null,
            "min_height": null,
            "min_width": null,
            "object_fit": null,
            "object_position": null,
            "order": null,
            "overflow": null,
            "overflow_x": null,
            "overflow_y": null,
            "padding": null,
            "right": null,
            "top": null,
            "visibility": null,
            "width": null
          }
        },
        "5b648c2446e74ad48357bc7f0e83693c": {
          "model_module": "@jupyter-widgets/controls",
          "model_module_version": "1.5.0",
          "model_name": "ProgressStyleModel",
          "state": {
            "_model_module": "@jupyter-widgets/controls",
            "_model_module_version": "1.5.0",
            "_model_name": "ProgressStyleModel",
            "_view_count": null,
            "_view_module": "@jupyter-widgets/base",
            "_view_module_version": "1.2.0",
            "_view_name": "StyleView",
            "bar_color": null,
            "description_width": ""
          }
        },
        "5e733a9bb9c244c4b5fc66c300d99dda": {
          "model_module": "@jupyter-widgets/controls",
          "model_module_version": "1.5.0",
          "model_name": "HTMLModel",
          "state": {
            "_dom_classes": [],
            "_model_module": "@jupyter-widgets/controls",
            "_model_module_version": "1.5.0",
            "_model_name": "HTMLModel",
            "_view_count": null,
            "_view_module": "@jupyter-widgets/controls",
            "_view_module_version": "1.5.0",
            "_view_name": "HTMLView",
            "description": "",
            "description_tooltip": null,
            "layout": "IPY_MODEL_0df6f1f51faf4d8f9557423365e84274",
            "placeholder": "​",
            "style": "IPY_MODEL_f7ca0222ecd84a28a8ca0bdaa96d8a1a",
            "value": " 6604/6604 [00:00&lt;00:00, 13707.81it/s]"
          }
        },
        "61fdd0ecab02489d857215c5d7ca9e37": {
          "model_module": "@jupyter-widgets/controls",
          "model_module_version": "1.5.0",
          "model_name": "HBoxModel",
          "state": {
            "_dom_classes": [],
            "_model_module": "@jupyter-widgets/controls",
            "_model_module_version": "1.5.0",
            "_model_name": "HBoxModel",
            "_view_count": null,
            "_view_module": "@jupyter-widgets/controls",
            "_view_module_version": "1.5.0",
            "_view_name": "HBoxView",
            "box_style": "",
            "children": [
              "IPY_MODEL_81649a919b494800a8c560be49b25ea4",
              "IPY_MODEL_7c00d463d98e43f7aabe2d5a71f21f07",
              "IPY_MODEL_dde61faade2d4b099da801bc88ce8ccd"
            ],
            "layout": "IPY_MODEL_581231bf6a4147c582d60b7d652a378a"
          }
        },
        "62ed77b8d94d4663961871f8b4691ed1": {
          "model_module": "@jupyter-widgets/controls",
          "model_module_version": "1.5.0",
          "model_name": "FloatProgressModel",
          "state": {
            "_dom_classes": [],
            "_model_module": "@jupyter-widgets/controls",
            "_model_module_version": "1.5.0",
            "_model_name": "FloatProgressModel",
            "_view_count": null,
            "_view_module": "@jupyter-widgets/controls",
            "_view_module_version": "1.5.0",
            "_view_name": "ProgressView",
            "bar_style": "success",
            "description": "",
            "description_tooltip": null,
            "layout": "IPY_MODEL_5527fc6caac9433cba9dece1fc1fbeb4",
            "max": 6604,
            "min": 0,
            "orientation": "horizontal",
            "style": "IPY_MODEL_a44234cfc8014ecca1c05ea23a02c829",
            "value": 6604
          }
        },
        "721b3693c91347109cb60a8764622ab3": {
          "model_module": "@jupyter-widgets/base",
          "model_module_version": "1.2.0",
          "model_name": "LayoutModel",
          "state": {
            "_model_module": "@jupyter-widgets/base",
            "_model_module_version": "1.2.0",
            "_model_name": "LayoutModel",
            "_view_count": null,
            "_view_module": "@jupyter-widgets/base",
            "_view_module_version": "1.2.0",
            "_view_name": "LayoutView",
            "align_content": null,
            "align_items": null,
            "align_self": null,
            "border": null,
            "bottom": null,
            "display": null,
            "flex": null,
            "flex_flow": null,
            "grid_area": null,
            "grid_auto_columns": null,
            "grid_auto_flow": null,
            "grid_auto_rows": null,
            "grid_column": null,
            "grid_gap": null,
            "grid_row": null,
            "grid_template_areas": null,
            "grid_template_columns": null,
            "grid_template_rows": null,
            "height": null,
            "justify_content": null,
            "justify_items": null,
            "left": null,
            "margin": null,
            "max_height": null,
            "max_width": null,
            "min_height": null,
            "min_width": null,
            "object_fit": null,
            "object_position": null,
            "order": null,
            "overflow": null,
            "overflow_x": null,
            "overflow_y": null,
            "padding": null,
            "right": null,
            "top": null,
            "visibility": null,
            "width": null
          }
        },
        "7636e97c00ed4206aa33900b903ddc83": {
          "model_module": "@jupyter-widgets/controls",
          "model_module_version": "1.5.0",
          "model_name": "FloatProgressModel",
          "state": {
            "_dom_classes": [],
            "_model_module": "@jupyter-widgets/controls",
            "_model_module_version": "1.5.0",
            "_model_name": "FloatProgressModel",
            "_view_count": null,
            "_view_module": "@jupyter-widgets/controls",
            "_view_module_version": "1.5.0",
            "_view_name": "ProgressView",
            "bar_style": "success",
            "description": "",
            "description_tooltip": null,
            "layout": "IPY_MODEL_a637602559004137813cd2cf79040865",
            "max": 6604,
            "min": 0,
            "orientation": "horizontal",
            "style": "IPY_MODEL_8df6806c1dfb4c808a7d3a7cd7091124",
            "value": 6604
          }
        },
        "787e4441c29b4d20bc635da153a32467": {
          "model_module": "@jupyter-widgets/controls",
          "model_module_version": "1.5.0",
          "model_name": "ProgressStyleModel",
          "state": {
            "_model_module": "@jupyter-widgets/controls",
            "_model_module_version": "1.5.0",
            "_model_name": "ProgressStyleModel",
            "_view_count": null,
            "_view_module": "@jupyter-widgets/base",
            "_view_module_version": "1.2.0",
            "_view_name": "StyleView",
            "bar_color": null,
            "description_width": ""
          }
        },
        "7c00d463d98e43f7aabe2d5a71f21f07": {
          "model_module": "@jupyter-widgets/controls",
          "model_module_version": "1.5.0",
          "model_name": "FloatProgressModel",
          "state": {
            "_dom_classes": [],
            "_model_module": "@jupyter-widgets/controls",
            "_model_module_version": "1.5.0",
            "_model_name": "FloatProgressModel",
            "_view_count": null,
            "_view_module": "@jupyter-widgets/controls",
            "_view_module_version": "1.5.0",
            "_view_name": "ProgressView",
            "bar_style": "success",
            "description": "",
            "description_tooltip": null,
            "layout": "IPY_MODEL_8d3604841552436ebf31da73b0686897",
            "max": 653795,
            "min": 0,
            "orientation": "horizontal",
            "style": "IPY_MODEL_5b648c2446e74ad48357bc7f0e83693c",
            "value": 653795
          }
        },
        "7caaec1362e04121a898415e833666e9": {
          "model_module": "@jupyter-widgets/base",
          "model_module_version": "1.2.0",
          "model_name": "LayoutModel",
          "state": {
            "_model_module": "@jupyter-widgets/base",
            "_model_module_version": "1.2.0",
            "_model_name": "LayoutModel",
            "_view_count": null,
            "_view_module": "@jupyter-widgets/base",
            "_view_module_version": "1.2.0",
            "_view_name": "LayoutView",
            "align_content": null,
            "align_items": null,
            "align_self": null,
            "border": null,
            "bottom": null,
            "display": null,
            "flex": null,
            "flex_flow": null,
            "grid_area": null,
            "grid_auto_columns": null,
            "grid_auto_flow": null,
            "grid_auto_rows": null,
            "grid_column": null,
            "grid_gap": null,
            "grid_row": null,
            "grid_template_areas": null,
            "grid_template_columns": null,
            "grid_template_rows": null,
            "height": null,
            "justify_content": null,
            "justify_items": null,
            "left": null,
            "margin": null,
            "max_height": null,
            "max_width": null,
            "min_height": null,
            "min_width": null,
            "object_fit": null,
            "object_position": null,
            "order": null,
            "overflow": null,
            "overflow_x": null,
            "overflow_y": null,
            "padding": null,
            "right": null,
            "top": null,
            "visibility": null,
            "width": null
          }
        },
        "81649a919b494800a8c560be49b25ea4": {
          "model_module": "@jupyter-widgets/controls",
          "model_module_version": "1.5.0",
          "model_name": "HTMLModel",
          "state": {
            "_dom_classes": [],
            "_model_module": "@jupyter-widgets/controls",
            "_model_module_version": "1.5.0",
            "_model_name": "HTMLModel",
            "_view_count": null,
            "_view_module": "@jupyter-widgets/controls",
            "_view_module_version": "1.5.0",
            "_view_name": "HTMLView",
            "description": "",
            "description_tooltip": null,
            "layout": "IPY_MODEL_997751319d2144afb2e022de40e4c0bb",
            "placeholder": "​",
            "style": "IPY_MODEL_c3bc8b52ce9844b6a1aa8907dac2ed74",
            "value": "100%"
          }
        },
        "8d3604841552436ebf31da73b0686897": {
          "model_module": "@jupyter-widgets/base",
          "model_module_version": "1.2.0",
          "model_name": "LayoutModel",
          "state": {
            "_model_module": "@jupyter-widgets/base",
            "_model_module_version": "1.2.0",
            "_model_name": "LayoutModel",
            "_view_count": null,
            "_view_module": "@jupyter-widgets/base",
            "_view_module_version": "1.2.0",
            "_view_name": "LayoutView",
            "align_content": null,
            "align_items": null,
            "align_self": null,
            "border": null,
            "bottom": null,
            "display": null,
            "flex": null,
            "flex_flow": null,
            "grid_area": null,
            "grid_auto_columns": null,
            "grid_auto_flow": null,
            "grid_auto_rows": null,
            "grid_column": null,
            "grid_gap": null,
            "grid_row": null,
            "grid_template_areas": null,
            "grid_template_columns": null,
            "grid_template_rows": null,
            "height": null,
            "justify_content": null,
            "justify_items": null,
            "left": null,
            "margin": null,
            "max_height": null,
            "max_width": null,
            "min_height": null,
            "min_width": null,
            "object_fit": null,
            "object_position": null,
            "order": null,
            "overflow": null,
            "overflow_x": null,
            "overflow_y": null,
            "padding": null,
            "right": null,
            "top": null,
            "visibility": null,
            "width": null
          }
        },
        "8df6806c1dfb4c808a7d3a7cd7091124": {
          "model_module": "@jupyter-widgets/controls",
          "model_module_version": "1.5.0",
          "model_name": "ProgressStyleModel",
          "state": {
            "_model_module": "@jupyter-widgets/controls",
            "_model_module_version": "1.5.0",
            "_model_name": "ProgressStyleModel",
            "_view_count": null,
            "_view_module": "@jupyter-widgets/base",
            "_view_module_version": "1.2.0",
            "_view_name": "StyleView",
            "bar_color": null,
            "description_width": ""
          }
        },
        "901b3960eb44469d9b8e45ab74166dd3": {
          "model_module": "@jupyter-widgets/controls",
          "model_module_version": "1.5.0",
          "model_name": "DescriptionStyleModel",
          "state": {
            "_model_module": "@jupyter-widgets/controls",
            "_model_module_version": "1.5.0",
            "_model_name": "DescriptionStyleModel",
            "_view_count": null,
            "_view_module": "@jupyter-widgets/base",
            "_view_module_version": "1.2.0",
            "_view_name": "StyleView",
            "description_width": ""
          }
        },
        "9318b13745bb4b8ba1bde7824409683a": {
          "model_module": "@jupyter-widgets/controls",
          "model_module_version": "1.5.0",
          "model_name": "DescriptionStyleModel",
          "state": {
            "_model_module": "@jupyter-widgets/controls",
            "_model_module_version": "1.5.0",
            "_model_name": "DescriptionStyleModel",
            "_view_count": null,
            "_view_module": "@jupyter-widgets/base",
            "_view_module_version": "1.2.0",
            "_view_name": "StyleView",
            "description_width": ""
          }
        },
        "9904085be27d4f3d91430948f9ad21f2": {
          "model_module": "@jupyter-widgets/controls",
          "model_module_version": "1.5.0",
          "model_name": "DescriptionStyleModel",
          "state": {
            "_model_module": "@jupyter-widgets/controls",
            "_model_module_version": "1.5.0",
            "_model_name": "DescriptionStyleModel",
            "_view_count": null,
            "_view_module": "@jupyter-widgets/base",
            "_view_module_version": "1.2.0",
            "_view_name": "StyleView",
            "description_width": ""
          }
        },
        "997751319d2144afb2e022de40e4c0bb": {
          "model_module": "@jupyter-widgets/base",
          "model_module_version": "1.2.0",
          "model_name": "LayoutModel",
          "state": {
            "_model_module": "@jupyter-widgets/base",
            "_model_module_version": "1.2.0",
            "_model_name": "LayoutModel",
            "_view_count": null,
            "_view_module": "@jupyter-widgets/base",
            "_view_module_version": "1.2.0",
            "_view_name": "LayoutView",
            "align_content": null,
            "align_items": null,
            "align_self": null,
            "border": null,
            "bottom": null,
            "display": null,
            "flex": null,
            "flex_flow": null,
            "grid_area": null,
            "grid_auto_columns": null,
            "grid_auto_flow": null,
            "grid_auto_rows": null,
            "grid_column": null,
            "grid_gap": null,
            "grid_row": null,
            "grid_template_areas": null,
            "grid_template_columns": null,
            "grid_template_rows": null,
            "height": null,
            "justify_content": null,
            "justify_items": null,
            "left": null,
            "margin": null,
            "max_height": null,
            "max_width": null,
            "min_height": null,
            "min_width": null,
            "object_fit": null,
            "object_position": null,
            "order": null,
            "overflow": null,
            "overflow_x": null,
            "overflow_y": null,
            "padding": null,
            "right": null,
            "top": null,
            "visibility": null,
            "width": null
          }
        },
        "9f9782e3c5c44db4bd364594746cc488": {
          "model_module": "@jupyter-widgets/controls",
          "model_module_version": "1.5.0",
          "model_name": "HTMLModel",
          "state": {
            "_dom_classes": [],
            "_model_module": "@jupyter-widgets/controls",
            "_model_module_version": "1.5.0",
            "_model_name": "HTMLModel",
            "_view_count": null,
            "_view_module": "@jupyter-widgets/controls",
            "_view_module_version": "1.5.0",
            "_view_name": "HTMLView",
            "description": "",
            "description_tooltip": null,
            "layout": "IPY_MODEL_1ce2e8b7eeec4fb6b4159845f9074f1e",
            "placeholder": "​",
            "style": "IPY_MODEL_9318b13745bb4b8ba1bde7824409683a",
            "value": " 653795/653795 [00:51&lt;00:00, 15762.12it/s]"
          }
        },
        "a44234cfc8014ecca1c05ea23a02c829": {
          "model_module": "@jupyter-widgets/controls",
          "model_module_version": "1.5.0",
          "model_name": "ProgressStyleModel",
          "state": {
            "_model_module": "@jupyter-widgets/controls",
            "_model_module_version": "1.5.0",
            "_model_name": "ProgressStyleModel",
            "_view_count": null,
            "_view_module": "@jupyter-widgets/base",
            "_view_module_version": "1.2.0",
            "_view_name": "StyleView",
            "bar_color": null,
            "description_width": ""
          }
        },
        "a637602559004137813cd2cf79040865": {
          "model_module": "@jupyter-widgets/base",
          "model_module_version": "1.2.0",
          "model_name": "LayoutModel",
          "state": {
            "_model_module": "@jupyter-widgets/base",
            "_model_module_version": "1.2.0",
            "_model_name": "LayoutModel",
            "_view_count": null,
            "_view_module": "@jupyter-widgets/base",
            "_view_module_version": "1.2.0",
            "_view_name": "LayoutView",
            "align_content": null,
            "align_items": null,
            "align_self": null,
            "border": null,
            "bottom": null,
            "display": null,
            "flex": null,
            "flex_flow": null,
            "grid_area": null,
            "grid_auto_columns": null,
            "grid_auto_flow": null,
            "grid_auto_rows": null,
            "grid_column": null,
            "grid_gap": null,
            "grid_row": null,
            "grid_template_areas": null,
            "grid_template_columns": null,
            "grid_template_rows": null,
            "height": null,
            "justify_content": null,
            "justify_items": null,
            "left": null,
            "margin": null,
            "max_height": null,
            "max_width": null,
            "min_height": null,
            "min_width": null,
            "object_fit": null,
            "object_position": null,
            "order": null,
            "overflow": null,
            "overflow_x": null,
            "overflow_y": null,
            "padding": null,
            "right": null,
            "top": null,
            "visibility": null,
            "width": null
          }
        },
        "b310d30bbe0e46868a9cc492bf8e4242": {
          "model_module": "@jupyter-widgets/controls",
          "model_module_version": "1.5.0",
          "model_name": "HBoxModel",
          "state": {
            "_dom_classes": [],
            "_model_module": "@jupyter-widgets/controls",
            "_model_module_version": "1.5.0",
            "_model_name": "HBoxModel",
            "_view_count": null,
            "_view_module": "@jupyter-widgets/controls",
            "_view_module_version": "1.5.0",
            "_view_name": "HBoxView",
            "box_style": "",
            "children": [
              "IPY_MODEL_0625030f1fe341c79d61191c45644f74",
              "IPY_MODEL_7636e97c00ed4206aa33900b903ddc83",
              "IPY_MODEL_d322f66f64b6407585d770a2b3b6bff5"
            ],
            "layout": "IPY_MODEL_4ce37156efeb467ba82c098dd33a0e90"
          }
        },
        "b99b973650f84a958257fc6d24fe7921": {
          "model_module": "@jupyter-widgets/controls",
          "model_module_version": "1.5.0",
          "model_name": "FloatProgressModel",
          "state": {
            "_dom_classes": [],
            "_model_module": "@jupyter-widgets/controls",
            "_model_module_version": "1.5.0",
            "_model_name": "FloatProgressModel",
            "_view_count": null,
            "_view_module": "@jupyter-widgets/controls",
            "_view_module_version": "1.5.0",
            "_view_name": "ProgressView",
            "bar_style": "success",
            "description": "",
            "description_tooltip": null,
            "layout": "IPY_MODEL_069fe5b20118426caec18b644b3a0c09",
            "max": 653795,
            "min": 0,
            "orientation": "horizontal",
            "style": "IPY_MODEL_787e4441c29b4d20bc635da153a32467",
            "value": 653795
          }
        },
        "c3bc8b52ce9844b6a1aa8907dac2ed74": {
          "model_module": "@jupyter-widgets/controls",
          "model_module_version": "1.5.0",
          "model_name": "DescriptionStyleModel",
          "state": {
            "_model_module": "@jupyter-widgets/controls",
            "_model_module_version": "1.5.0",
            "_model_name": "DescriptionStyleModel",
            "_view_count": null,
            "_view_module": "@jupyter-widgets/base",
            "_view_module_version": "1.2.0",
            "_view_name": "StyleView",
            "description_width": ""
          }
        },
        "c674cbd5cb144ec9b0341102200de8d7": {
          "model_module": "@jupyter-widgets/base",
          "model_module_version": "1.2.0",
          "model_name": "LayoutModel",
          "state": {
            "_model_module": "@jupyter-widgets/base",
            "_model_module_version": "1.2.0",
            "_model_name": "LayoutModel",
            "_view_count": null,
            "_view_module": "@jupyter-widgets/base",
            "_view_module_version": "1.2.0",
            "_view_name": "LayoutView",
            "align_content": null,
            "align_items": null,
            "align_self": null,
            "border": null,
            "bottom": null,
            "display": null,
            "flex": null,
            "flex_flow": null,
            "grid_area": null,
            "grid_auto_columns": null,
            "grid_auto_flow": null,
            "grid_auto_rows": null,
            "grid_column": null,
            "grid_gap": null,
            "grid_row": null,
            "grid_template_areas": null,
            "grid_template_columns": null,
            "grid_template_rows": null,
            "height": null,
            "justify_content": null,
            "justify_items": null,
            "left": null,
            "margin": null,
            "max_height": null,
            "max_width": null,
            "min_height": null,
            "min_width": null,
            "object_fit": null,
            "object_position": null,
            "order": null,
            "overflow": null,
            "overflow_x": null,
            "overflow_y": null,
            "padding": null,
            "right": null,
            "top": null,
            "visibility": null,
            "width": null
          }
        },
        "d322f66f64b6407585d770a2b3b6bff5": {
          "model_module": "@jupyter-widgets/controls",
          "model_module_version": "1.5.0",
          "model_name": "HTMLModel",
          "state": {
            "_dom_classes": [],
            "_model_module": "@jupyter-widgets/controls",
            "_model_module_version": "1.5.0",
            "_model_name": "HTMLModel",
            "_view_count": null,
            "_view_module": "@jupyter-widgets/controls",
            "_view_module_version": "1.5.0",
            "_view_name": "HTMLView",
            "description": "",
            "description_tooltip": null,
            "layout": "IPY_MODEL_7caaec1362e04121a898415e833666e9",
            "placeholder": "​",
            "style": "IPY_MODEL_9904085be27d4f3d91430948f9ad21f2",
            "value": " 6604/6604 [00:00&lt;00:00, 14032.65it/s]"
          }
        },
        "d47bda228c9c4d46909fe21f9dbd89d4": {
          "model_module": "@jupyter-widgets/controls",
          "model_module_version": "1.5.0",
          "model_name": "DescriptionStyleModel",
          "state": {
            "_model_module": "@jupyter-widgets/controls",
            "_model_module_version": "1.5.0",
            "_model_name": "DescriptionStyleModel",
            "_view_count": null,
            "_view_module": "@jupyter-widgets/base",
            "_view_module_version": "1.2.0",
            "_view_name": "StyleView",
            "description_width": ""
          }
        },
        "d6246f9f8dad4decbe02cdf89564873d": {
          "model_module": "@jupyter-widgets/base",
          "model_module_version": "1.2.0",
          "model_name": "LayoutModel",
          "state": {
            "_model_module": "@jupyter-widgets/base",
            "_model_module_version": "1.2.0",
            "_model_name": "LayoutModel",
            "_view_count": null,
            "_view_module": "@jupyter-widgets/base",
            "_view_module_version": "1.2.0",
            "_view_name": "LayoutView",
            "align_content": null,
            "align_items": null,
            "align_self": null,
            "border": null,
            "bottom": null,
            "display": null,
            "flex": null,
            "flex_flow": null,
            "grid_area": null,
            "grid_auto_columns": null,
            "grid_auto_flow": null,
            "grid_auto_rows": null,
            "grid_column": null,
            "grid_gap": null,
            "grid_row": null,
            "grid_template_areas": null,
            "grid_template_columns": null,
            "grid_template_rows": null,
            "height": null,
            "justify_content": null,
            "justify_items": null,
            "left": null,
            "margin": null,
            "max_height": null,
            "max_width": null,
            "min_height": null,
            "min_width": null,
            "object_fit": null,
            "object_position": null,
            "order": null,
            "overflow": null,
            "overflow_x": null,
            "overflow_y": null,
            "padding": null,
            "right": null,
            "top": null,
            "visibility": null,
            "width": null
          }
        },
        "dde61faade2d4b099da801bc88ce8ccd": {
          "model_module": "@jupyter-widgets/controls",
          "model_module_version": "1.5.0",
          "model_name": "HTMLModel",
          "state": {
            "_dom_classes": [],
            "_model_module": "@jupyter-widgets/controls",
            "_model_module_version": "1.5.0",
            "_model_name": "HTMLModel",
            "_view_count": null,
            "_view_module": "@jupyter-widgets/controls",
            "_view_module_version": "1.5.0",
            "_view_name": "HTMLView",
            "description": "",
            "description_tooltip": null,
            "layout": "IPY_MODEL_1b5ba027902145deb54e7f0ee3b473b0",
            "placeholder": "​",
            "style": "IPY_MODEL_d47bda228c9c4d46909fe21f9dbd89d4",
            "value": " 653795/653795 [01:05&lt;00:00, 15473.27it/s]"
          }
        },
        "e09c52bc73c9426a900856ebe3473ee0": {
          "model_module": "@jupyter-widgets/controls",
          "model_module_version": "1.5.0",
          "model_name": "HTMLModel",
          "state": {
            "_dom_classes": [],
            "_model_module": "@jupyter-widgets/controls",
            "_model_module_version": "1.5.0",
            "_model_name": "HTMLModel",
            "_view_count": null,
            "_view_module": "@jupyter-widgets/controls",
            "_view_module_version": "1.5.0",
            "_view_name": "HTMLView",
            "description": "",
            "description_tooltip": null,
            "layout": "IPY_MODEL_35e20a0b4c874782ab39259627a9c254",
            "placeholder": "​",
            "style": "IPY_MODEL_901b3960eb44469d9b8e45ab74166dd3",
            "value": "100%"
          }
        },
        "e26b61aaadce4551a0e5e1ae52eb3b4a": {
          "model_module": "@jupyter-widgets/controls",
          "model_module_version": "1.5.0",
          "model_name": "HBoxModel",
          "state": {
            "_dom_classes": [],
            "_model_module": "@jupyter-widgets/controls",
            "_model_module_version": "1.5.0",
            "_model_name": "HBoxModel",
            "_view_count": null,
            "_view_module": "@jupyter-widgets/controls",
            "_view_module_version": "1.5.0",
            "_view_name": "HBoxView",
            "box_style": "",
            "children": [
              "IPY_MODEL_e09c52bc73c9426a900856ebe3473ee0",
              "IPY_MODEL_62ed77b8d94d4663961871f8b4691ed1",
              "IPY_MODEL_5e733a9bb9c244c4b5fc66c300d99dda"
            ],
            "layout": "IPY_MODEL_c674cbd5cb144ec9b0341102200de8d7"
          }
        },
        "f7ca0222ecd84a28a8ca0bdaa96d8a1a": {
          "model_module": "@jupyter-widgets/controls",
          "model_module_version": "1.5.0",
          "model_name": "DescriptionStyleModel",
          "state": {
            "_model_module": "@jupyter-widgets/controls",
            "_model_module_version": "1.5.0",
            "_model_name": "DescriptionStyleModel",
            "_view_count": null,
            "_view_module": "@jupyter-widgets/base",
            "_view_module_version": "1.2.0",
            "_view_name": "StyleView",
            "description_width": ""
          }
        },
        "f31ae1b633384b61a28ca204e2b73c92": {
          "model_module": "@jupyter-widgets/controls",
          "model_name": "HBoxModel",
          "model_module_version": "1.5.0",
          "state": {
            "_dom_classes": [],
            "_model_module": "@jupyter-widgets/controls",
            "_model_module_version": "1.5.0",
            "_model_name": "HBoxModel",
            "_view_count": null,
            "_view_module": "@jupyter-widgets/controls",
            "_view_module_version": "1.5.0",
            "_view_name": "HBoxView",
            "box_style": "",
            "children": [
              "IPY_MODEL_fb1545b1cb0543fe85db0753f6298683",
              "IPY_MODEL_c428b8cf2b24435c8d0f65cb022c5862",
              "IPY_MODEL_ea2b729c8d4549daa764754d46a8e3f1"
            ],
            "layout": "IPY_MODEL_5a53c7f207b642b68113914fe30f50bf"
          }
        },
        "fb1545b1cb0543fe85db0753f6298683": {
          "model_module": "@jupyter-widgets/controls",
          "model_name": "HTMLModel",
          "model_module_version": "1.5.0",
          "state": {
            "_dom_classes": [],
            "_model_module": "@jupyter-widgets/controls",
            "_model_module_version": "1.5.0",
            "_model_name": "HTMLModel",
            "_view_count": null,
            "_view_module": "@jupyter-widgets/controls",
            "_view_module_version": "1.5.0",
            "_view_name": "HTMLView",
            "description": "",
            "description_tooltip": null,
            "layout": "IPY_MODEL_c6f82fd16e984363b2bf2ebec3d4876a",
            "placeholder": "​",
            "style": "IPY_MODEL_c75c5a76c7094b51bae2a23146f24beb",
            "value": "100%"
          }
        },
        "c428b8cf2b24435c8d0f65cb022c5862": {
          "model_module": "@jupyter-widgets/controls",
          "model_name": "FloatProgressModel",
          "model_module_version": "1.5.0",
          "state": {
            "_dom_classes": [],
            "_model_module": "@jupyter-widgets/controls",
            "_model_module_version": "1.5.0",
            "_model_name": "FloatProgressModel",
            "_view_count": null,
            "_view_module": "@jupyter-widgets/controls",
            "_view_module_version": "1.5.0",
            "_view_name": "ProgressView",
            "bar_style": "success",
            "description": "",
            "description_tooltip": null,
            "layout": "IPY_MODEL_d17ddb0477214894a08f6af2e028b9a8",
            "max": 4,
            "min": 0,
            "orientation": "horizontal",
            "style": "IPY_MODEL_f30b767331274829b954cda1790eb70f",
            "value": 4
          }
        },
        "ea2b729c8d4549daa764754d46a8e3f1": {
          "model_module": "@jupyter-widgets/controls",
          "model_name": "HTMLModel",
          "model_module_version": "1.5.0",
          "state": {
            "_dom_classes": [],
            "_model_module": "@jupyter-widgets/controls",
            "_model_module_version": "1.5.0",
            "_model_name": "HTMLModel",
            "_view_count": null,
            "_view_module": "@jupyter-widgets/controls",
            "_view_module_version": "1.5.0",
            "_view_name": "HTMLView",
            "description": "",
            "description_tooltip": null,
            "layout": "IPY_MODEL_277468eee4644489903327d9e3590eb7",
            "placeholder": "​",
            "style": "IPY_MODEL_2b8ce9c77905402ab4e221940d46d73c",
            "value": " 4/4 [18:23&lt;00:00, 277.46s/it, perplexity=2.04e+5, sparsity_month=0, sparsity_tag=0.516]"
          }
        },
        "5a53c7f207b642b68113914fe30f50bf": {
          "model_module": "@jupyter-widgets/base",
          "model_name": "LayoutModel",
          "model_module_version": "1.2.0",
          "state": {
            "_model_module": "@jupyter-widgets/base",
            "_model_module_version": "1.2.0",
            "_model_name": "LayoutModel",
            "_view_count": null,
            "_view_module": "@jupyter-widgets/base",
            "_view_module_version": "1.2.0",
            "_view_name": "LayoutView",
            "align_content": null,
            "align_items": null,
            "align_self": null,
            "border": null,
            "bottom": null,
            "display": null,
            "flex": null,
            "flex_flow": null,
            "grid_area": null,
            "grid_auto_columns": null,
            "grid_auto_flow": null,
            "grid_auto_rows": null,
            "grid_column": null,
            "grid_gap": null,
            "grid_row": null,
            "grid_template_areas": null,
            "grid_template_columns": null,
            "grid_template_rows": null,
            "height": null,
            "justify_content": null,
            "justify_items": null,
            "left": null,
            "margin": null,
            "max_height": null,
            "max_width": null,
            "min_height": null,
            "min_width": null,
            "object_fit": null,
            "object_position": null,
            "order": null,
            "overflow": null,
            "overflow_x": null,
            "overflow_y": null,
            "padding": null,
            "right": null,
            "top": null,
            "visibility": null,
            "width": null
          }
        },
        "c6f82fd16e984363b2bf2ebec3d4876a": {
          "model_module": "@jupyter-widgets/base",
          "model_name": "LayoutModel",
          "model_module_version": "1.2.0",
          "state": {
            "_model_module": "@jupyter-widgets/base",
            "_model_module_version": "1.2.0",
            "_model_name": "LayoutModel",
            "_view_count": null,
            "_view_module": "@jupyter-widgets/base",
            "_view_module_version": "1.2.0",
            "_view_name": "LayoutView",
            "align_content": null,
            "align_items": null,
            "align_self": null,
            "border": null,
            "bottom": null,
            "display": null,
            "flex": null,
            "flex_flow": null,
            "grid_area": null,
            "grid_auto_columns": null,
            "grid_auto_flow": null,
            "grid_auto_rows": null,
            "grid_column": null,
            "grid_gap": null,
            "grid_row": null,
            "grid_template_areas": null,
            "grid_template_columns": null,
            "grid_template_rows": null,
            "height": null,
            "justify_content": null,
            "justify_items": null,
            "left": null,
            "margin": null,
            "max_height": null,
            "max_width": null,
            "min_height": null,
            "min_width": null,
            "object_fit": null,
            "object_position": null,
            "order": null,
            "overflow": null,
            "overflow_x": null,
            "overflow_y": null,
            "padding": null,
            "right": null,
            "top": null,
            "visibility": null,
            "width": null
          }
        },
        "c75c5a76c7094b51bae2a23146f24beb": {
          "model_module": "@jupyter-widgets/controls",
          "model_name": "DescriptionStyleModel",
          "model_module_version": "1.5.0",
          "state": {
            "_model_module": "@jupyter-widgets/controls",
            "_model_module_version": "1.5.0",
            "_model_name": "DescriptionStyleModel",
            "_view_count": null,
            "_view_module": "@jupyter-widgets/base",
            "_view_module_version": "1.2.0",
            "_view_name": "StyleView",
            "description_width": ""
          }
        },
        "d17ddb0477214894a08f6af2e028b9a8": {
          "model_module": "@jupyter-widgets/base",
          "model_name": "LayoutModel",
          "model_module_version": "1.2.0",
          "state": {
            "_model_module": "@jupyter-widgets/base",
            "_model_module_version": "1.2.0",
            "_model_name": "LayoutModel",
            "_view_count": null,
            "_view_module": "@jupyter-widgets/base",
            "_view_module_version": "1.2.0",
            "_view_name": "LayoutView",
            "align_content": null,
            "align_items": null,
            "align_self": null,
            "border": null,
            "bottom": null,
            "display": null,
            "flex": null,
            "flex_flow": null,
            "grid_area": null,
            "grid_auto_columns": null,
            "grid_auto_flow": null,
            "grid_auto_rows": null,
            "grid_column": null,
            "grid_gap": null,
            "grid_row": null,
            "grid_template_areas": null,
            "grid_template_columns": null,
            "grid_template_rows": null,
            "height": null,
            "justify_content": null,
            "justify_items": null,
            "left": null,
            "margin": null,
            "max_height": null,
            "max_width": null,
            "min_height": null,
            "min_width": null,
            "object_fit": null,
            "object_position": null,
            "order": null,
            "overflow": null,
            "overflow_x": null,
            "overflow_y": null,
            "padding": null,
            "right": null,
            "top": null,
            "visibility": null,
            "width": null
          }
        },
        "f30b767331274829b954cda1790eb70f": {
          "model_module": "@jupyter-widgets/controls",
          "model_name": "ProgressStyleModel",
          "model_module_version": "1.5.0",
          "state": {
            "_model_module": "@jupyter-widgets/controls",
            "_model_module_version": "1.5.0",
            "_model_name": "ProgressStyleModel",
            "_view_count": null,
            "_view_module": "@jupyter-widgets/base",
            "_view_module_version": "1.2.0",
            "_view_name": "StyleView",
            "bar_color": null,
            "description_width": ""
          }
        },
        "277468eee4644489903327d9e3590eb7": {
          "model_module": "@jupyter-widgets/base",
          "model_name": "LayoutModel",
          "model_module_version": "1.2.0",
          "state": {
            "_model_module": "@jupyter-widgets/base",
            "_model_module_version": "1.2.0",
            "_model_name": "LayoutModel",
            "_view_count": null,
            "_view_module": "@jupyter-widgets/base",
            "_view_module_version": "1.2.0",
            "_view_name": "LayoutView",
            "align_content": null,
            "align_items": null,
            "align_self": null,
            "border": null,
            "bottom": null,
            "display": null,
            "flex": null,
            "flex_flow": null,
            "grid_area": null,
            "grid_auto_columns": null,
            "grid_auto_flow": null,
            "grid_auto_rows": null,
            "grid_column": null,
            "grid_gap": null,
            "grid_row": null,
            "grid_template_areas": null,
            "grid_template_columns": null,
            "grid_template_rows": null,
            "height": null,
            "justify_content": null,
            "justify_items": null,
            "left": null,
            "margin": null,
            "max_height": null,
            "max_width": null,
            "min_height": null,
            "min_width": null,
            "object_fit": null,
            "object_position": null,
            "order": null,
            "overflow": null,
            "overflow_x": null,
            "overflow_y": null,
            "padding": null,
            "right": null,
            "top": null,
            "visibility": null,
            "width": null
          }
        },
        "2b8ce9c77905402ab4e221940d46d73c": {
          "model_module": "@jupyter-widgets/controls",
          "model_name": "DescriptionStyleModel",
          "model_module_version": "1.5.0",
          "state": {
            "_model_module": "@jupyter-widgets/controls",
            "_model_module_version": "1.5.0",
            "_model_name": "DescriptionStyleModel",
            "_view_count": null,
            "_view_module": "@jupyter-widgets/base",
            "_view_module_version": "1.2.0",
            "_view_name": "StyleView",
            "description_width": ""
          }
        },
        "66ed259aa2b34beba18babfd74223bff": {
          "model_module": "@jupyter-widgets/controls",
          "model_name": "HBoxModel",
          "model_module_version": "1.5.0",
          "state": {
            "_dom_classes": [],
            "_model_module": "@jupyter-widgets/controls",
            "_model_module_version": "1.5.0",
            "_model_name": "HBoxModel",
            "_view_count": null,
            "_view_module": "@jupyter-widgets/controls",
            "_view_module_version": "1.5.0",
            "_view_name": "HBoxView",
            "box_style": "",
            "children": [
              "IPY_MODEL_359d1b1bcd934f97bc72a9295188a093",
              "IPY_MODEL_c09927ba3ca44b9cb28ec44bad5f8a3b",
              "IPY_MODEL_03f59c6f59144aa4aafc91d88ad753e5"
            ],
            "layout": "IPY_MODEL_7d3fe783896240e686fbb445b7eacc2e"
          }
        },
        "359d1b1bcd934f97bc72a9295188a093": {
          "model_module": "@jupyter-widgets/controls",
          "model_name": "HTMLModel",
          "model_module_version": "1.5.0",
          "state": {
            "_dom_classes": [],
            "_model_module": "@jupyter-widgets/controls",
            "_model_module_version": "1.5.0",
            "_model_name": "HTMLModel",
            "_view_count": null,
            "_view_module": "@jupyter-widgets/controls",
            "_view_module_version": "1.5.0",
            "_view_name": "HTMLView",
            "description": "",
            "description_tooltip": null,
            "layout": "IPY_MODEL_5683071243424e55976dbffee8ec6d88",
            "placeholder": "​",
            "style": "IPY_MODEL_250528a9c4404079b0e3e1603ed8f4e5",
            "value": "100%"
          }
        },
        "c09927ba3ca44b9cb28ec44bad5f8a3b": {
          "model_module": "@jupyter-widgets/controls",
          "model_name": "FloatProgressModel",
          "model_module_version": "1.5.0",
          "state": {
            "_dom_classes": [],
            "_model_module": "@jupyter-widgets/controls",
            "_model_module_version": "1.5.0",
            "_model_name": "FloatProgressModel",
            "_view_count": null,
            "_view_module": "@jupyter-widgets/controls",
            "_view_module_version": "1.5.0",
            "_view_name": "ProgressView",
            "bar_style": "success",
            "description": "",
            "description_tooltip": null,
            "layout": "IPY_MODEL_f3eef92fd58340ea8a235a5389f7ac4a",
            "max": 6,
            "min": 0,
            "orientation": "horizontal",
            "style": "IPY_MODEL_16a08f77c1d749d7815368e31824eca3",
            "value": 6
          }
        },
        "03f59c6f59144aa4aafc91d88ad753e5": {
          "model_module": "@jupyter-widgets/controls",
          "model_name": "HTMLModel",
          "model_module_version": "1.5.0",
          "state": {
            "_dom_classes": [],
            "_model_module": "@jupyter-widgets/controls",
            "_model_module_version": "1.5.0",
            "_model_name": "HTMLModel",
            "_view_count": null,
            "_view_module": "@jupyter-widgets/controls",
            "_view_module_version": "1.5.0",
            "_view_name": "HTMLView",
            "description": "",
            "description_tooltip": null,
            "layout": "IPY_MODEL_ade64b93ed1d43caa5160cb724b0cfa8",
            "placeholder": "​",
            "style": "IPY_MODEL_6394abc3f6314874b9ee7c5b4afc14a4",
            "value": " 6/6 [28:10&lt;00:00, 279.03s/it, perplexity=1.23e+5, sparsity_month=1, sparsity_tag=0.988]"
          }
        },
        "7d3fe783896240e686fbb445b7eacc2e": {
          "model_module": "@jupyter-widgets/base",
          "model_name": "LayoutModel",
          "model_module_version": "1.2.0",
          "state": {
            "_model_module": "@jupyter-widgets/base",
            "_model_module_version": "1.2.0",
            "_model_name": "LayoutModel",
            "_view_count": null,
            "_view_module": "@jupyter-widgets/base",
            "_view_module_version": "1.2.0",
            "_view_name": "LayoutView",
            "align_content": null,
            "align_items": null,
            "align_self": null,
            "border": null,
            "bottom": null,
            "display": null,
            "flex": null,
            "flex_flow": null,
            "grid_area": null,
            "grid_auto_columns": null,
            "grid_auto_flow": null,
            "grid_auto_rows": null,
            "grid_column": null,
            "grid_gap": null,
            "grid_row": null,
            "grid_template_areas": null,
            "grid_template_columns": null,
            "grid_template_rows": null,
            "height": null,
            "justify_content": null,
            "justify_items": null,
            "left": null,
            "margin": null,
            "max_height": null,
            "max_width": null,
            "min_height": null,
            "min_width": null,
            "object_fit": null,
            "object_position": null,
            "order": null,
            "overflow": null,
            "overflow_x": null,
            "overflow_y": null,
            "padding": null,
            "right": null,
            "top": null,
            "visibility": null,
            "width": null
          }
        },
        "5683071243424e55976dbffee8ec6d88": {
          "model_module": "@jupyter-widgets/base",
          "model_name": "LayoutModel",
          "model_module_version": "1.2.0",
          "state": {
            "_model_module": "@jupyter-widgets/base",
            "_model_module_version": "1.2.0",
            "_model_name": "LayoutModel",
            "_view_count": null,
            "_view_module": "@jupyter-widgets/base",
            "_view_module_version": "1.2.0",
            "_view_name": "LayoutView",
            "align_content": null,
            "align_items": null,
            "align_self": null,
            "border": null,
            "bottom": null,
            "display": null,
            "flex": null,
            "flex_flow": null,
            "grid_area": null,
            "grid_auto_columns": null,
            "grid_auto_flow": null,
            "grid_auto_rows": null,
            "grid_column": null,
            "grid_gap": null,
            "grid_row": null,
            "grid_template_areas": null,
            "grid_template_columns": null,
            "grid_template_rows": null,
            "height": null,
            "justify_content": null,
            "justify_items": null,
            "left": null,
            "margin": null,
            "max_height": null,
            "max_width": null,
            "min_height": null,
            "min_width": null,
            "object_fit": null,
            "object_position": null,
            "order": null,
            "overflow": null,
            "overflow_x": null,
            "overflow_y": null,
            "padding": null,
            "right": null,
            "top": null,
            "visibility": null,
            "width": null
          }
        },
        "250528a9c4404079b0e3e1603ed8f4e5": {
          "model_module": "@jupyter-widgets/controls",
          "model_name": "DescriptionStyleModel",
          "model_module_version": "1.5.0",
          "state": {
            "_model_module": "@jupyter-widgets/controls",
            "_model_module_version": "1.5.0",
            "_model_name": "DescriptionStyleModel",
            "_view_count": null,
            "_view_module": "@jupyter-widgets/base",
            "_view_module_version": "1.2.0",
            "_view_name": "StyleView",
            "description_width": ""
          }
        },
        "f3eef92fd58340ea8a235a5389f7ac4a": {
          "model_module": "@jupyter-widgets/base",
          "model_name": "LayoutModel",
          "model_module_version": "1.2.0",
          "state": {
            "_model_module": "@jupyter-widgets/base",
            "_model_module_version": "1.2.0",
            "_model_name": "LayoutModel",
            "_view_count": null,
            "_view_module": "@jupyter-widgets/base",
            "_view_module_version": "1.2.0",
            "_view_name": "LayoutView",
            "align_content": null,
            "align_items": null,
            "align_self": null,
            "border": null,
            "bottom": null,
            "display": null,
            "flex": null,
            "flex_flow": null,
            "grid_area": null,
            "grid_auto_columns": null,
            "grid_auto_flow": null,
            "grid_auto_rows": null,
            "grid_column": null,
            "grid_gap": null,
            "grid_row": null,
            "grid_template_areas": null,
            "grid_template_columns": null,
            "grid_template_rows": null,
            "height": null,
            "justify_content": null,
            "justify_items": null,
            "left": null,
            "margin": null,
            "max_height": null,
            "max_width": null,
            "min_height": null,
            "min_width": null,
            "object_fit": null,
            "object_position": null,
            "order": null,
            "overflow": null,
            "overflow_x": null,
            "overflow_y": null,
            "padding": null,
            "right": null,
            "top": null,
            "visibility": null,
            "width": null
          }
        },
        "16a08f77c1d749d7815368e31824eca3": {
          "model_module": "@jupyter-widgets/controls",
          "model_name": "ProgressStyleModel",
          "model_module_version": "1.5.0",
          "state": {
            "_model_module": "@jupyter-widgets/controls",
            "_model_module_version": "1.5.0",
            "_model_name": "ProgressStyleModel",
            "_view_count": null,
            "_view_module": "@jupyter-widgets/base",
            "_view_module_version": "1.2.0",
            "_view_name": "StyleView",
            "bar_color": null,
            "description_width": ""
          }
        },
        "ade64b93ed1d43caa5160cb724b0cfa8": {
          "model_module": "@jupyter-widgets/base",
          "model_name": "LayoutModel",
          "model_module_version": "1.2.0",
          "state": {
            "_model_module": "@jupyter-widgets/base",
            "_model_module_version": "1.2.0",
            "_model_name": "LayoutModel",
            "_view_count": null,
            "_view_module": "@jupyter-widgets/base",
            "_view_module_version": "1.2.0",
            "_view_name": "LayoutView",
            "align_content": null,
            "align_items": null,
            "align_self": null,
            "border": null,
            "bottom": null,
            "display": null,
            "flex": null,
            "flex_flow": null,
            "grid_area": null,
            "grid_auto_columns": null,
            "grid_auto_flow": null,
            "grid_auto_rows": null,
            "grid_column": null,
            "grid_gap": null,
            "grid_row": null,
            "grid_template_areas": null,
            "grid_template_columns": null,
            "grid_template_rows": null,
            "height": null,
            "justify_content": null,
            "justify_items": null,
            "left": null,
            "margin": null,
            "max_height": null,
            "max_width": null,
            "min_height": null,
            "min_width": null,
            "object_fit": null,
            "object_position": null,
            "order": null,
            "overflow": null,
            "overflow_x": null,
            "overflow_y": null,
            "padding": null,
            "right": null,
            "top": null,
            "visibility": null,
            "width": null
          }
        },
        "6394abc3f6314874b9ee7c5b4afc14a4": {
          "model_module": "@jupyter-widgets/controls",
          "model_name": "DescriptionStyleModel",
          "model_module_version": "1.5.0",
          "state": {
            "_model_module": "@jupyter-widgets/controls",
            "_model_module_version": "1.5.0",
            "_model_name": "DescriptionStyleModel",
            "_view_count": null,
            "_view_module": "@jupyter-widgets/base",
            "_view_module_version": "1.2.0",
            "_view_name": "StyleView",
            "description_width": ""
          }
        },
        "88688799ec2d4b359eda5ae4f30a8f7d": {
          "model_module": "@jupyter-widgets/controls",
          "model_name": "HBoxModel",
          "model_module_version": "1.5.0",
          "state": {
            "_dom_classes": [],
            "_model_module": "@jupyter-widgets/controls",
            "_model_module_version": "1.5.0",
            "_model_name": "HBoxModel",
            "_view_count": null,
            "_view_module": "@jupyter-widgets/controls",
            "_view_module_version": "1.5.0",
            "_view_name": "HBoxView",
            "box_style": "",
            "children": [
              "IPY_MODEL_ec8c56687eea4fdfb7aeb9a25c8a6c5e",
              "IPY_MODEL_268f87a63d724ce9a90a9ec4b7cfa895",
              "IPY_MODEL_1f8c6ad7fd744b64bebff4d7aad64e17"
            ],
            "layout": "IPY_MODEL_0463cb72bc154382ba477ba764c3365d"
          }
        },
        "ec8c56687eea4fdfb7aeb9a25c8a6c5e": {
          "model_module": "@jupyter-widgets/controls",
          "model_name": "HTMLModel",
          "model_module_version": "1.5.0",
          "state": {
            "_dom_classes": [],
            "_model_module": "@jupyter-widgets/controls",
            "_model_module_version": "1.5.0",
            "_model_name": "HTMLModel",
            "_view_count": null,
            "_view_module": "@jupyter-widgets/controls",
            "_view_module_version": "1.5.0",
            "_view_name": "HTMLView",
            "description": "",
            "description_tooltip": null,
            "layout": "IPY_MODEL_be513fb3243c44a8b3dcacf52f8c7f15",
            "placeholder": "​",
            "style": "IPY_MODEL_7380be24d094418fa1d77f13cb31a5a5",
            "value": "  0%"
          }
        },
        "268f87a63d724ce9a90a9ec4b7cfa895": {
          "model_module": "@jupyter-widgets/controls",
          "model_name": "FloatProgressModel",
          "model_module_version": "1.5.0",
          "state": {
            "_dom_classes": [],
            "_model_module": "@jupyter-widgets/controls",
            "_model_module_version": "1.5.0",
            "_model_name": "FloatProgressModel",
            "_view_count": null,
            "_view_module": "@jupyter-widgets/controls",
            "_view_module_version": "1.5.0",
            "_view_name": "ProgressView",
            "bar_style": "danger",
            "description": "",
            "description_tooltip": null,
            "layout": "IPY_MODEL_1cabf8f370264ea98a3f20bdcf4bdc7a",
            "max": 653795,
            "min": 0,
            "orientation": "horizontal",
            "style": "IPY_MODEL_5d9aa68059c64f06a5ed9de1d5b1708e",
            "value": 0
          }
        },
        "1f8c6ad7fd744b64bebff4d7aad64e17": {
          "model_module": "@jupyter-widgets/controls",
          "model_name": "HTMLModel",
          "model_module_version": "1.5.0",
          "state": {
            "_dom_classes": [],
            "_model_module": "@jupyter-widgets/controls",
            "_model_module_version": "1.5.0",
            "_model_name": "HTMLModel",
            "_view_count": null,
            "_view_module": "@jupyter-widgets/controls",
            "_view_module_version": "1.5.0",
            "_view_name": "HTMLView",
            "description": "",
            "description_tooltip": null,
            "layout": "IPY_MODEL_546920a8d49c43dea55fcfcbb83aac6e",
            "placeholder": "​",
            "style": "IPY_MODEL_9ed7ddbd621c4e90bee3d16c3ab45372",
            "value": " 0/653795 [00:00&lt;?, ?it/s]"
          }
        },
        "0463cb72bc154382ba477ba764c3365d": {
          "model_module": "@jupyter-widgets/base",
          "model_name": "LayoutModel",
          "model_module_version": "1.2.0",
          "state": {
            "_model_module": "@jupyter-widgets/base",
            "_model_module_version": "1.2.0",
            "_model_name": "LayoutModel",
            "_view_count": null,
            "_view_module": "@jupyter-widgets/base",
            "_view_module_version": "1.2.0",
            "_view_name": "LayoutView",
            "align_content": null,
            "align_items": null,
            "align_self": null,
            "border": null,
            "bottom": null,
            "display": null,
            "flex": null,
            "flex_flow": null,
            "grid_area": null,
            "grid_auto_columns": null,
            "grid_auto_flow": null,
            "grid_auto_rows": null,
            "grid_column": null,
            "grid_gap": null,
            "grid_row": null,
            "grid_template_areas": null,
            "grid_template_columns": null,
            "grid_template_rows": null,
            "height": null,
            "justify_content": null,
            "justify_items": null,
            "left": null,
            "margin": null,
            "max_height": null,
            "max_width": null,
            "min_height": null,
            "min_width": null,
            "object_fit": null,
            "object_position": null,
            "order": null,
            "overflow": null,
            "overflow_x": null,
            "overflow_y": null,
            "padding": null,
            "right": null,
            "top": null,
            "visibility": null,
            "width": null
          }
        },
        "be513fb3243c44a8b3dcacf52f8c7f15": {
          "model_module": "@jupyter-widgets/base",
          "model_name": "LayoutModel",
          "model_module_version": "1.2.0",
          "state": {
            "_model_module": "@jupyter-widgets/base",
            "_model_module_version": "1.2.0",
            "_model_name": "LayoutModel",
            "_view_count": null,
            "_view_module": "@jupyter-widgets/base",
            "_view_module_version": "1.2.0",
            "_view_name": "LayoutView",
            "align_content": null,
            "align_items": null,
            "align_self": null,
            "border": null,
            "bottom": null,
            "display": null,
            "flex": null,
            "flex_flow": null,
            "grid_area": null,
            "grid_auto_columns": null,
            "grid_auto_flow": null,
            "grid_auto_rows": null,
            "grid_column": null,
            "grid_gap": null,
            "grid_row": null,
            "grid_template_areas": null,
            "grid_template_columns": null,
            "grid_template_rows": null,
            "height": null,
            "justify_content": null,
            "justify_items": null,
            "left": null,
            "margin": null,
            "max_height": null,
            "max_width": null,
            "min_height": null,
            "min_width": null,
            "object_fit": null,
            "object_position": null,
            "order": null,
            "overflow": null,
            "overflow_x": null,
            "overflow_y": null,
            "padding": null,
            "right": null,
            "top": null,
            "visibility": null,
            "width": null
          }
        },
        "7380be24d094418fa1d77f13cb31a5a5": {
          "model_module": "@jupyter-widgets/controls",
          "model_name": "DescriptionStyleModel",
          "model_module_version": "1.5.0",
          "state": {
            "_model_module": "@jupyter-widgets/controls",
            "_model_module_version": "1.5.0",
            "_model_name": "DescriptionStyleModel",
            "_view_count": null,
            "_view_module": "@jupyter-widgets/base",
            "_view_module_version": "1.2.0",
            "_view_name": "StyleView",
            "description_width": ""
          }
        },
        "1cabf8f370264ea98a3f20bdcf4bdc7a": {
          "model_module": "@jupyter-widgets/base",
          "model_name": "LayoutModel",
          "model_module_version": "1.2.0",
          "state": {
            "_model_module": "@jupyter-widgets/base",
            "_model_module_version": "1.2.0",
            "_model_name": "LayoutModel",
            "_view_count": null,
            "_view_module": "@jupyter-widgets/base",
            "_view_module_version": "1.2.0",
            "_view_name": "LayoutView",
            "align_content": null,
            "align_items": null,
            "align_self": null,
            "border": null,
            "bottom": null,
            "display": null,
            "flex": null,
            "flex_flow": null,
            "grid_area": null,
            "grid_auto_columns": null,
            "grid_auto_flow": null,
            "grid_auto_rows": null,
            "grid_column": null,
            "grid_gap": null,
            "grid_row": null,
            "grid_template_areas": null,
            "grid_template_columns": null,
            "grid_template_rows": null,
            "height": null,
            "justify_content": null,
            "justify_items": null,
            "left": null,
            "margin": null,
            "max_height": null,
            "max_width": null,
            "min_height": null,
            "min_width": null,
            "object_fit": null,
            "object_position": null,
            "order": null,
            "overflow": null,
            "overflow_x": null,
            "overflow_y": null,
            "padding": null,
            "right": null,
            "top": null,
            "visibility": null,
            "width": null
          }
        },
        "5d9aa68059c64f06a5ed9de1d5b1708e": {
          "model_module": "@jupyter-widgets/controls",
          "model_name": "ProgressStyleModel",
          "model_module_version": "1.5.0",
          "state": {
            "_model_module": "@jupyter-widgets/controls",
            "_model_module_version": "1.5.0",
            "_model_name": "ProgressStyleModel",
            "_view_count": null,
            "_view_module": "@jupyter-widgets/base",
            "_view_module_version": "1.2.0",
            "_view_name": "StyleView",
            "bar_color": null,
            "description_width": ""
          }
        },
        "546920a8d49c43dea55fcfcbb83aac6e": {
          "model_module": "@jupyter-widgets/base",
          "model_name": "LayoutModel",
          "model_module_version": "1.2.0",
          "state": {
            "_model_module": "@jupyter-widgets/base",
            "_model_module_version": "1.2.0",
            "_model_name": "LayoutModel",
            "_view_count": null,
            "_view_module": "@jupyter-widgets/base",
            "_view_module_version": "1.2.0",
            "_view_name": "LayoutView",
            "align_content": null,
            "align_items": null,
            "align_self": null,
            "border": null,
            "bottom": null,
            "display": null,
            "flex": null,
            "flex_flow": null,
            "grid_area": null,
            "grid_auto_columns": null,
            "grid_auto_flow": null,
            "grid_auto_rows": null,
            "grid_column": null,
            "grid_gap": null,
            "grid_row": null,
            "grid_template_areas": null,
            "grid_template_columns": null,
            "grid_template_rows": null,
            "height": null,
            "justify_content": null,
            "justify_items": null,
            "left": null,
            "margin": null,
            "max_height": null,
            "max_width": null,
            "min_height": null,
            "min_width": null,
            "object_fit": null,
            "object_position": null,
            "order": null,
            "overflow": null,
            "overflow_x": null,
            "overflow_y": null,
            "padding": null,
            "right": null,
            "top": null,
            "visibility": null,
            "width": null
          }
        },
        "9ed7ddbd621c4e90bee3d16c3ab45372": {
          "model_module": "@jupyter-widgets/controls",
          "model_name": "DescriptionStyleModel",
          "model_module_version": "1.5.0",
          "state": {
            "_model_module": "@jupyter-widgets/controls",
            "_model_module_version": "1.5.0",
            "_model_name": "DescriptionStyleModel",
            "_view_count": null,
            "_view_module": "@jupyter-widgets/base",
            "_view_module_version": "1.2.0",
            "_view_name": "StyleView",
            "description_width": ""
          }
        },
        "0430944d164342df99b4cb10b4d9489a": {
          "model_module": "@jupyter-widgets/controls",
          "model_name": "HBoxModel",
          "model_module_version": "1.5.0",
          "state": {
            "_dom_classes": [],
            "_model_module": "@jupyter-widgets/controls",
            "_model_module_version": "1.5.0",
            "_model_name": "HBoxModel",
            "_view_count": null,
            "_view_module": "@jupyter-widgets/controls",
            "_view_module_version": "1.5.0",
            "_view_name": "HBoxView",
            "box_style": "",
            "children": [
              "IPY_MODEL_4a9a3cd801a64007a4854fc18c5b419b",
              "IPY_MODEL_0a52226ea92c4d11a171054d5cde9167",
              "IPY_MODEL_c85de35eec3d40e2ba729f7f358bb1ff"
            ],
            "layout": "IPY_MODEL_2096728df1594fe29f37b2334ec7ef8c"
          }
        },
        "4a9a3cd801a64007a4854fc18c5b419b": {
          "model_module": "@jupyter-widgets/controls",
          "model_name": "HTMLModel",
          "model_module_version": "1.5.0",
          "state": {
            "_dom_classes": [],
            "_model_module": "@jupyter-widgets/controls",
            "_model_module_version": "1.5.0",
            "_model_name": "HTMLModel",
            "_view_count": null,
            "_view_module": "@jupyter-widgets/controls",
            "_view_module_version": "1.5.0",
            "_view_name": "HTMLView",
            "description": "",
            "description_tooltip": null,
            "layout": "IPY_MODEL_6702e1f34d2c4a04a5d137da6a84a7ca",
            "placeholder": "​",
            "style": "IPY_MODEL_c29d21853e3f4dc2a7272276f096bf22",
            "value": "100%"
          }
        },
        "0a52226ea92c4d11a171054d5cde9167": {
          "model_module": "@jupyter-widgets/controls",
          "model_name": "FloatProgressModel",
          "model_module_version": "1.5.0",
          "state": {
            "_dom_classes": [],
            "_model_module": "@jupyter-widgets/controls",
            "_model_module_version": "1.5.0",
            "_model_name": "FloatProgressModel",
            "_view_count": null,
            "_view_module": "@jupyter-widgets/controls",
            "_view_module_version": "1.5.0",
            "_view_name": "ProgressView",
            "bar_style": "success",
            "description": "",
            "description_tooltip": null,
            "layout": "IPY_MODEL_4f0de55ef1744b9b90d6f52b7f8c279f",
            "max": 6604,
            "min": 0,
            "orientation": "horizontal",
            "style": "IPY_MODEL_c42696dbf32644eda4590060b040ac6f",
            "value": 6604
          }
        },
        "c85de35eec3d40e2ba729f7f358bb1ff": {
          "model_module": "@jupyter-widgets/controls",
          "model_name": "HTMLModel",
          "model_module_version": "1.5.0",
          "state": {
            "_dom_classes": [],
            "_model_module": "@jupyter-widgets/controls",
            "_model_module_version": "1.5.0",
            "_model_name": "HTMLModel",
            "_view_count": null,
            "_view_module": "@jupyter-widgets/controls",
            "_view_module_version": "1.5.0",
            "_view_name": "HTMLView",
            "description": "",
            "description_tooltip": null,
            "layout": "IPY_MODEL_b8bd2988960144a3bdc860bd02e7e4e4",
            "placeholder": "​",
            "style": "IPY_MODEL_9ddef664af6b4f3094d2af40ad98e300",
            "value": " 6604/6604 [00:00&lt;00:00, 8785.77it/s]"
          }
        },
        "2096728df1594fe29f37b2334ec7ef8c": {
          "model_module": "@jupyter-widgets/base",
          "model_name": "LayoutModel",
          "model_module_version": "1.2.0",
          "state": {
            "_model_module": "@jupyter-widgets/base",
            "_model_module_version": "1.2.0",
            "_model_name": "LayoutModel",
            "_view_count": null,
            "_view_module": "@jupyter-widgets/base",
            "_view_module_version": "1.2.0",
            "_view_name": "LayoutView",
            "align_content": null,
            "align_items": null,
            "align_self": null,
            "border": null,
            "bottom": null,
            "display": null,
            "flex": null,
            "flex_flow": null,
            "grid_area": null,
            "grid_auto_columns": null,
            "grid_auto_flow": null,
            "grid_auto_rows": null,
            "grid_column": null,
            "grid_gap": null,
            "grid_row": null,
            "grid_template_areas": null,
            "grid_template_columns": null,
            "grid_template_rows": null,
            "height": null,
            "justify_content": null,
            "justify_items": null,
            "left": null,
            "margin": null,
            "max_height": null,
            "max_width": null,
            "min_height": null,
            "min_width": null,
            "object_fit": null,
            "object_position": null,
            "order": null,
            "overflow": null,
            "overflow_x": null,
            "overflow_y": null,
            "padding": null,
            "right": null,
            "top": null,
            "visibility": null,
            "width": null
          }
        },
        "6702e1f34d2c4a04a5d137da6a84a7ca": {
          "model_module": "@jupyter-widgets/base",
          "model_name": "LayoutModel",
          "model_module_version": "1.2.0",
          "state": {
            "_model_module": "@jupyter-widgets/base",
            "_model_module_version": "1.2.0",
            "_model_name": "LayoutModel",
            "_view_count": null,
            "_view_module": "@jupyter-widgets/base",
            "_view_module_version": "1.2.0",
            "_view_name": "LayoutView",
            "align_content": null,
            "align_items": null,
            "align_self": null,
            "border": null,
            "bottom": null,
            "display": null,
            "flex": null,
            "flex_flow": null,
            "grid_area": null,
            "grid_auto_columns": null,
            "grid_auto_flow": null,
            "grid_auto_rows": null,
            "grid_column": null,
            "grid_gap": null,
            "grid_row": null,
            "grid_template_areas": null,
            "grid_template_columns": null,
            "grid_template_rows": null,
            "height": null,
            "justify_content": null,
            "justify_items": null,
            "left": null,
            "margin": null,
            "max_height": null,
            "max_width": null,
            "min_height": null,
            "min_width": null,
            "object_fit": null,
            "object_position": null,
            "order": null,
            "overflow": null,
            "overflow_x": null,
            "overflow_y": null,
            "padding": null,
            "right": null,
            "top": null,
            "visibility": null,
            "width": null
          }
        },
        "c29d21853e3f4dc2a7272276f096bf22": {
          "model_module": "@jupyter-widgets/controls",
          "model_name": "DescriptionStyleModel",
          "model_module_version": "1.5.0",
          "state": {
            "_model_module": "@jupyter-widgets/controls",
            "_model_module_version": "1.5.0",
            "_model_name": "DescriptionStyleModel",
            "_view_count": null,
            "_view_module": "@jupyter-widgets/base",
            "_view_module_version": "1.2.0",
            "_view_name": "StyleView",
            "description_width": ""
          }
        },
        "4f0de55ef1744b9b90d6f52b7f8c279f": {
          "model_module": "@jupyter-widgets/base",
          "model_name": "LayoutModel",
          "model_module_version": "1.2.0",
          "state": {
            "_model_module": "@jupyter-widgets/base",
            "_model_module_version": "1.2.0",
            "_model_name": "LayoutModel",
            "_view_count": null,
            "_view_module": "@jupyter-widgets/base",
            "_view_module_version": "1.2.0",
            "_view_name": "LayoutView",
            "align_content": null,
            "align_items": null,
            "align_self": null,
            "border": null,
            "bottom": null,
            "display": null,
            "flex": null,
            "flex_flow": null,
            "grid_area": null,
            "grid_auto_columns": null,
            "grid_auto_flow": null,
            "grid_auto_rows": null,
            "grid_column": null,
            "grid_gap": null,
            "grid_row": null,
            "grid_template_areas": null,
            "grid_template_columns": null,
            "grid_template_rows": null,
            "height": null,
            "justify_content": null,
            "justify_items": null,
            "left": null,
            "margin": null,
            "max_height": null,
            "max_width": null,
            "min_height": null,
            "min_width": null,
            "object_fit": null,
            "object_position": null,
            "order": null,
            "overflow": null,
            "overflow_x": null,
            "overflow_y": null,
            "padding": null,
            "right": null,
            "top": null,
            "visibility": null,
            "width": null
          }
        },
        "c42696dbf32644eda4590060b040ac6f": {
          "model_module": "@jupyter-widgets/controls",
          "model_name": "ProgressStyleModel",
          "model_module_version": "1.5.0",
          "state": {
            "_model_module": "@jupyter-widgets/controls",
            "_model_module_version": "1.5.0",
            "_model_name": "ProgressStyleModel",
            "_view_count": null,
            "_view_module": "@jupyter-widgets/base",
            "_view_module_version": "1.2.0",
            "_view_name": "StyleView",
            "bar_color": null,
            "description_width": ""
          }
        },
        "b8bd2988960144a3bdc860bd02e7e4e4": {
          "model_module": "@jupyter-widgets/base",
          "model_name": "LayoutModel",
          "model_module_version": "1.2.0",
          "state": {
            "_model_module": "@jupyter-widgets/base",
            "_model_module_version": "1.2.0",
            "_model_name": "LayoutModel",
            "_view_count": null,
            "_view_module": "@jupyter-widgets/base",
            "_view_module_version": "1.2.0",
            "_view_name": "LayoutView",
            "align_content": null,
            "align_items": null,
            "align_self": null,
            "border": null,
            "bottom": null,
            "display": null,
            "flex": null,
            "flex_flow": null,
            "grid_area": null,
            "grid_auto_columns": null,
            "grid_auto_flow": null,
            "grid_auto_rows": null,
            "grid_column": null,
            "grid_gap": null,
            "grid_row": null,
            "grid_template_areas": null,
            "grid_template_columns": null,
            "grid_template_rows": null,
            "height": null,
            "justify_content": null,
            "justify_items": null,
            "left": null,
            "margin": null,
            "max_height": null,
            "max_width": null,
            "min_height": null,
            "min_width": null,
            "object_fit": null,
            "object_position": null,
            "order": null,
            "overflow": null,
            "overflow_x": null,
            "overflow_y": null,
            "padding": null,
            "right": null,
            "top": null,
            "visibility": null,
            "width": null
          }
        },
        "9ddef664af6b4f3094d2af40ad98e300": {
          "model_module": "@jupyter-widgets/controls",
          "model_name": "DescriptionStyleModel",
          "model_module_version": "1.5.0",
          "state": {
            "_model_module": "@jupyter-widgets/controls",
            "_model_module_version": "1.5.0",
            "_model_name": "DescriptionStyleModel",
            "_view_count": null,
            "_view_module": "@jupyter-widgets/base",
            "_view_module_version": "1.2.0",
            "_view_name": "StyleView",
            "description_width": ""
          }
        },
        "e2f7d93f4fcc4268a7d688866435ec1e": {
          "model_module": "@jupyter-widgets/controls",
          "model_name": "HBoxModel",
          "model_module_version": "1.5.0",
          "state": {
            "_dom_classes": [],
            "_model_module": "@jupyter-widgets/controls",
            "_model_module_version": "1.5.0",
            "_model_name": "HBoxModel",
            "_view_count": null,
            "_view_module": "@jupyter-widgets/controls",
            "_view_module_version": "1.5.0",
            "_view_name": "HBoxView",
            "box_style": "",
            "children": [
              "IPY_MODEL_414c248286d0458e929e2a1bd40d914e",
              "IPY_MODEL_fdb40754e285454ca76f210ebc40cce2",
              "IPY_MODEL_4a7b559edb2942e1a8f86aeb55a615e9"
            ],
            "layout": "IPY_MODEL_1e893c9839da4f55a5ee9637a64b7da1"
          }
        },
        "414c248286d0458e929e2a1bd40d914e": {
          "model_module": "@jupyter-widgets/controls",
          "model_name": "HTMLModel",
          "model_module_version": "1.5.0",
          "state": {
            "_dom_classes": [],
            "_model_module": "@jupyter-widgets/controls",
            "_model_module_version": "1.5.0",
            "_model_name": "HTMLModel",
            "_view_count": null,
            "_view_module": "@jupyter-widgets/controls",
            "_view_module_version": "1.5.0",
            "_view_name": "HTMLView",
            "description": "",
            "description_tooltip": null,
            "layout": "IPY_MODEL_b83452cef40e453bac56af72b36fed33",
            "placeholder": "​",
            "style": "IPY_MODEL_fd2abbdcbd694b78b3a56876d8ab8415",
            "value": "  0%"
          }
        },
        "fdb40754e285454ca76f210ebc40cce2": {
          "model_module": "@jupyter-widgets/controls",
          "model_name": "FloatProgressModel",
          "model_module_version": "1.5.0",
          "state": {
            "_dom_classes": [],
            "_model_module": "@jupyter-widgets/controls",
            "_model_module_version": "1.5.0",
            "_model_name": "FloatProgressModel",
            "_view_count": null,
            "_view_module": "@jupyter-widgets/controls",
            "_view_module_version": "1.5.0",
            "_view_name": "ProgressView",
            "bar_style": "danger",
            "description": "",
            "description_tooltip": null,
            "layout": "IPY_MODEL_19cf191b0d67451f93a9e5764b041b47",
            "max": 653795,
            "min": 0,
            "orientation": "horizontal",
            "style": "IPY_MODEL_21ffaa64b9c945c9b198e51a3de9eccd",
            "value": 0
          }
        },
        "4a7b559edb2942e1a8f86aeb55a615e9": {
          "model_module": "@jupyter-widgets/controls",
          "model_name": "HTMLModel",
          "model_module_version": "1.5.0",
          "state": {
            "_dom_classes": [],
            "_model_module": "@jupyter-widgets/controls",
            "_model_module_version": "1.5.0",
            "_model_name": "HTMLModel",
            "_view_count": null,
            "_view_module": "@jupyter-widgets/controls",
            "_view_module_version": "1.5.0",
            "_view_name": "HTMLView",
            "description": "",
            "description_tooltip": null,
            "layout": "IPY_MODEL_0e9e49731d71448097bf2c5a17a837cf",
            "placeholder": "​",
            "style": "IPY_MODEL_813b9eaffd704801b0928bc9d1456481",
            "value": " 0/653795 [00:00&lt;?, ?it/s]"
          }
        },
        "1e893c9839da4f55a5ee9637a64b7da1": {
          "model_module": "@jupyter-widgets/base",
          "model_name": "LayoutModel",
          "model_module_version": "1.2.0",
          "state": {
            "_model_module": "@jupyter-widgets/base",
            "_model_module_version": "1.2.0",
            "_model_name": "LayoutModel",
            "_view_count": null,
            "_view_module": "@jupyter-widgets/base",
            "_view_module_version": "1.2.0",
            "_view_name": "LayoutView",
            "align_content": null,
            "align_items": null,
            "align_self": null,
            "border": null,
            "bottom": null,
            "display": null,
            "flex": null,
            "flex_flow": null,
            "grid_area": null,
            "grid_auto_columns": null,
            "grid_auto_flow": null,
            "grid_auto_rows": null,
            "grid_column": null,
            "grid_gap": null,
            "grid_row": null,
            "grid_template_areas": null,
            "grid_template_columns": null,
            "grid_template_rows": null,
            "height": null,
            "justify_content": null,
            "justify_items": null,
            "left": null,
            "margin": null,
            "max_height": null,
            "max_width": null,
            "min_height": null,
            "min_width": null,
            "object_fit": null,
            "object_position": null,
            "order": null,
            "overflow": null,
            "overflow_x": null,
            "overflow_y": null,
            "padding": null,
            "right": null,
            "top": null,
            "visibility": null,
            "width": null
          }
        },
        "b83452cef40e453bac56af72b36fed33": {
          "model_module": "@jupyter-widgets/base",
          "model_name": "LayoutModel",
          "model_module_version": "1.2.0",
          "state": {
            "_model_module": "@jupyter-widgets/base",
            "_model_module_version": "1.2.0",
            "_model_name": "LayoutModel",
            "_view_count": null,
            "_view_module": "@jupyter-widgets/base",
            "_view_module_version": "1.2.0",
            "_view_name": "LayoutView",
            "align_content": null,
            "align_items": null,
            "align_self": null,
            "border": null,
            "bottom": null,
            "display": null,
            "flex": null,
            "flex_flow": null,
            "grid_area": null,
            "grid_auto_columns": null,
            "grid_auto_flow": null,
            "grid_auto_rows": null,
            "grid_column": null,
            "grid_gap": null,
            "grid_row": null,
            "grid_template_areas": null,
            "grid_template_columns": null,
            "grid_template_rows": null,
            "height": null,
            "justify_content": null,
            "justify_items": null,
            "left": null,
            "margin": null,
            "max_height": null,
            "max_width": null,
            "min_height": null,
            "min_width": null,
            "object_fit": null,
            "object_position": null,
            "order": null,
            "overflow": null,
            "overflow_x": null,
            "overflow_y": null,
            "padding": null,
            "right": null,
            "top": null,
            "visibility": null,
            "width": null
          }
        },
        "fd2abbdcbd694b78b3a56876d8ab8415": {
          "model_module": "@jupyter-widgets/controls",
          "model_name": "DescriptionStyleModel",
          "model_module_version": "1.5.0",
          "state": {
            "_model_module": "@jupyter-widgets/controls",
            "_model_module_version": "1.5.0",
            "_model_name": "DescriptionStyleModel",
            "_view_count": null,
            "_view_module": "@jupyter-widgets/base",
            "_view_module_version": "1.2.0",
            "_view_name": "StyleView",
            "description_width": ""
          }
        },
        "19cf191b0d67451f93a9e5764b041b47": {
          "model_module": "@jupyter-widgets/base",
          "model_name": "LayoutModel",
          "model_module_version": "1.2.0",
          "state": {
            "_model_module": "@jupyter-widgets/base",
            "_model_module_version": "1.2.0",
            "_model_name": "LayoutModel",
            "_view_count": null,
            "_view_module": "@jupyter-widgets/base",
            "_view_module_version": "1.2.0",
            "_view_name": "LayoutView",
            "align_content": null,
            "align_items": null,
            "align_self": null,
            "border": null,
            "bottom": null,
            "display": null,
            "flex": null,
            "flex_flow": null,
            "grid_area": null,
            "grid_auto_columns": null,
            "grid_auto_flow": null,
            "grid_auto_rows": null,
            "grid_column": null,
            "grid_gap": null,
            "grid_row": null,
            "grid_template_areas": null,
            "grid_template_columns": null,
            "grid_template_rows": null,
            "height": null,
            "justify_content": null,
            "justify_items": null,
            "left": null,
            "margin": null,
            "max_height": null,
            "max_width": null,
            "min_height": null,
            "min_width": null,
            "object_fit": null,
            "object_position": null,
            "order": null,
            "overflow": null,
            "overflow_x": null,
            "overflow_y": null,
            "padding": null,
            "right": null,
            "top": null,
            "visibility": null,
            "width": null
          }
        },
        "21ffaa64b9c945c9b198e51a3de9eccd": {
          "model_module": "@jupyter-widgets/controls",
          "model_name": "ProgressStyleModel",
          "model_module_version": "1.5.0",
          "state": {
            "_model_module": "@jupyter-widgets/controls",
            "_model_module_version": "1.5.0",
            "_model_name": "ProgressStyleModel",
            "_view_count": null,
            "_view_module": "@jupyter-widgets/base",
            "_view_module_version": "1.2.0",
            "_view_name": "StyleView",
            "bar_color": null,
            "description_width": ""
          }
        },
        "0e9e49731d71448097bf2c5a17a837cf": {
          "model_module": "@jupyter-widgets/base",
          "model_name": "LayoutModel",
          "model_module_version": "1.2.0",
          "state": {
            "_model_module": "@jupyter-widgets/base",
            "_model_module_version": "1.2.0",
            "_model_name": "LayoutModel",
            "_view_count": null,
            "_view_module": "@jupyter-widgets/base",
            "_view_module_version": "1.2.0",
            "_view_name": "LayoutView",
            "align_content": null,
            "align_items": null,
            "align_self": null,
            "border": null,
            "bottom": null,
            "display": null,
            "flex": null,
            "flex_flow": null,
            "grid_area": null,
            "grid_auto_columns": null,
            "grid_auto_flow": null,
            "grid_auto_rows": null,
            "grid_column": null,
            "grid_gap": null,
            "grid_row": null,
            "grid_template_areas": null,
            "grid_template_columns": null,
            "grid_template_rows": null,
            "height": null,
            "justify_content": null,
            "justify_items": null,
            "left": null,
            "margin": null,
            "max_height": null,
            "max_width": null,
            "min_height": null,
            "min_width": null,
            "object_fit": null,
            "object_position": null,
            "order": null,
            "overflow": null,
            "overflow_x": null,
            "overflow_y": null,
            "padding": null,
            "right": null,
            "top": null,
            "visibility": null,
            "width": null
          }
        },
        "813b9eaffd704801b0928bc9d1456481": {
          "model_module": "@jupyter-widgets/controls",
          "model_name": "DescriptionStyleModel",
          "model_module_version": "1.5.0",
          "state": {
            "_model_module": "@jupyter-widgets/controls",
            "_model_module_version": "1.5.0",
            "_model_name": "DescriptionStyleModel",
            "_view_count": null,
            "_view_module": "@jupyter-widgets/base",
            "_view_module_version": "1.2.0",
            "_view_name": "StyleView",
            "description_width": ""
          }
        },
        "2956668951f24c838d84400127839ab6": {
          "model_module": "@jupyter-widgets/controls",
          "model_name": "HBoxModel",
          "model_module_version": "1.5.0",
          "state": {
            "_dom_classes": [],
            "_model_module": "@jupyter-widgets/controls",
            "_model_module_version": "1.5.0",
            "_model_name": "HBoxModel",
            "_view_count": null,
            "_view_module": "@jupyter-widgets/controls",
            "_view_module_version": "1.5.0",
            "_view_name": "HBoxView",
            "box_style": "",
            "children": [
              "IPY_MODEL_5b99050b760b488aa19784ef879f061f",
              "IPY_MODEL_9f631e01afcb487c8c606a2e35c1ab9b",
              "IPY_MODEL_6738a9711ea845fdb0dd4425196687e9"
            ],
            "layout": "IPY_MODEL_71a15dd56c7e49419735afb6b7b2863d"
          }
        },
        "5b99050b760b488aa19784ef879f061f": {
          "model_module": "@jupyter-widgets/controls",
          "model_name": "HTMLModel",
          "model_module_version": "1.5.0",
          "state": {
            "_dom_classes": [],
            "_model_module": "@jupyter-widgets/controls",
            "_model_module_version": "1.5.0",
            "_model_name": "HTMLModel",
            "_view_count": null,
            "_view_module": "@jupyter-widgets/controls",
            "_view_module_version": "1.5.0",
            "_view_name": "HTMLView",
            "description": "",
            "description_tooltip": null,
            "layout": "IPY_MODEL_5d3f5cb61b3743328237ccfd987843a5",
            "placeholder": "​",
            "style": "IPY_MODEL_aab9b81b60b24fa3a417e8e25cda07ca",
            "value": "  0%"
          }
        },
        "9f631e01afcb487c8c606a2e35c1ab9b": {
          "model_module": "@jupyter-widgets/controls",
          "model_name": "FloatProgressModel",
          "model_module_version": "1.5.0",
          "state": {
            "_dom_classes": [],
            "_model_module": "@jupyter-widgets/controls",
            "_model_module_version": "1.5.0",
            "_model_name": "FloatProgressModel",
            "_view_count": null,
            "_view_module": "@jupyter-widgets/controls",
            "_view_module_version": "1.5.0",
            "_view_name": "ProgressView",
            "bar_style": "danger",
            "description": "",
            "description_tooltip": null,
            "layout": "IPY_MODEL_26fbc21d5d464ceebaba532ecca274ae",
            "max": 653795,
            "min": 0,
            "orientation": "horizontal",
            "style": "IPY_MODEL_9dc9a53ff1cc4072ae4c0e6b72fdf808",
            "value": 0
          }
        },
        "6738a9711ea845fdb0dd4425196687e9": {
          "model_module": "@jupyter-widgets/controls",
          "model_name": "HTMLModel",
          "model_module_version": "1.5.0",
          "state": {
            "_dom_classes": [],
            "_model_module": "@jupyter-widgets/controls",
            "_model_module_version": "1.5.0",
            "_model_name": "HTMLModel",
            "_view_count": null,
            "_view_module": "@jupyter-widgets/controls",
            "_view_module_version": "1.5.0",
            "_view_name": "HTMLView",
            "description": "",
            "description_tooltip": null,
            "layout": "IPY_MODEL_aafc8047004a46b18c1aefe3e7f7de26",
            "placeholder": "​",
            "style": "IPY_MODEL_879aaec595014d7e8f316b890af68e64",
            "value": " 0/653795 [00:00&lt;?, ?it/s]"
          }
        },
        "71a15dd56c7e49419735afb6b7b2863d": {
          "model_module": "@jupyter-widgets/base",
          "model_name": "LayoutModel",
          "model_module_version": "1.2.0",
          "state": {
            "_model_module": "@jupyter-widgets/base",
            "_model_module_version": "1.2.0",
            "_model_name": "LayoutModel",
            "_view_count": null,
            "_view_module": "@jupyter-widgets/base",
            "_view_module_version": "1.2.0",
            "_view_name": "LayoutView",
            "align_content": null,
            "align_items": null,
            "align_self": null,
            "border": null,
            "bottom": null,
            "display": null,
            "flex": null,
            "flex_flow": null,
            "grid_area": null,
            "grid_auto_columns": null,
            "grid_auto_flow": null,
            "grid_auto_rows": null,
            "grid_column": null,
            "grid_gap": null,
            "grid_row": null,
            "grid_template_areas": null,
            "grid_template_columns": null,
            "grid_template_rows": null,
            "height": null,
            "justify_content": null,
            "justify_items": null,
            "left": null,
            "margin": null,
            "max_height": null,
            "max_width": null,
            "min_height": null,
            "min_width": null,
            "object_fit": null,
            "object_position": null,
            "order": null,
            "overflow": null,
            "overflow_x": null,
            "overflow_y": null,
            "padding": null,
            "right": null,
            "top": null,
            "visibility": null,
            "width": null
          }
        },
        "5d3f5cb61b3743328237ccfd987843a5": {
          "model_module": "@jupyter-widgets/base",
          "model_name": "LayoutModel",
          "model_module_version": "1.2.0",
          "state": {
            "_model_module": "@jupyter-widgets/base",
            "_model_module_version": "1.2.0",
            "_model_name": "LayoutModel",
            "_view_count": null,
            "_view_module": "@jupyter-widgets/base",
            "_view_module_version": "1.2.0",
            "_view_name": "LayoutView",
            "align_content": null,
            "align_items": null,
            "align_self": null,
            "border": null,
            "bottom": null,
            "display": null,
            "flex": null,
            "flex_flow": null,
            "grid_area": null,
            "grid_auto_columns": null,
            "grid_auto_flow": null,
            "grid_auto_rows": null,
            "grid_column": null,
            "grid_gap": null,
            "grid_row": null,
            "grid_template_areas": null,
            "grid_template_columns": null,
            "grid_template_rows": null,
            "height": null,
            "justify_content": null,
            "justify_items": null,
            "left": null,
            "margin": null,
            "max_height": null,
            "max_width": null,
            "min_height": null,
            "min_width": null,
            "object_fit": null,
            "object_position": null,
            "order": null,
            "overflow": null,
            "overflow_x": null,
            "overflow_y": null,
            "padding": null,
            "right": null,
            "top": null,
            "visibility": null,
            "width": null
          }
        },
        "aab9b81b60b24fa3a417e8e25cda07ca": {
          "model_module": "@jupyter-widgets/controls",
          "model_name": "DescriptionStyleModel",
          "model_module_version": "1.5.0",
          "state": {
            "_model_module": "@jupyter-widgets/controls",
            "_model_module_version": "1.5.0",
            "_model_name": "DescriptionStyleModel",
            "_view_count": null,
            "_view_module": "@jupyter-widgets/base",
            "_view_module_version": "1.2.0",
            "_view_name": "StyleView",
            "description_width": ""
          }
        },
        "26fbc21d5d464ceebaba532ecca274ae": {
          "model_module": "@jupyter-widgets/base",
          "model_name": "LayoutModel",
          "model_module_version": "1.2.0",
          "state": {
            "_model_module": "@jupyter-widgets/base",
            "_model_module_version": "1.2.0",
            "_model_name": "LayoutModel",
            "_view_count": null,
            "_view_module": "@jupyter-widgets/base",
            "_view_module_version": "1.2.0",
            "_view_name": "LayoutView",
            "align_content": null,
            "align_items": null,
            "align_self": null,
            "border": null,
            "bottom": null,
            "display": null,
            "flex": null,
            "flex_flow": null,
            "grid_area": null,
            "grid_auto_columns": null,
            "grid_auto_flow": null,
            "grid_auto_rows": null,
            "grid_column": null,
            "grid_gap": null,
            "grid_row": null,
            "grid_template_areas": null,
            "grid_template_columns": null,
            "grid_template_rows": null,
            "height": null,
            "justify_content": null,
            "justify_items": null,
            "left": null,
            "margin": null,
            "max_height": null,
            "max_width": null,
            "min_height": null,
            "min_width": null,
            "object_fit": null,
            "object_position": null,
            "order": null,
            "overflow": null,
            "overflow_x": null,
            "overflow_y": null,
            "padding": null,
            "right": null,
            "top": null,
            "visibility": null,
            "width": null
          }
        },
        "9dc9a53ff1cc4072ae4c0e6b72fdf808": {
          "model_module": "@jupyter-widgets/controls",
          "model_name": "ProgressStyleModel",
          "model_module_version": "1.5.0",
          "state": {
            "_model_module": "@jupyter-widgets/controls",
            "_model_module_version": "1.5.0",
            "_model_name": "ProgressStyleModel",
            "_view_count": null,
            "_view_module": "@jupyter-widgets/base",
            "_view_module_version": "1.2.0",
            "_view_name": "StyleView",
            "bar_color": null,
            "description_width": ""
          }
        },
        "aafc8047004a46b18c1aefe3e7f7de26": {
          "model_module": "@jupyter-widgets/base",
          "model_name": "LayoutModel",
          "model_module_version": "1.2.0",
          "state": {
            "_model_module": "@jupyter-widgets/base",
            "_model_module_version": "1.2.0",
            "_model_name": "LayoutModel",
            "_view_count": null,
            "_view_module": "@jupyter-widgets/base",
            "_view_module_version": "1.2.0",
            "_view_name": "LayoutView",
            "align_content": null,
            "align_items": null,
            "align_self": null,
            "border": null,
            "bottom": null,
            "display": null,
            "flex": null,
            "flex_flow": null,
            "grid_area": null,
            "grid_auto_columns": null,
            "grid_auto_flow": null,
            "grid_auto_rows": null,
            "grid_column": null,
            "grid_gap": null,
            "grid_row": null,
            "grid_template_areas": null,
            "grid_template_columns": null,
            "grid_template_rows": null,
            "height": null,
            "justify_content": null,
            "justify_items": null,
            "left": null,
            "margin": null,
            "max_height": null,
            "max_width": null,
            "min_height": null,
            "min_width": null,
            "object_fit": null,
            "object_position": null,
            "order": null,
            "overflow": null,
            "overflow_x": null,
            "overflow_y": null,
            "padding": null,
            "right": null,
            "top": null,
            "visibility": null,
            "width": null
          }
        },
        "879aaec595014d7e8f316b890af68e64": {
          "model_module": "@jupyter-widgets/controls",
          "model_name": "DescriptionStyleModel",
          "model_module_version": "1.5.0",
          "state": {
            "_model_module": "@jupyter-widgets/controls",
            "_model_module_version": "1.5.0",
            "_model_name": "DescriptionStyleModel",
            "_view_count": null,
            "_view_module": "@jupyter-widgets/base",
            "_view_module_version": "1.2.0",
            "_view_name": "StyleView",
            "description_width": ""
          }
        }
      }
    }
  },
  "nbformat": 4,
  "nbformat_minor": 0
}